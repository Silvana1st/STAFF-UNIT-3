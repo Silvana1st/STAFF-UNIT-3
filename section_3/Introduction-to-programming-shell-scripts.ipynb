{
 "cells": [
  {
   "cell_type": "markdown",
   "metadata": {
    "solution": "hidden"
   },
   "source": [
    "<img src=\"https://github.com/i3hsInnovation/resources/blob/7f7f7b810a6cfc2b3deb8740e26b25bd05727918/images/banner_introProg.png?raw=true\" width=\"100%\" align=\"left\" />"
   ]
  },
  {
   "cell_type": "markdown",
   "metadata": {},
   "source": [
    "<table style=\"float:right\" width=\"50%\">\n",
    "    <tr>\n",
    "        <td>                      \n",
    "            <div style=\"text-align: left\"><a href=\"\" target=\"_blank\">Dr Peter Causey-Freeman</a></div>\n",
    "            <div style=\"text-align: left\">Lecturer - Healthcare Sciences</div>\n",
    "            <div style=\"text-align: left\">(Clinical Bioinformatics)</div>\n",
    "            <div style=\"text-align: left\">The University of Manchester</div>\n",
    "         </td>\n",
    "         <td>\n",
    "             <img src=\"https://github.com/i3hsInnovation/resources/blob/master/images/pete.001.png?raw=true\" width=\"30%\" />\n",
    "         </td>\n",
    "     </tr>\n",
    "</table>"
   ]
  },
  {
   "cell_type": "markdown",
   "metadata": {},
   "source": [
    "# Introduction to Programming with Shell Scripts"
   ]
  },
  {
   "cell_type": "markdown",
   "metadata": {},
   "source": [
    "****"
   ]
  },
  {
   "cell_type": "markdown",
   "metadata": {},
   "source": [
    "#### About this Notebook\n",
    "This notebook will help you learn how to connect commands together using pipes and filters and develop shell scripts to analyse biological data. It will introduce how to write a basic shell script which parses an alignment file to return information about the alignment to see if it is \"gapped\". As the alignments between transcrips and chromosomes are often misunderstood we will explore them in detail within this notebook.\n",
    "\n",
    "This notebook is at <code>Beginner</code> level and will take approximately 2 - 3 hours to complete."
   ]
  },
  {
   "cell_type": "code",
   "execution_count": 1,
   "metadata": {
    "cell_style": "center",
    "hide_input": true,
    "init_cell": true,
    "scrolled": true
   },
   "outputs": [
    {
     "data": {
      "image/jpeg": "[encoded data removed]",
      "text/html": [
       "\n",
       "        <iframe\n",
       "            width=\"560\"\n",
       "            height=\"315\"\n",
       "            src=\"https://www.youtube.com/embed/C8y8gZpJzXI\"\n",
       "            frameborder=\"0\"\n",
       "            allowfullscreen\n",
       "        ></iframe>\n",
       "        "
      ],
      "text/plain": [
       "<IPython.lib.display.YouTubeVideo at 0x1fab5657710>"
      ]
     },
     "execution_count": 1,
     "metadata": {},
     "output_type": "execute_result"
    }
   ],
   "source": [
    "#%%html\n",
    "# <iframe width=\"560\" height=\"315\" src=\"https://www.youtube.com/embed/C8y8gZpJzXI\"></iframe>\n",
    "from IPython.display import YouTubeVideo\n",
    "# Youtube\n",
    "YouTubeVideo('C8y8gZpJzXI', width=560, height=315)"
   ]
  },
  {
   "cell_type": "markdown",
   "metadata": {},
   "source": [
    "<div class=\"alert alert-block alert-warning\"><b>Learning Objectives:</b> <br/>\n",
    "    <ul>\n",
    "        <li>Express an understanding of the basic principles shell scripting</li> \n",
    "        <li>Explain\tthe reasoning behind the use of shell scripting</li>\n",
    "        <li>Create your own basic shell script</li>\n",
    "        <li>Explore alignments between a transcript reference sequence and a chromosome reference sequence that are contained in alignment files</li>\n",
    "        <li>Describe why gaps sometimes exist in the alignments</li>         \n",
    "    </ul>\n",
    "</div>"
   ]
  },
  {
   "cell_type": "markdown",
   "metadata": {},
   "source": [
    "<b>Contents</b>\n",
    "<a id=\"top\"></a>"
   ]
  },
  {
   "cell_type": "markdown",
   "metadata": {
    "solution": "hidden"
   },
   "source": [
    "<ul style=\"list-style:none;\">\n",
    "<li>1.0 <a href=\"#intro\">Introduction</a></li>\n",
    "<li>2.0 <a href=\"#shell\">What is Shell Scripting?</a></li>    \n",
    "<li>3.0 <a href=\"#variables\">Variables</a></li>\n",
    "<li>4.0 <a href=\"#conditional\">Conditional statements</a></li>\n",
    "<li>5.0 <a href=\"#forloops\">For Loops</a></li> \n",
    "<li>6.0 <a href=\"#functions\">Functions</a></li> \n",
    "<li>7.0 <a href=\"#positional\">Positional Arguments</a></li> \n"
   ]
  },
  {
   "cell_type": "markdown",
   "metadata": {},
   "source": [
    "<a name=\"intro\"></a>\n",
    "### 1.0 Introduction"
   ]
  },
  {
   "cell_type": "markdown",
   "metadata": {},
   "source": [
    "This notebook blends a video tutorial which teaches the basics of shell scripting with practical applications related to bioinformatics and the understanding of shell commands. The full video course can be found [here](https://hackersploit.org/bash-scripting/)\n",
    "\n",
    "#### Running shell commands in a Jupyter notebook\n",
    "\n",
    "Jupyter notebooks utilise a Python interpreter. This notebook uses the interpreter in the Python environment from which it is being run. The following code shippet shows this."
   ]
  },
  {
   "cell_type": "code",
   "execution_count": 11,
   "metadata": {},
   "outputs": [
    {
     "name": "stdout",
     "output_type": "stream",
     "text": [
      "C:\\Users\\mbxssfh3\\AppData\\Local\\Continuum\\anaconda3\\python.exe\n"
     ]
    }
   ],
   "source": [
    "# Using the native Python interpreter to display the location of the utilised python.exe\n",
    "from distutils.spawn import find_executable\n",
    "print(find_executable('python'))"
   ]
  },
  {
   "cell_type": "markdown",
   "metadata": {},
   "source": [
    "What you will notice is that we need to import modules and use imported functions to perform what is a very simple task. We can perform this task using bash in a single simple command\n",
    "\n",
    "```bash\n",
    "$ which python\n",
    "```\n",
    "So, how can we run this command from within this notebook? Thankfully the Jupyter team have provided a way of doing this. We can use the python interpreter used by the notebook like this\n",
    "\n",
    "```python\n",
    "! which python\n",
    "```\n",
    "\n",
    "**Try it out**"
   ]
  },
  {
   "cell_type": "code",
   "execution_count": 12,
   "metadata": {},
   "outputs": [
    {
     "name": "stderr",
     "output_type": "stream",
     "text": [
      "'which' is not recognized as an internal or external command,\n",
      "operable program or batch file.\n"
     ]
    }
   ],
   "source": [
    "! which python"
   ]
  },
  {
   "cell_type": "markdown",
   "metadata": {
    "solution": "hidden"
   },
   "source": [
    "[Return to top](#top)\n",
    "\n",
    "-------------\n",
    "\n",
    "### 2.0 What is Shell Scripting?"
   ]
  },
  {
   "cell_type": "markdown",
   "metadata": {
    "hide_input": true
   },
   "source": [
    "This video is a nice short introduction to shell scripting and covers several core themes:\n",
    "- What are bash scripts?\n",
    "- The difference between bash scripting and Python scripting\n",
    "- What is bash scripting good for?\n",
    "- How the scripts handle data\n",
    "- An example of a simple script\n",
    "- What is the interpreter used by a script (The shebang)\n",
    "- Why we need to specify a specific interpreter in an executable script"
   ]
  },
  {
   "cell_type": "code",
   "execution_count": 2,
   "metadata": {
    "hide_input": true,
    "init_cell": true,
    "scrolled": false
   },
   "outputs": [
    {
     "data": {
      "image/jpeg": "[encoded data removed]",
      "text/html": [
       "\n",
       "        <iframe\n",
       "            width=\"560\"\n",
       "            height=\"315\"\n",
       "            src=\"https://www.youtube.com/embed/LTuuMtQR1uQ\"\n",
       "            frameborder=\"0\"\n",
       "            allowfullscreen\n",
       "        ></iframe>\n",
       "        "
      ],
      "text/plain": [
       "<IPython.lib.display.YouTubeVideo at 0x1fab56577f0>"
      ]
     },
     "execution_count": 2,
     "metadata": {},
     "output_type": "execute_result"
    }
   ],
   "source": [
    "#%%html\n",
    "# <iframe width=\"560\" height=\"315\" src=\"https://www.youtube.com/embed/pTB0EiLXUC8\"></iframe>\n",
    "from IPython.display import YouTubeVideo\n",
    "# Youtube\n",
    "YouTubeVideo('LTuuMtQR1uQ', width=560, height=315)"
   ]
  },
  {
   "cell_type": "markdown",
   "metadata": {},
   "source": [
    "<div class=\"alert alert-block alert-info\">  \n",
    "    \n",
    "### Tasks\n",
    "As we progress through this notebook, we are going to write a shell script that will download, parse and extract data from a transcript to genome alignment file. To get started, we need to set up a directory structure that we will use for the remainder of the practical.\n",
    "\n",
    "#### Make sure we are in the correct directory\n",
    "We need to work from the `~/PycharmProjects/Introduction-to-Programming/section_3` directory (where ~ is your home directory). Run the followinf command and make sure it ends in `PycharmProjects/Introduction-to-Programming/section_3`. If it does not, close down the notebook. Navigate to this directory on the bash terminal and re-start Jupyter notebooks.\n",
    "</div>"
   ]
  },
  {
   "cell_type": "code",
   "execution_count": 12,
   "metadata": {},
   "outputs": [
    {
     "name": "stderr",
     "output_type": "stream",
     "text": [
      "'pwd' is not recognized as an internal or external command,\n",
      "operable program or batch file.\n"
     ]
    }
   ],
   "source": [
    "! pwd"
   ]
  },
  {
   "cell_type": "markdown",
   "metadata": {},
   "source": [
    "<div class=\"alert alert-block alert-info\">\n",
    "\n",
    "#### Create a directory structure\n",
    "We want to create the following structure within the section_3 directory\n",
    "\n",
    "shell_scripts\n",
    ".\n",
    ".\n",
    ".\n",
    "alignment_files\n",
    "\n",
    "In the bash shell, type the following commands\n",
    "\n",
    "```bash\n",
    "$ mkdir ~/PycharmProjects/Introduction-to-Programming/section_3/shell_scripts\n",
    "$ mkdir ~/PycharmProjects/Introduction-to-Programming/section_3/shell_scripts/alignment_files\n",
    "```\n",
    "\n",
    "***Note: The*** `$` ***symbol is used as a line hanger. Do not type*** `$` ***before your command***\n",
    "\n",
    "We will also create our shell script which we will edit during this tutorial\n",
    "\n",
    "```bash\n",
    "$ > ~/PycharmProjects/Introduction-to-Programming/section_3/shell_scripts/alignment_parser.sh\n",
    "```\n",
    "\n",
    "#### The Shebang\n",
    "As described in the video, we need to add the correct shebang to the shell script. Use the following cell to identify your bash interpreter. *Note, you have used the command before but to identify the Python interpreter. Once you have identified the interpreter, paste it into the top of your `alignment_parser.sh` file.\n",
    "\n",
    "</div>"
   ]
  },
  {
   "cell_type": "code",
   "execution_count": null,
   "metadata": {},
   "outputs": [],
   "source": []
  },
  {
   "cell_type": "markdown",
   "metadata": {},
   "source": [
    "<div class=\"alert alert-block alert-info\">\n",
    "\n",
    "#### Permissions\n",
    "We now need to check whether we can execute the file. Let's take a look at the permissions\n",
    "    \n",
    "</div>"
   ]
  },
  {
   "cell_type": "code",
   "execution_count": null,
   "metadata": {},
   "outputs": [],
   "source": [
    "! ls -l ~/PycharmProjects/Introduction-to-Programming/section_3/shell_scripts"
   ]
  },
  {
   "cell_type": "markdown",
   "metadata": {},
   "source": [
    "<div class=\"alert alert-block alert-info\">\n",
    "\n",
    "If you are a root user, you will have execute access to the file, however let's go through the motions and make sure that all users can execute the file\n",
    "\n",
    "</div>"
   ]
  },
  {
   "cell_type": "code",
   "execution_count": null,
   "metadata": {},
   "outputs": [],
   "source": [
    "! chmod a+x ~/PycharmProjects/Introduction-to-Programming/section_3/shell_scripts/alignment_parser.sh"
   ]
  },
  {
   "cell_type": "markdown",
   "metadata": {},
   "source": [
    "<div class=\"alert alert-block alert-info\">\n",
    "\n",
    "Check the permissions again and see if they have changed (they may not have)\n",
    "   \n",
    "</div>"
   ]
  },
  {
   "cell_type": "code",
   "execution_count": null,
   "metadata": {},
   "outputs": [],
   "source": [
    "! ls -l ~/PycharmProjects/Introduction-to-Programming/section_3/shell_scripts"
   ]
  },
  {
   "cell_type": "markdown",
   "metadata": {},
   "source": [
    "<a name=\"variables\"></a>\n",
    "### 3.0 Variables"
   ]
  },
  {
   "cell_type": "markdown",
   "metadata": {
    "hide_input": false
   },
   "source": [
    "Most programs receive data from some input that the program then manipulates in some way to produce a result or output. This input can be very diverse. For example it maybe a keypress in a video game to move a character on the screen, a list of payroll numbers or some data from a Martian probe. In all cases we need to store this data somewhere. In computer programs we use **`variables`** to store data. The name variable implies that the thing being stored may vary. Let look at some examples. "
   ]
  },
  {
   "cell_type": "markdown",
   "metadata": {},
   "source": [
    "#### What are variables\n",
    "The next video in this series introduces variables in the following contexts:\n",
    "- Why we use variables\n",
    "- Creating variables ane best practice\n",
    "- Using a simple variable\n",
    "- concatenating a simple variable\n",
    "- Variable naming and good pactice"
   ]
  },
  {
   "cell_type": "code",
   "execution_count": 3,
   "metadata": {
    "hide_input": true,
    "init_cell": true,
    "scrolled": false
   },
   "outputs": [
    {
     "data": {
      "image/jpeg": "[encoded data removed]",
      "text/html": [
       "\n",
       "        <iframe\n",
       "            width=\"560\"\n",
       "            height=\"315\"\n",
       "            src=\"https://www.youtube.com/embed/WhqfbwQbWVE\"\n",
       "            frameborder=\"0\"\n",
       "            allowfullscreen\n",
       "        ></iframe>\n",
       "        "
      ],
      "text/plain": [
       "<IPython.lib.display.YouTubeVideo at 0x1fab5634f98>"
      ]
     },
     "execution_count": 3,
     "metadata": {},
     "output_type": "execute_result"
    }
   ],
   "source": [
    "#%%html\n",
    "# <iframe width=\"560\" height=\"315\" src=\"https://www.youtube.com/embed/pTB0EiLXUC8\"></iframe>\n",
    "from IPython.display import YouTubeVideo\n",
    "# Youtube\n",
    "YouTubeVideo('WhqfbwQbWVE', width=560, height=315)"
   ]
  },
  {
   "cell_type": "markdown",
   "metadata": {},
   "source": [
    "#### Variables from User inputs and comments\n",
    "The next video in this series covers user inputs and comments in the following contexts:\n",
    "- Reading data from the keyboard\n",
    "- Prompts (-p)\n",
    "- Storing the read data in a variable\n",
    "- Splitting data across multiple variables and commenting scripts"
   ]
  },
  {
   "cell_type": "code",
   "execution_count": 4,
   "metadata": {
    "hide_input": true,
    "init_cell": true,
    "scrolled": false
   },
   "outputs": [
    {
     "data": {
      "image/jpeg": "[encoded data removed]",
      "text/html": [
       "\n",
       "        <iframe\n",
       "            width=\"560\"\n",
       "            height=\"315\"\n",
       "            src=\"https://www.youtube.com/embed/yLQnpmkNFmk\"\n",
       "            frameborder=\"0\"\n",
       "            allowfullscreen\n",
       "        ></iframe>\n",
       "        "
      ],
      "text/plain": [
       "<IPython.lib.display.YouTubeVideo at 0x1fab5686ba8>"
      ]
     },
     "execution_count": 4,
     "metadata": {},
     "output_type": "execute_result"
    }
   ],
   "source": [
    "#%%html\n",
    "# <iframe width=\"560\" height=\"315\" src=\"https://www.youtube.com/embed/pTB0EiLXUC8\"></iframe>\n",
    "from IPython.display import YouTubeVideo\n",
    "# Youtube\n",
    "YouTubeVideo('yLQnpmkNFmk', width=560, height=315)"
   ]
  },
  {
   "cell_type": "markdown",
   "metadata": {},
   "source": [
    "<div class=\"alert alert-block alert-info\">\n",
    "\n",
    "### Tasks\n",
    "Now we have learned how to collect variables from the command line using a shell script, we need a piece of information from the user to make our final script work\n",
    "\n",
    "- The genome build\n",
    "\n",
    "We only want to accept genome builds GRCh38 and GRCh38\n",
    "\n",
    "Keep this in mind as we will apply some input tests in later sections of this notebook\n",
    "\n",
    "#### In your script, collect variables from the user\n",
    "To your script add code which\n",
    "- Collects from the user the genome build with the prompt \"Input genome build GRCh37 or GRCh38:\"\n",
    "- The variable should be called GENOME\n",
    "\n",
    "***Note: Test that the script works by adding echo commands and run it (currently, any text is allowed, so just test the script)***\n",
    "    \n",
    "***\n",
    "\n",
    "To run the script, in your bash shell type\n",
    "\n",
    "```bash\n",
    "$ ./section_3/shell_scripts/alignment_parser.sh\n",
    "```\n",
    "\n",
    "***Hint, are you in the correct working directory?***\n",
    "\n",
    "</div>"
   ]
  },
  {
   "cell_type": "markdown",
   "metadata": {},
   "source": [
    "<a name=\"conditional\"></a>\n",
    "### 4.0 Conditional statements"
   ]
  },
  {
   "cell_type": "markdown",
   "metadata": {},
   "source": [
    "Conditional statements allow us to apply tests, for example whether a file exists in the current directory"
   ]
  },
  {
   "cell_type": "markdown",
   "metadata": {},
   "source": [
    "The next 2 videos in this series covers basic conditional statements:\n",
    "\n",
    "**Vid 1: What are conditional statements and why are they used?**\n",
    "- The if statement\n",
    "- The if statement syntax\n",
    "- The syntax of the conditional statement\n",
    "- The if else syntax\n",
    "\n",
    "**Vid 2: Using conditional statements to perform tests**\n",
    "- What we use tests for\n",
    "- Getting help\n",
    "- file operators\n",
    "- string operators\n",
    "- Checking for directories and fles using file operators"
   ]
  },
  {
   "cell_type": "code",
   "execution_count": 5,
   "metadata": {
    "hide_input": false,
    "init_cell": true,
    "scrolled": false
   },
   "outputs": [
    {
     "data": {
      "image/jpeg": "[encoded data removed]",
      "text/html": [
       "\n",
       "        <iframe\n",
       "            width=\"560\"\n",
       "            height=\"315\"\n",
       "            src=\"https://www.youtube.com/embed/qoem5hqCH6A\"\n",
       "            frameborder=\"0\"\n",
       "            allowfullscreen\n",
       "        ></iframe>\n",
       "        "
      ],
      "text/plain": [
       "<IPython.lib.display.YouTubeVideo at 0x1fab5686eb8>"
      ]
     },
     "execution_count": 5,
     "metadata": {},
     "output_type": "execute_result"
    }
   ],
   "source": [
    "#%%html\n",
    "# <iframe width=\"560\" height=\"315\" src=\"https://www.youtube.com/embed/pTB0EiLXUC8\"></iframe>\n",
    "from IPython.display import YouTubeVideo\n",
    "# Youtube\n",
    "YouTubeVideo('qoem5hqCH6A', width=560, height=315)"
   ]
  },
  {
   "cell_type": "code",
   "execution_count": 6,
   "metadata": {
    "hide_input": true,
    "init_cell": true,
    "scrolled": true
   },
   "outputs": [
    {
     "data": {
      "image/jpeg": "[encoded data removed]",
      "text/html": [
       "\n",
       "        <iframe\n",
       "            width=\"560\"\n",
       "            height=\"315\"\n",
       "            src=\"https://www.youtube.com/embed/ujp6d1he-jk\"\n",
       "            frameborder=\"0\"\n",
       "            allowfullscreen\n",
       "        ></iframe>\n",
       "        "
      ],
      "text/plain": [
       "<IPython.lib.display.YouTubeVideo at 0x1fab569f0b8>"
      ]
     },
     "execution_count": 6,
     "metadata": {},
     "output_type": "execute_result"
    }
   ],
   "source": [
    "#%%html\n",
    "# <iframe width=\"560\" height=\"315\" src=\"https://www.youtube.com/embed/pTB0EiLXUC8\"></iframe>\n",
    "from IPython.display import YouTubeVideo\n",
    "# Youtube\n",
    "YouTubeVideo('ujp6d1he-jk', width=560, height=315)"
   ]
  },
  {
   "cell_type": "markdown",
   "metadata": {},
   "source": [
    "#### Finding substrings in strings\n",
    "The examples provided in the videos provide if statements that test whether a variable is equal to a string (either singularly or contained in a list). However, we meed to check whether our variable contains a substring. We will need to be able to do this later in this tutorial.\n",
    "\n",
    "Take a look at how to solve this as provided in Stack Overflow [here](https://stackoverflow.com/questions/229551/how-to-check-if-a-string-contains-a-substring-in-bash)\n",
    "\n",
    "#### Logic opperators\n",
    "We will need to determine whether the input genome build is GRCh37 or GRCh38\n",
    "\n",
    "Take a look at Boolean Operators section in this If statement [tutorial](https://ryanstutorials.net/bash-scripting-tutorial/bash-if-statements.php)\n",
    "\n",
    "#### If, elif, else\n",
    "In the next section, we will need to download the correct alignment file for the selected genome build. We therefore need to be able to create and if, elif, else statement\n",
    "\n",
    "Take a look at if, elif, else section in this If statement [tutorial](https://ryanstutorials.net/bash-scripting-tutorial/bash-if-statements.php)\n",
    "\n",
    "<div class=\"alert alert-block alert-info\">\n",
    "\n",
    "### Tasks\n",
    "We have written code that allows us  to collect variables from the command line. We now need to test whether a supported genome build has been entered.\n",
    "\n",
    "#### Create and if statement to check the input genome build is supported\n",
    "\n",
    "- Your if statement should check whether the variable GENOME is \"GRCh37\" or \"GRCh38\"\n",
    "- If the statement is True, use `echo \"$GENOME Selected\"` and set the variable `GENOME_OK=True`\n",
    "- If the statement is False, use `echo \"Genome ID $GENOME is not supported\" and set the variable `GENOME_OK=False`\n",
    "    \n",
    "At the bottom of your script add the command\n",
    "```bash\n",
    "    echo \"Is the Genome ID OK: $GENOME_OK\"\n",
    "```\n",
    "This gives us a quick way of telling whether the user had entered a correctly formated genome-build by displaying True or False\n",
    "\n",
    "***\n",
    "    \n",
    "To run the script, in your bash shell type\n",
    "\n",
    "```bash\n",
    "$ ./section_3/shell_scripts/alignment_parser.sh\n",
    "```\n",
    "\n",
    "***Hint, are you in the correct working directory?***\n",
    "\n",
    "</div>"
   ]
  },
  {
   "cell_type": "markdown",
   "metadata": {},
   "source": [
    "<a name=\"forloops\"></a>\n",
    "### 5.0 For Loops"
   ]
  },
  {
   "cell_type": "markdown",
   "metadata": {},
   "source": [
    "The next video in this series covers the use of for loops:\n",
    "- What are loops?\n",
    "- Why we might use them\n",
    "- The for loop syntax\n",
    "- A simpe example including how to create a list\n",
    "- The cat command and loop efficiency"
   ]
  },
  {
   "cell_type": "code",
   "execution_count": 7,
   "metadata": {
    "hide_input": false,
    "init_cell": true,
    "scrolled": false
   },
   "outputs": [
    {
     "data": {
      "image/jpeg": "[encoded data removed]",
      "text/html": [
       "\n",
       "        <iframe\n",
       "            width=\"560\"\n",
       "            height=\"315\"\n",
       "            src=\"https://www.youtube.com/embed/T7hVOiTsSUU\"\n",
       "            frameborder=\"0\"\n",
       "            allowfullscreen\n",
       "        ></iframe>\n",
       "        "
      ],
      "text/plain": [
       "<IPython.lib.display.YouTubeVideo at 0x1fab569fb00>"
      ]
     },
     "execution_count": 7,
     "metadata": {},
     "output_type": "execute_result"
    }
   ],
   "source": [
    "#%%html\n",
    "# <iframe width=\"560\" height=\"315\" src=\"https://www.youtube.com/embed/pTB0EiLXUC8\"></iframe>\n",
    "from IPython.display import YouTubeVideo\n",
    "# Youtube\n",
    "YouTubeVideo('T7hVOiTsSUU', width=560, height=315)"
   ]
  },
  {
   "cell_type": "markdown",
   "metadata": {},
   "source": [
    "<div class=\"alert alert-block alert-info\">\n",
    "\n",
    "### Tasks\n",
    "Before we crete a for loop, we need to download some data to parse.\n",
    "    \n",
    "We will use the following command to download files containing alignment data between refseq transcript referencesequences and chromosome reference sequences from the [RefSeq website](https://ftp.ncbi.nih.gov/refseq/H_sapiens/alignments/)\n",
    "    \n",
    "```bash\n",
    "$ curl 'https://ftp.ncbi.nih.gov/refseq/H_sapiens/alignments/GCF_000001405.39_knownrefseq_alignments.gff3' -o ~/PycharmProjects/Introduction-to-Programming/section_3/shell_scripts/alignment_files/grch38.gff\n",
    "```\n",
    "\n",
    "Once we have downloaded the file, we can take a look at its contents using the more comand. Loo at the first 5 lines with the command\n",
    "\n",
    "```bash\n",
    "$ head -5 ~/PycharmProjects/Introduction-to-Programming/section_3/shell_scripts/alignment_files/grch38.gff\n",
    "```\n",
    "    \n",
    "We see the following metadata that tells us about the file\n",
    "\n",
    "```txt\n",
    "##gff-version 3\n",
    "#!gff-spec-version 1.21\n",
    "#!processor NCBI annotwriter\n",
    "```\n",
    "</div>\n",
    "    \n",
    "This file adheres to gff-version 3, specification version 1.21. The current specification version is [1.26](https://github.com/The-Sequence-Ontology/Specifications/blob/master/gff3.md)\n",
    "\n",
    "### The GFF3 specification\n",
    "Lets take a look at a line of the downloaded gff3 file in the context of the specification. A line looks like this:\n",
    "\n",
    "```txt\n",
    "NC_000002.12    RefSeq  cDNA_match      178807212       178807423       212     -       .       ID=075b8e95ac4c30cb099d6e96df888c5a;Target=NM_001267550.2 1 212 +;gap_count=0;identity=1;idty=1;num_ident=109224;num_mismatch=0;pct_coverage=100;pct_identity_gap=100;pct_identity_ungap=100\n",
    "```\n",
    "***Each line in this gff3 file is an Exon, where the transcript is aligned to a chromosome***\n",
    "\n",
    "***\n",
    "**Column 1: \"seqid\"**\n",
    "\n",
    "The ID of the landmark used to establish the coordinate system for the current feature. IDs may contain any characters, but must escape any characters not in the set \n",
    "\n",
    "```bash\n",
    "$[]a-zA-Z0-9.:^*@!+_?-|\n",
    "```\n",
    "In particular, IDs may not contain unescaped whitespace and must not begin with an unescaped `>`\n",
    "\n",
    "```txt\n",
    "NC_000002.12\n",
    "```\n",
    "***\n",
    "**Column 2: \"source\"**\n",
    "\n",
    "The source is a free text qualifier intended to describe the algorithm or operating procedure that generated this feature. Typically this is the name of a piece of software, such as \"Genescan\" or a database name, such as \"Genbank.\" In effect, the source is used to extend the feature ontology by adding a qualifier to the type creating a new composite type that is a subclass of the type in the type column.\n",
    "\n",
    "```txt\n",
    "RefSeq\n",
    "```\n",
    "***\n",
    "**Column 3: \"type\"**\n",
    "\n",
    "The type of the feature (previously called the \"method\"). This is constrained to be either a term from the Sequence Ontology or an SO accession number. The latter alternative is distinguished using the syntax SO:000000. In either case, it must be sequence_feature (SO:0000110) or an is_a child of it.\n",
    "\n",
    "```txt\n",
    "Not used in this file\n",
    "```\n",
    "***\n",
    "**Columns 4 & 5: \"start\" and \"end\"**\n",
    "\n",
    "The start and end coordinates of the feature are given in positive 1-based integer coordinates, relative to the landmark given in column one. Start is always less than or equal to end.\n",
    "\n",
    "```txt\n",
    "178807212       178807423\n",
    "```\n",
    "***\n",
    "***Column 6: \"score\"***\n",
    "\n",
    "The score of the feature, a floating point number. As in earlier versions of the format, the semantics of the score are ill-defined. It is strongly recommended that E-values be used for sequence similarity features, and that P-values be used for ab initio gene prediction features\n",
    "\n",
    "```txt\n",
    "212 # where 212 is the length of the alignment in bases (start position to end position)\n",
    "```\n",
    "***\n",
    "**Column 7: \"strand\"**\n",
    "\n",
    "The strand of the feature. + for positive strand (relative to the landmark), - for minus strand, and . for features that are not stranded. In addition, ? can be used for features whose strandedness is relevant, but unknown.\n",
    "\n",
    "```txt\n",
    "- # So antisense to the chromosome in this case\n",
    "```\n",
    "***\n",
    "\n",
    "**Column 8: \"phase\"**\n",
    "\n",
    "For features of type \"CDS\", the phase indicates where the next codon begins relative to the 5' end (where the 5' end of the CDS is relative to the strand of the CDS feature) of the current CDS feature. For clarification the 5' end for CDS features on the plus strand is the feature's start and and the 5' end for CDS features on the minus strand is the feature's end. The phase is one of the integers 0, 1, or 2, indicating the number of bases forward from the start of the current CDS feature the next codon begins. A phase of \"0\" indicates that a codon begins on the first nucleotide of the CDS feature (i.e. 0 bases forward), a phase of \"1\" indicates that the codon begins at the second nucleotide of this CDS feature and a phase of \"2\" indicates that the codon begins at the third nucleotide of this region. Note that ‘Phase’ in the context of a GFF3 CDS feature should not be confused with the similar concept of frame that is also a common concept in bioinformatics. Frame is generally calculated as a value for a given base relative to the start of the complete open reading frame (ORF) or the codon (e.g. modulo 3) while CDS phase describes the start of the next codon relative to a given CDS feature.\n",
    "\n",
    "The phase is REQUIRED for all CDS features.\n",
    "\n",
    "```txt\n",
    ". # RefSeq do not provide CDS alignments in these alignent gff3 files but Ensembl do. It is worth being aware of this column\n",
    "```\n",
    "***\n",
    "**Column 9: \"attributes\"**\n",
    "\n",
    "A list of feature attributes in the format tag=value. Multiple tag=value pairs are separated by semicolons. URL escaping rules are used for tags or values containing the following characters: \",=;\". Spaces are allowed in this field, but tabs must be replaced with the \\%09 URL escape. Attribute values do not need to be and should not be quoted. The quotes should be included as part of the value by parsers and not stripped.\n",
    "\n",
    "```txt\n",
    "ID=075b8e95ac4c30cb099d6e96df888c5a;Target=NM_001267550.2 1 212 +;gap_count=0;identity=1;idty=1;num_ident=109224;num_mismatch=0;pct_coverage=100;pct_identity_gap=100;pct_identity_ungap=100\n",
    "```\n",
    "***\n",
    "\n",
    "***Column 9 is sub-devided into tags***\n",
    "\n",
    "RefSeq use official and unofficial tags in their alignment gff3 files which are documented [here](https://www.ncbi.nlm.nih.gov/datasets/docs/about-ncbi-gff3/) under section `Alignments`\n",
    "***\n",
    "\n",
    "### Tags and Gaps\n",
    "To better understand tags, we will take a look at an exon which requires a gap to be inserted into wither the transcript or the genome to achieve a perfect alignment.\n",
    "\n",
    "```txt\n",
    "NC_000004.12\tRefSeq\tcDNA_match\t3074681\t3075088\t403.892\t+\t.\tID=9dfa5ba40ef872c7e8a17f340233f3c6;Target=NM_002111.8 1 414 +;gap_count=1;identity=0.999555;idty=0.985507;num_ident=13475;num_mismatch=0;pct_coverage=99.9555;pct_identity_gap=99.9555;pct_identity_ungap=100;Gap=M255 I6 M153\n",
    "```\n",
    "***\n",
    "**ID**\n",
    "The ID `ID=9dfa5ba40ef872c7e8a17f340233f3c6` used by RefSeq is used to reference the alignment of a transcript to a chromosome, *i.e.* all exons have the same ID because the ID belongs to the entire alignment\n",
    "***\n",
    "**Target**\n",
    "The target tells us a lot of information\n",
    "`Target=NM_002111.8 1 414 +`\n",
    "It provides\n",
    "- The Transcript ID in full\n",
    "- The start position of the exon, in this case base 1\n",
    "- The end point of the exon, in this case base 2\n",
    "- The orientation of the alignment, which is always + in transcrpt context, so be aware of the alignment level orientation!\n",
    "***\n",
    "**Other tags**\n",
    "Information on the other tags can be found [here](https://www.ncbi.nlm.nih.gov/datasets/docs/about-ncbi-gff3/) under section `Alignments`\n",
    "***\n",
    "**Gap**\n",
    "The Gap tag is an Exon level tag, i.e. it belongs to the specified exon. It tells us where the gap must be added to achieve the perfect alignement.\n",
    "`Gap=M255 I6 M153`\n",
    "The gap is a whitespace delimited [CIGAR string](https://jef.works/blog/2017/03/28/CIGAR-strings-for-dummies/)\n",
    "This particular CIGAR string tells us that\n",
    "- 255 bases can be aligned (note, alignment does not care if a few bases of sequence missmatch, so long as the length is equal\n",
    "- we need to insert 6 bases into the chromosome which are present in transcript to achieve a perfect alignment\n",
    "- 153 bases align\n",
    "***\n",
    "***Most geneticists and software platforms, including VEP, are unaware of these gaps so make critical mistakes in predicting the outcomes of variation in transcripts that have gapped alignments. So, let's adapt our script to check for aligmnet gaps***\n"
   ]
  },
  {
   "cell_type": "markdown",
   "metadata": {},
   "source": [
    "<div class=\"alert alert-block alert-info\">\n",
    "\n",
    "### Tasks\n",
    "We are going to create a for loop which reads the alignment gff3 file we downloaded earlier and looks and reports whether there is a Gap in any of the alignments it contains. If a Gap is found it will print data about each Exon containing a gap including the CIGAR string.\n",
    "\n",
    "To your code:\n",
    "- Add a test to make sure the alignment file for the specified genome build is in the alignment_files directory (currently we should only have grch38.gff\n",
    "- If it is not present add code that uses the `curl` command to dowmload the specified genome build\n",
    "- Finally, crate the variable `ALIGNMENT_FILE_OK` under each test that returns True if once the file is available for use\n",
    "    \n",
    "\n",
    "At the bottom of the script, add the command\n",
    "```bash\n",
    "    echo \"Is the Alignment file available: $ALIGNMENT_FILE_OK\"\n",
    "```\n",
    "\n",
    "***Note, we will have 2 final tests:***\n",
    "- Genome build is input correctly\n",
    "- Alignment file for that genome build is downloaded\n",
    "\n",
    "***\n",
    "\n",
    "To run the script, in your bash shell type. \n",
    "***Note: Set the genome build to GRCh37 to make sure you download the GRCh37 alignment file at this stage***\n",
    "\n",
    "```bash\n",
    "$ ./section_3/shell_scripts/alignment_parser.sh\n",
    "```\n",
    "\n",
    "***Hint, are you in the correct working directory?***\n",
    "    \n",
    "*At this stage we will pause because we will place the for loop into a function in the next section*\n",
    "\n",
    "</div>"
   ]
  },
  {
   "cell_type": "markdown",
   "metadata": {},
   "source": [
    "<a name=\"functions\"></a>\n",
    "### 6.0 Functions"
   ]
  },
  {
   "cell_type": "markdown",
   "metadata": {},
   "source": [
    "The next video in this series covers basic functions:\n",
    "- What are functions?\n",
    "- How to create functions and best practices\n",
    "- Were to declare functions in a script\n",
    "- If statements\n",
    "- Calling functions\n",
    "- Calling functions from within a function"
   ]
  },
  {
   "cell_type": "code",
   "execution_count": 8,
   "metadata": {
    "hide_input": false,
    "init_cell": true,
    "scrolled": false
   },
   "outputs": [
    {
     "data": {
      "image/jpeg": "[encoded data removed]",
      "text/html": [
       "\n",
       "        <iframe\n",
       "            width=\"560\"\n",
       "            height=\"315\"\n",
       "            src=\"https://www.youtube.com/embed/Jx9yhQ76o8U\"\n",
       "            frameborder=\"0\"\n",
       "            allowfullscreen\n",
       "        ></iframe>\n",
       "        "
      ],
      "text/plain": [
       "<IPython.lib.display.YouTubeVideo at 0x1fab569fa90>"
      ]
     },
     "execution_count": 8,
     "metadata": {},
     "output_type": "execute_result"
    }
   ],
   "source": [
    "#%%html\n",
    "# <iframe width=\"560\" height=\"315\" src=\"https://www.youtube.com/embed/pTB0EiLXUC8\"></iframe>\n",
    "from IPython.display import YouTubeVideo\n",
    "# Youtube\n",
    "YouTubeVideo('Jx9yhQ76o8U', width=560, height=315)"
   ]
  },
  {
   "cell_type": "markdown",
   "metadata": {},
   "source": [
    "<div class=\"alert alert-block alert-info\">\n",
    "\n",
    "### Tasks\n",
    "We are going to create function that contains a for loop which reads the alignment gff3 file we downloaded earlier and looks for a transcript ID and chromosome ID and reports whether there is a Gap. If a Gap is found it will print data about each Exon containing a gap including the CIGAR string.\n",
    "    \n",
    "#### The function\n",
    "The function we will use to extract the alignment data is provided here\n",
    "\n",
    "```bash\n",
    "# Create functions\n",
    "function gap_finder() {\n",
    "#  Open the file using the file handle and read line-by-line\n",
    "while IFS= read -r line; do\n",
    "    if [[ $line == *\"Gap=\"* ]]\n",
    "    then\n",
    "      echo \"$line\"\n",
    "    fi\n",
    "done < \"$ALIGNMENT_FILE\"\n",
    "}\n",
    "```\n",
    "\n",
    "The function reads throught the alignment file line-by-line, as described [here](https://stackoverflow.com/questions/10929453/read-a-file-line-by-line-assigning-the-value-to-a-variable)\n",
    "\n",
    "***\n",
    "\n",
    "Your task is to put this function in the correct place and invoke the function from your script\n",
    "</div>"
   ]
  },
  {
   "cell_type": "markdown",
   "metadata": {},
   "source": [
    "<a name=\"positional\"></a>\n",
    "### 7.0 Positional Arguments"
   ]
  },
  {
   "cell_type": "markdown",
   "metadata": {},
   "source": [
    "The next video in covers positional arguments (parameters):\n",
    "- What are positional parameters?\n",
    "- How to collect the parameters in a script\n",
    "- How to declare positional parameters\n",
    "- A simple example\n",
    "- Common mistakes made when using positional parameters"
   ]
  },
  {
   "cell_type": "code",
   "execution_count": 9,
   "metadata": {
    "hide_input": true,
    "init_cell": true,
    "scrolled": false
   },
   "outputs": [
    {
     "data": {
      "image/jpeg": "[encoded data removed]",
      "text/html": [
       "\n",
       "        <iframe\n",
       "            width=\"560\"\n",
       "            height=\"315\"\n",
       "            src=\"https://www.youtube.com/embed/MBYnhVaN4rU\"\n",
       "            frameborder=\"0\"\n",
       "            allowfullscreen\n",
       "        ></iframe>\n",
       "        "
      ],
      "text/plain": [
       "<IPython.lib.display.YouTubeVideo at 0x1fab569fe10>"
      ]
     },
     "execution_count": 9,
     "metadata": {},
     "output_type": "execute_result"
    }
   ],
   "source": [
    "#%%html\n",
    "# <iframe width=\"560\" height=\"315\" src=\"https://www.youtube.com/embed/pTB0EiLXUC8\"></iframe>\n",
    "from IPython.display import YouTubeVideo\n",
    "# Youtube\n",
    "YouTubeVideo('MBYnhVaN4rU', width=560, height=315)"
   ]
  },
  {
   "cell_type": "markdown",
   "metadata": {},
   "source": [
    "<div class=\"alert alert-block alert-info\">\n",
    "\n",
    "### Tasks\n",
    "We want to collect the output of the shell script into text files\n",
    "    \n",
    "To each echo statement that simpley provides information, i.e. does not write an alignment line add a hash, e.g.\n",
    "\n",
    "```bash\n",
    "$ echo \"# Is the Genome ID OK: $GENOME_OK\"\n",
    "```\n",
    "becomes\n",
    "\n",
    "```bash\n",
    "$ echo \"Is the Genome ID OK: $GENOME_OK\"\n",
    "```\n",
    "So you are effectively writing metadata lines. You may want to change the echo statements to something more meaninful, such as a date, or where the alignment files were downloaded from. Just make sure all info/metadata lines begin with a hash `#`.\n",
    "\n",
    "***\n",
    "    \n",
    "Run the script twice using the following command\n",
    "    \n",
    "```bash\n",
    "$ ./section_3/shell_scripts/alignment_parser.sh > grch38_gapped.txt\n",
    "```\n",
    "\n",
    "***Note: you will need to do this for both GRCh37 and GRCh38. Make sure you state the correct genome build***\n",
    "</div>"
   ]
  },
  {
   "cell_type": "markdown",
   "metadata": {},
   "source": [
    "#### Conclusion\n",
    "\n",
    "This is just a small sample of the sort of things you can use shell scripting for. Hopefully this short introduction to programming using shell scripting has provided a  background on which you can go on to develop your skills. Many of the concepts explained here are present in many other modern programming languages (even if their syntax is different). Programming is a skill that requires practice and trial and error. The more you do it, the better you will get, rather like playing a musical instrument. "
   ]
  },
  {
   "cell_type": "markdown",
   "metadata": {},
   "source": [
    "#### Notebook details\n",
    "<br>\n",
    "<i>Notebook created by <strong>Dr. Pete Causey-Freeman</strong> with, <strong>Frances Hooley</strong> \n",
    "    \n",
    "\n",
    "Publish date: October 2020<br>\n",
    "Review date: October 2021</i>\n",
    "\n",
    "Please give your feedback using the button below:\n",
    "\n",
    "<a class=\"typeform-share button\" href=\"https://form.typeform.com/to/YMpwLTNy\" data-mode=\"popup\" style=\"display:inline-block;text-decoration:none;background-color:#3A7685;color:white;cursor:pointer;font-family:Helvetica,Arial,sans-serif;font-size:18px;line-height:45px;text-align:center;margin:0;height:45px;padding:0px 30px;border-radius:22px;max-width:100%;white-space:nowrap;overflow:hidden;text-overflow:ellipsis;font-weight:bold;-webkit-font-smoothing:antialiased;-moz-osx-font-smoothing:grayscale;\" target=\"_blank\">Rate this notebook </a> <script> (function() { var qs,js,q,s,d=document, gi=d.getElementById, ce=d.createElement, gt=d.getElementsByTagName, id=\"typef_orm_share\", b=\"https://embed.typeform.com/\"; if(!gi.call(d,id)){ js=ce.call(d,\"script\"); js.id=id; js.src=b+\"embed.js\"; q=gt.call(d,\"script\")[0]; q.parentNode.insertBefore(js,q) } })() </script>"
   ]
  }
 ],
 "metadata": {
  "celltoolbar": "Initialization Cell",
  "hide_input": false,
  "kernelspec": {
   "display_name": "Python 3",
   "language": "python",
   "name": "python3"
  },
  "language_info": {
   "codemirror_mode": {
    "name": "ipython",
    "version": 3
   },
   "file_extension": ".py",
   "mimetype": "text/x-python",
   "name": "python",
   "nbconvert_exporter": "python",
   "pygments_lexer": "ipython3",
   "version": "3.7.3"
  }
 },
 "nbformat": 4,
 "nbformat_minor": 2
}
