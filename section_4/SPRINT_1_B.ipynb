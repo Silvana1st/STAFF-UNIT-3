{
 "cells": [
  {
   "cell_type": "markdown",
   "metadata": {},
   "source": [
    "<img src=\"https://github.com/i3hsInnovation/resources/blob/master/images/introbanner.png?raw=true\" />"
   ]
  },
  {
   "cell_type": "markdown",
   "metadata": {},
   "source": [
    "<table style=\"float:right\" width=\"50%\">\n",
    "    <tr>\n",
    "        <td>                      \n",
    "            <div style=\"text-align: left\"><a href=\"\" target=\"_blank\">Dr Peter Causey-Freeman</a></div>\n",
    "            <div style=\"text-align: left\">Lecturer - Healthcare Sciences</div>\n",
    "            <div style=\"text-align: left\">(Clinical Bioinformatics)</div>\n",
    "            <div style=\"text-align: left\">The University of Manchester</div>\n",
    "         </td>\n",
    "         <td>\n",
    "             <img src=\"https://github.com/i3hsInnovation/resources/blob/master/images/pete.001.png?raw=true\" width=\"40%\" />\n",
    "         </td>\n",
    "     </tr>\n",
    "</table>"
   ]
  },
  {
   "cell_type": "markdown",
   "metadata": {},
   "source": [
    "# Introduction to SPRINT 1 Notebook B\n",
    "****\n",
    "\n",
    "### About this Notebook\n",
    "\n",
    "This notebooks introduces JSON and REST API and includes the instructions for the first sprint. \n",
    "\n",
    "This notebook is at <code>Beginner</code> level and will take approximately 3 - 4 hours to complete."
   ]
  },
  {
   "cell_type": "markdown",
   "metadata": {},
   "source": [
    "-----\n",
    "\n",
    "<a id=\"top\"></a>\n",
    "<b><h2>Table of Contents</h2></b>  \n",
    "</div>"
   ]
  },
  {
   "cell_type": "markdown",
   "metadata": {},
   "source": [
    "#### Notebook B, section 1: [Introduction to JSON](#json)\n",
    "- [What is JSON](#watsit)\n",
    "- [The JSON format](#jform)\n",
    "- [Reading and writing JSON using Python](#jpy)\n",
    "- [Section 1 Summary](#s1s)\n",
    "\n",
    "#### Notebook B, section 2: [Introduction to REST API](#restapi)\n",
    "- [The REST framework](#rest)\n",
    "- [Building a simple API: Part A - Build a simple REST API](#builder_a)\n",
    "- [Building a simple API: Part B - Request data using Python](#builder_b)\n",
    "- [Building a simple API: Part C - Create a new VariantValidator API](#builder_c)\n",
    "- [Section 2 Summary and Assignment](#s2s)\n",
    "- [Marked assessment](#practical)"
   ]
  },
  {
   "cell_type": "markdown",
   "metadata": {},
   "source": [
    "\n",
    "<div class=\"alert alert-block alert-warning\"><b>Learning Objective:</b> Create functioning, standards compliant and well documented Python code</div>"
   ]
  },
  {
   "cell_type": "markdown",
   "metadata": {},
   "source": [
    "<a id=\"json\"></a>\n",
    "<table width=\"100%\" style=\"float:left\">\n",
    "    <tr>\n",
    "        <td width=\"60%\" style=\"text-align: left\">\n",
    "            <h1>Section 1: Introduction to <a href=\"https://www.json.org/\" target=\"_blank\">JSON</a></h1>\n",
    "        </td>\n",
    "        <td width=\"40%\">\n",
    "            <img src=\"https://github.com/i3hsInnovation/resources/blob/master/images/json-logo.png?raw=true\" width=\"30%\"/>\n",
    "        </td>\n",
    "    </tr>\n",
    "</table> "
   ]
  },
  {
   "cell_type": "markdown",
   "metadata": {},
   "source": [
    "***\n",
    "<div><sup>Icons made by <a href=\"https://www.flaticon.com/authors/smashicons\" title=\"Smashicons\">Smashicons</a> from <a href=\"https://www.flaticon.com/\"             title=\"Flaticon\">www.flaticon.com</a></sup></div>"
   ]
  },
  {
   "cell_type": "markdown",
   "metadata": {},
   "source": [
    "<a id=\"watsit\"></a>\n",
    "\n",
    "<b><h2>What is JSON</h2></b>  \n",
    "</div>"
   ]
  },
  {
   "cell_type": "markdown",
   "metadata": {},
   "source": [
    "### What is [JSON](https://www.w3schools.com/whatis/whatis_json.asp):\n",
    "\n",
    "- JSON stands for JavaScript Object Notation\n",
    "- JSON is a lightweight format for storing and transporting data\n",
    "- JSON is often used when data is sent from a server to a web page\n",
    "- JSON is \"self-describing\" and easy to understand\n",
    "- JSON is a syntax for storing and exchanging data\n",
    "- JSON is \"self-describing\" and easy to understand\n",
    "- JSON is language independent\\*\n",
    "\n",
    "\\**JSON uses JavaScript syntax, but the JSON format is text only. Text can be read and used as a data format by any programming language, and is also human-readable.*\n",
    "\n",
    "JSON is very easy to [learn](https://www.w3schools.com/js/js_json_intro.asp) and is easy to write using Python. \n",
    "\n",
    "### Exchanging Data\n",
    "JSON was concieved as a data-exchange format.\n",
    "\n",
    "When exchanging data between a web-browser and a server, the data can be text-only.\n",
    "\n",
    "JSON is text, and we can convert any JavaScript object into JSON, and send JSON to the server.\n",
    "\n",
    "Similarly, we can convert the core Python objects into JSON, *i.e.* strings, lists and dictionaries \n",
    "\n",
    "We can also convert any JSON received from the server into JavaScript, or other programming language objects (*e.g.* Python.\n",
    "\n",
    "This way we can work with the data as JavaScript objects, with no complicated parsing and translations, unlike the XML format which is much more complicated to process. **We will look at the XML format in a later tutorial**\n",
    "\n",
    "### Sending Data\n",
    "If you have data stored in a JavaScript or Python object, you can convert the object into JSON, and send it to a server: \n",
    "- [JSON example 1](https://www.w3schools.com/whatis/tryit.asp?filename=trywhatis_json_parse)\n",
    "- Change the element numbers in the example to create the name **John Jones**\n",
    "- [JSON example 2](https://www.w3schools.com/js/tryit.asp?filename=tryjson_send)\n",
    "- Change the function so that it tells us that **John Jones from Skegness is 47**\n",
    "\n",
    "### Storing Data\n",
    "Because JSON is [serializable](https://en.wikipedia.org/wiki/Serialization) text it is an excellent format for storing structured data. In the assignment for SPRINT_1_introduction_a you stored a JSON in a flat text-file. JSON can also be stored in popular databases such as [MySQL](https://www.mysql.com/) and [PostgreSQL](https://www.postgresql.org/). It is also highly compatable with the popular [NoSQL](https://en.wikipedia.org/wiki/NoSQL) database [MongoDB](https://www.mongodb.com/)"
   ]
  },
  {
   "cell_type": "markdown",
   "metadata": {},
   "source": [
    "<a id=\"jform\"></a>\n",
    "\n",
    "<b><h2>The JSON format</h2></b>  \n",
    "</div>"
   ]
  },
  {
   "cell_type": "markdown",
   "metadata": {},
   "source": [
    "The [JSON](https://www.w3schools.com/whatis/whatis_json.asp) format ***should*** look very familiar to you now that your Python skills are improving\n",
    "\n",
    "### JSON data\n",
    "JSON data are written as key/value pairs such as you find in a [Python dictionary](https://www.w3schools.com/python/python_dictionaries.asp)\n",
    "\n",
    "Unlike Python, the key **must** use double-quotes. If the value is a string, it **must** also use double-quotes. Like Python, the key and value are linked using the : character, *e.g.* \n",
    "\n",
    "```json\n",
    "\"firstname\": \"John\"\n",
    "```\n",
    "\n",
    "### JSON objects\n",
    "Like Python dictionaries, JSON objects are stored in curly braces, *e.g.*\n",
    "\n",
    "```json\n",
    "{\"firstname\": \"John\",\n",
    "  \"lastname\": \"Jones\"}\n",
    "```\n",
    "\n",
    "### JSON Arrays\n",
    "JSON arrays are similar to [Python lists](https://www.w3schools.com/python/python_lists.asp). Arrays/lists written inside square brackets.\n",
    "\n",
    "Just like in JavaScript, Python and other programming languages, an array/list can contain objects, *e.g.*:\n",
    "\n",
    "```json\n",
    "{\"employees\":[\n",
    "    {\"firstname\":\"John\", \"lastname\":\"Jones\"}, \n",
    "    {\"firstname\":\"Kit\", \"lastname\":\"Calvert\"}, \n",
    "    {\"firstname\":\"Sam\", \"lastname\":\"Smith\"}\n",
    "]}\n",
    "```\n"
   ]
  },
  {
   "cell_type": "markdown",
   "metadata": {},
   "source": [
    "<a id=\"jpy\"></a>\n",
    "\n",
    "<b><h2>Reading and Writing JSON using Python</h2></b>  \n",
    "</div>"
   ]
  },
  {
   "cell_type": "markdown",
   "metadata": {},
   "source": [
    "<div class=\"alert alert-block alert-info\">\n",
    "    \n",
    "### Exercise 1\n",
    "\n",
    "Here is a JSON string\n",
    "\n",
    "</div>"
   ]
  },
  {
   "cell_type": "code",
   "execution_count": null,
   "metadata": {},
   "outputs": [],
   "source": [
    "my_json = '{\"validation_warning_1\": {\"hgvs_lrg_transcript_variant\": \"\", \"validation_warnings\": [\"HGVS variant nomenclature does not allow the use of a gene symbol (COL5A1) in place of a valid reference sequence\", \"Re-submit COL5A1:c.5072_5077delinsT and specify transcripts from the following\", \"select_transcripts=NM_000093.4|NM_000093.3|NM_001278074.1\"], \"refseqgene_context_intronic_sequence\": \"\", \"alt_genomic_loci\": [], \"transcript_description\": \"\", \"gene_symbol\": \"\", \"hgvs_predicted_protein_consequence\": {\"tlr\": \"\", \"slr\": \"\"}, \"submitted_variant\": \"COL5A1:c.5072_5077delinsT\", \"genome_context_intronic_sequence\": \"\", \"hgvs_lrg_variant\": \"\", \"hgvs_transcript_variant\": \"\", \"hgvs_refseqgene_variant\": \"\", \"primary_assembly_loci\": {}, \"reference_sequence_records\": \"\"}, \"flag\": \"warning\", \"metadata\": {\"variantvalidator_hgvs_version\": \"1.1.3\", \"uta_schema\": \"uta_20180821\", \"seqrepo_db\": \"2018-08-21\", \"variantvalidator_version\": \"v0.2.5\"}}'"
   ]
  },
  {
   "cell_type": "markdown",
   "metadata": {
    "solution": "hidden",
    "solution_first": true
   },
   "source": [
    "<div class=\"alert alert-block alert-info\">\n",
    "\n",
    "Your task is to [read the JSON](https://www.w3schools.com/python/python_json.asp) into Python so that we can explore it by using the dictionary.keys() method\n",
    "\n",
    "</div>"
   ]
  },
  {
   "cell_type": "markdown",
   "metadata": {
    "solution": "hidden"
   },
   "source": [
    "**Solution**\n",
    "```python\n",
    "import json\n",
    "my_dict = json.loads(my_json)\n",
    "my_dict.keys()\n",
    "```"
   ]
  },
  {
   "cell_type": "code",
   "execution_count": null,
   "metadata": {},
   "outputs": [],
   "source": [
    "# Your code here\n"
   ]
  },
  {
   "cell_type": "markdown",
   "metadata": {
    "solution": "hidden",
    "solution_first": true
   },
   "source": [
    "<div class=\"alert alert-block alert-info\">\n",
    "\n",
    "**So what exactly is this JSON?**\n",
    "\n",
    "Use the Python [items](https://www.w3schools.com/python/ref_dictionary_items.asp) method to print the content of the `\"metadata\"` dictionary to see whether we can identify the source of this JSON \n",
    "\n",
    "</div>"
   ]
  },
  {
   "cell_type": "markdown",
   "metadata": {
    "solution": "hidden"
   },
   "source": [
    "**Solution**\n",
    "\n",
    "```python\n",
    "my_dict['metadata'].items()\n",
    "```"
   ]
  },
  {
   "cell_type": "code",
   "execution_count": null,
   "metadata": {},
   "outputs": [],
   "source": [
    "# Your code here\n"
   ]
  },
  {
   "cell_type": "markdown",
   "metadata": {},
   "source": [
    "<a id=\"s1s\"></a>\n",
    "\n",
    "<b><h2>Section 1 summary</h2></b>  \n",
    "</div>"
   ]
  },
  {
   "cell_type": "markdown",
   "metadata": {},
   "source": [
    "### The source of our JSON\n",
    "The JSON provided was generated by the VariantValidator API. In part 2 of this tutorial, we will request data from APIs which return JSON, we will look at the data that are returned and extract JSON so that we can explore the content.\n",
    "\n",
    "### Summary\n",
    "In section 1 of this notebook we have learned about the JSON format, learned how to write valid JSON and looked at how JSON is used in informatics\n",
    "\n",
    "JSON is a common data format returned by web-hosted APIs. A wealth of bioinformatics data are accessed via APIs, *e.g.* in the last notebook we accessed RefSeq data via the Entrez API using biopython.  In the next section of this tutorial we will learn more about REST APIs and how we directly request data from them. We will also do this in the context of building our own simple REST API so that we can understand how requests to APIs are processed. \n",
    "\n",
    "<br>\n",
    "<br>\n",
    "<br>\n",
    "<br>\n",
    "\n",
    "[Return to top](#top)\n",
    "\n",
    "-------------"
   ]
  },
  {
   "cell_type": "markdown",
   "metadata": {},
   "source": [
    "<a id=\"restapi\"></a>\n",
    "<table width=\"100%\" style=\"float:left\">\n",
    "    <tr>\n",
    "        <td width=\"60%\" style=\"text-align: left\">\n",
    "            <h1>Section 2: Introduction to REST API</h1>\n",
    "        </td>\n",
    "        <td width=\"30%\">\n",
    "            <img src=\"https://github.com/i3hsInnovation/resources/blob/master/images/rest_api.png?raw=true\" width=\"30%\"/>\n",
    "        </td>\n",
    "    </tr>\n",
    "</table>"
   ]
  },
  {
   "cell_type": "markdown",
   "metadata": {},
   "source": [
    "***\n",
    "<sup>Image by Peter Causey-Freeman</sup>"
   ]
  },
  {
   "cell_type": "markdown",
   "metadata": {},
   "source": [
    "<a id=\"rest\"></a>\n",
    "\n",
    "<b><h2>The REST framework</h2></b>  \n",
    "</div>"
   ]
  },
  {
   "cell_type": "markdown",
   "metadata": {},
   "source": [
    "## [An Introduction to APIs](https://restful.io/an-introduction-to-api-s-cee90581ca1b) \n",
    "- [Gonzalo Vázquez](https://restful.io/@gonzalovazquez)\n",
    "- [Restful Web](https://restful.io/) "
   ]
  },
  {
   "cell_type": "markdown",
   "metadata": {},
   "source": [
    "<a id=\"builder_a\"></a>\n",
    "\n",
    "<b><h2>Building a simple API: Part A - Build a simple REST API</h2></b>  \n",
    "</div>"
   ]
  },
  {
   "cell_type": "markdown",
   "metadata": {},
   "source": [
    "## User Story\n",
    "\n",
    "The JSON you were working with in \"Reading and Writing JSON using Python, Exercise 1\" was generated using the [VariantValidator REST API](https://rest.variantvalidator.org), which I maintain. The current API has become out-dated and clunky. Worst of all, it relies on Python libraries that are no longer maintained. For a while I maintained my own version of these libraries, but now that Python 2 is being obsoleted, they are no-longer fit-for-purpose. Consequently, I need to replace the VariantValidator API with an up-to-date interface.\n",
    "\n",
    "VariantValidator has form its inception been made as user-friendly as possible, so it is essential that the API is simple to use for experts and novice users alike. I also want to improve the API so that it will return a range of  responses rather than just JSON.\n",
    "\n",
    "Many API tutorials are overly complicated for the purposes of this module because they attempt to condense the broad range of API capabilities rather than focussing on creating a simple APi and getting it working. The VariantValdator interface is very simple. The tool only returns data from GET requests and does not require any form of user log in.  \n",
    "\n",
    "The VariantValidator REST API uses the VariantValidator Python library to create the data that it returns. In this tutorial, rather than installing the Python library, we will request our data from the VariantValidator rest API. This may seem a little \"off-the-wall\" but it will begin to make sense when your assignments in SPRINT_2 are set! For the purposes of this tutorial, this allows me to demonstrate both building a simple API, how we request data from APIs and explain the structure of the data that are returned.\n",
    "\n",
    "### What are decorators?\n",
    "When you look at the code which comprises our REST API, you will see functions that require decoration. These functions look like this\n",
    "\n",
    "```python\n",
    "@hello_space.route(\"/\")\n",
    "class HelloClass(Resource):\n",
    "\tdef get(self):\n",
    "\t\treturn {\n",
    "\t\t\t\"greeting\": \"Hello World\"\n",
    "\t\t}\n",
    "```\n",
    "\n",
    "We are not going to look at decorators in detail during these tutorials because they can be very complex! However a tutorial on decorators can be found [here](https://www.datacamp.com/community/tutorials/decorators-python) and it is well worth reading through the tutorial if you have the time.\n",
    "\n",
    "For our purposes, all we need to know about decorators is that they allow us to create a function that gathers data, (in this instance, captures the user's request and compiles the text we want to display to the user (including relevant metadata), and the function is passed to the decorator function which makes use of the gathered data. \n",
    "\n",
    "*Note: in this instance we are going to decorate an object class called HelloClass with the @hello_space.route decorator function*"
   ]
  },
  {
   "cell_type": "markdown",
   "metadata": {},
   "source": [
    "<div class=\"alert alert-info\">\n",
    "    <b><h2>A simple rest API</h2></b>  \n",
    "\n",
    "### Exercise 1\n",
    "\n",
    "I have created a very simple rest API which I will expand upon to build the new VariantValidator rest interface. Your task is to help me build a prototype version of the tool. You will act as co-developers and also end users, ensuring that the finished version is user-friendly. FYI, you will be contributing to the development of this tool. As users as well as programmers, you will have useful ideas about the development of the tool which may not have occurred to me. This provides me with an opportunity to directly develop the tool with end users. It is therefore very likely that some of the code that we co-develop during this unit will be incorporated into the live VariantValidator REST API. \n",
    "\n",
    "Before we explore the structure of the API, you need to access it.\n",
    "\n",
    "1. **In a new terminal, navigate to your home directory**\n",
    "\n",
    "```bash\n",
    "$ cd\n",
    "```\n",
    "\n",
    "2. Clone the rest_variantValidator repository from branch (-b) re-create \n",
    "\n",
    "```bash\n",
    "$ git clone https://github.com/openvar/rest_variantValidator.git -b re-create2\n",
    "```\n",
    "\n",
    "3. Copy **only** the directory `application` into the directory `Introduction-to-Programming`\n",
    "\n",
    "\n",
    "4. Open module `app_v1` in PyCharm\n",
    "\n",
    "</div>"
   ]
  },
  {
   "cell_type": "markdown",
   "metadata": {},
   "source": [
    "### API structure\n",
    "\n",
    "***Refer to the code displayed in PyCharm***\n",
    "\n",
    "<br>\n",
    "\n",
    "####  Framework\n",
    "The API is built on the [Flask](https://en.wikipedia.org/wiki/Flask_\\(web_framework) web framework. \n",
    "\n",
    "```python\n",
    "from flask import Flask\n",
    "application = Flask(__name__)\n",
    "```\n",
    "\n",
    "The REST components are built using [Flask-RESTPlus](https://flask-restplus.readthedocs.io/en/stable/) extensio\n",
    "\n",
    "```python\n",
    "from flask_restplus import Api\n",
    "api = Api(app = application)\n",
    "```\n",
    "\n",
    "\n",
    "> Flask-RESTPlus is an extension for Flask that adds support for quickly building REST APIs. Flask-RESTPlus encourages best practices with minimal setup. \n",
    "\n",
    ">It provides a coherent collection of tools to describe your API and expose its documentation properly (using Swagger).\n",
    "\n",
    "*Note: We will look at of Swagger in more detail in week 6 of this module*\n",
    "```python\n",
    "hello_space = application.namespace('hello', description='Simple API that returns a greeting')\n",
    "```\n",
    "<br>\n",
    "\n",
    "#### An API Endpoint\n",
    "\n",
    "We define a URL route for the hello_space object *i.e.* looking at the URL of this notebook, route \"/\" refers to  \"http://localhost:8888\"\n",
    "\n",
    "```python\n",
    "@hello_space.route(\"/\")\n",
    "```\n",
    "*Note: the route is assigned to the name_space object\n",
    "\n",
    "The API Endpoint is very simple. When called via a URL it will return the JSON `{\"greeting\": \"Hello World\"}`\n",
    "\n",
    "```python\n",
    "class HelloClass(Resource):\n",
    "    def get(self):\n",
    "        return {\n",
    "            \"greeting\": \"Hello World\"\n",
    "        }\n",
    "```\n",
    "\n",
    "<br>\n",
    "\n",
    "#### Running the API in development mode\n",
    "Here we invoke some Python magic using [if __name__ == '__main__':](https://www.geeksforgeeks.org/what-does-the-if-__name__-__main__-do/). \n",
    "\n",
    "If __name__ does indeed == '__main__', *i.e.* we run this module directly rather than importing via another module, the API will run in debug mode. \n",
    "\n",
    "```python\n",
    "# Allows app to be run in debug mode\n",
    "if __name__ == '__main__':\n",
    "    application.debug = True # Enable debugging mode\n",
    "    application.run(host=\"127.0.0.1\", port=5000) # Specify a host and port for the app\n",
    "```\n",
    "\n",
    "*Note: we will explore debugging in week 5*"
   ]
  },
  {
   "cell_type": "markdown",
   "metadata": {},
   "source": [
    "<div class=\"alert alert-info\">\n",
    "    <b><h3>Have a go</h3></b>\n",
    "\n",
    "Rather than trying to explain this, have a go. In the PyCharm terminal, type\n",
    "\n",
    "```bash\n",
    "$ pip install flask\n",
    "$ pip install flask-restplus\n",
    "$ python SPRINT/application/app_v1.py\n",
    "```\n",
    "\n",
    "<br>\n",
    "\n",
    "In a browser navigate to [http://127.0.0.1:5000/](http://127.0.0.1:5000/) **and witness the beauty of Swagger API documentation**\n",
    "\n",
    "<br>\n",
    "\n",
    "In the web page that opens \n",
    "\n",
    "1. Click the `VariantValidator` dropdown menu and the `GET` icon \n",
    "\n",
    "3. Click `Try it out` and `Execute` and you will make a request to your API be presented with the following response screen\n",
    "\n",
    "<img src=\"https://github.com/i3hsInnovation/resources/blob/master/images/app_v1_ia.png?raw=true\" width=\"75%\"/>\n",
    "\n",
    "</div>"
   ]
  },
  {
   "cell_type": "markdown",
   "metadata": {},
   "source": [
    "### The API response\n",
    "\n",
    "Let's take a look at the response which Swagger has parsed into a user-friendly web page.\n",
    "\n",
    "Don't believe me, copy the `Request URL` and paste it into a new browser tab to display the raw output from your API!\n",
    "\n",
    "#### Server responses\n",
    "1. [Response code](https://developer.amazon.com/docs/amazon-drive/ad-restful-api-response-codes.html) 200\n",
    "2. The Response headers provide additional response metadata, *e.g.* the content-type and the time of the response\n",
    "3. Response body, *i.e.* the JSON we created to be returned"
   ]
  },
  {
   "cell_type": "markdown",
   "metadata": {},
   "source": [
    "<a id=\"builder_b\"></a>\n",
    "\n",
    "<b><h2>Building a simple API: Part B - Request data using Python</h2></b>  \n",
    "</div>"
   ]
  },
  {
   "cell_type": "markdown",
   "metadata": {},
   "source": [
    "### The Requests module\n",
    "[Requests](https://2.python-requests.org/en/master/)\n",
    "> Requests: HTTP for Humans™\n",
    "\n",
    "> Requests is the only HTTP library for Python safe for human consumption\n",
    "\n",
    "***\n",
    "<sup>Courtesy of the \"requests\" © 2019 Kenneth Reitz [Apache 2 License](https://www.apache.org/licenses/LICENSE-2.0)</sup><br/>\n",
    "\n",
    "OK, we have to take their word for it, but we are going to use requests because is's simple, easy to understand and is well maintained\n",
    "\n",
    "#### Method\n",
    "\n",
    "1. Install requests into your environment"
   ]
  },
  {
   "cell_type": "code",
   "execution_count": null,
   "metadata": {},
   "outputs": [],
   "source": [
    "! pip install requests"
   ]
  },
  {
   "cell_type": "markdown",
   "metadata": {},
   "source": [
    "2. Import modules we will use"
   ]
  },
  {
   "cell_type": "code",
   "execution_count": null,
   "metadata": {},
   "outputs": [],
   "source": [
    "import requests\n",
    "import json"
   ]
  },
  {
   "cell_type": "markdown",
   "metadata": {},
   "source": [
    "3. Create a simple function that calls the API using responses\n",
    "\n",
    "  - *Note: This function is in a format that can be expanded*"
   ]
  },
  {
   "cell_type": "code",
   "execution_count": 1,
   "metadata": {},
   "outputs": [],
   "source": [
    "base_url = 'http://127.0.0.1:5000/'\n",
    "def make_request(base_url, api_function):\n",
    "    # Tell the User the full URL of their call to the rest API\n",
    "    url = '%s%s' % (base_url, api_function)\n",
    "    print(\"Querying rest API with URL: \" + url)\n",
    "    \n",
    "    # Make the request and pass to a response object that the function returns\n",
    "    response = requests.get(url)\n",
    "    return response"
   ]
  },
  {
   "cell_type": "markdown",
   "metadata": {},
   "source": [
    "4. Make a request to our API using the function. We need to specify the base_url and the api_function"
   ]
  },
  {
   "cell_type": "code",
   "execution_count": null,
   "metadata": {},
   "outputs": [],
   "source": [
    "response = make_request(base_url, 'hello')"
   ]
  },
  {
   "cell_type": "markdown",
   "metadata": {},
   "source": [
    "5. Look at the response content\n",
    "  - response status code"
   ]
  },
  {
   "cell_type": "code",
   "execution_count": null,
   "metadata": {},
   "outputs": [],
   "source": [
    "response.status_code"
   ]
  },
  {
   "cell_type": "markdown",
   "metadata": {},
   "source": [
    "  - response headers"
   ]
  },
  {
   "cell_type": "code",
   "execution_count": null,
   "metadata": {},
   "outputs": [],
   "source": [
    "response.headers"
   ]
  },
  {
   "cell_type": "markdown",
   "metadata": {},
   "source": [
    "5. Finally, extract the body which the requests.json() method formats into Python dictionary"
   ]
  },
  {
   "cell_type": "code",
   "execution_count": null,
   "metadata": {},
   "outputs": [],
   "source": [
    "body = response.json()\n",
    "body"
   ]
  },
  {
   "cell_type": "markdown",
   "metadata": {},
   "source": [
    "<a id=\"builder_c\"></a>\n",
    "\n",
    "<b><h2>Building a simple API: Part C - Create a new VariantValidator API</h2></b>  \n",
    "</div>"
   ]
  },
  {
   "cell_type": "markdown",
   "metadata": {},
   "source": [
    "## A bit basic isn't it?\n",
    "\n",
    "The simple `hello` API is a bit basic, but it does show you how an API works and we have also made requests to our API using Python.\n",
    "\n",
    "So what if we want to pass some data to the API?\n",
    "\n",
    "To `application/app_v2` I have added an additional **namespace** called name_space.\n",
    "\n",
    "I have also added a new API to our REST interface called name\n",
    "\n",
    "```python\n",
    "name_space = application.namespace('name', description='Return a name provided by the user')\n",
    "@name_space.route(\"<string:name>\")\n",
    "class NameClass(Resource):\n",
    "    def get(self, name):\n",
    "        return {\n",
    "            \"My name is\" : name\n",
    "        }\n",
    "```\n",
    "\n",
    "To capture data submitted to the API, we tell the name_space.route to expect a **string** object\n",
    "```python\n",
    "@name_space.route(\"/<string:name>\")\n",
    "```\n",
    "\n",
    "and the NameClass Resource to expect the string object\n",
    "```python\n",
    "def get(self, name):\n",
    "```"
   ]
  },
  {
   "cell_type": "markdown",
   "metadata": {},
   "source": [
    "<div class=\"alert alert-info\">\n",
    "    <b><h3>Have a go</h3></b>\n",
    "\n",
    "Activate `app_v2`\n",
    "\n",
    "```bash\n",
    "$ python SPRINT/application/app_v2.py\n",
    "```\n",
    "\n",
    "\n",
    "### Exercise\n",
    "\n",
    "In a browser navigate to [http://127.0.0.1:5000/](http://127.0.0.1:5000/) and see whether you can figure out how to return your name using the API\n",
    "\n",
    "*Swagger is your friend here. It makes it very simple for a lay user to use an API*\n",
    "\n",
    "<br>\n",
    "\n",
    "### Exercise 2\n",
    "\n",
    "Now write a script that can make a call to the API and return the JSON that displays your name\n",
    "\n",
    "*Use the script above as a template. Remember, you may want to make a call to the hello API again, so keep the function flexible*\n",
    "\n",
    "Once the script is working, print out the response status, headings and JSON\n",
    "\n",
    "</div>\n",
    "\n",
    "[Return to top](#top)\n",
    "\n",
    "-------------"
   ]
  },
  {
   "cell_type": "markdown",
   "metadata": {},
   "source": [
    "<a id=\"s2s\"></a>\n",
    "\n",
    "<b><h2>Section 2 Summary and Assignment</h2></b>  \n",
    "</div>"
   ]
  },
  {
   "cell_type": "markdown",
   "metadata": {},
   "source": [
    "### Summary\n",
    "In section 2 of this notebook we have learned about the REST API framework. We have learned how to build a simple REST API of our own. We have briefly touched upon the concept of how Swagger documentation makes APIs accessible to mere humans\\*. We have also learned how to request and make sense of data returned by REST PAIs using the Python requests module\n",
    "\n",
    "\\**We will look at of Swagger in more detail in week 8 of this unit* "
   ]
  },
  {
   "cell_type": "markdown",
   "metadata": {
    "cell_style": "split"
   },
   "source": [
    "<a name=\"practical\"></a>\n",
    "\n",
    "### Over to you\n",
    "\n",
    "#### Aim of this exercise\n",
    "The aim of this exercise is to keep you into the mindset of working together as a team. We will concentrate on aspects of working in an Agile fashion.\n",
    "\n",
    "#### Structure your team\n",
    "Assign your team roles:\n",
    "\n",
    "1. **Project lead**\n",
    "    - Initiate the project on Git Issues (Note, there are two separate short projects here)\n",
    "    - Lead the group discussion in Git Issues and Slack\n",
    "    - Provide final feedback on the group's activities and close the issue\n",
    "    \n",
    "\n",
    "2. **Team members**\n",
    "    - Coders who will be responsible for writing the Python functions\n",
    "    - Testers who will be responsible for testing the code and providing feedback to the coders\n",
    "\n",
    "***We recommend ensuring that you most experienced coders work with your least experienced coders. Don't forget, this is a team assignment, if you can't figure out how to do something, ask your team on Slack!***"
   ]
  },
  {
   "cell_type": "markdown",
   "metadata": {
    "cell_style": "split"
   },
   "source": [
    "<img src=\"https://github.com/i3hsInnovation/resources/blob/master/images/Discussionsummative.png?raw=true\" width=\"25%\"/>"
   ]
  },
  {
   "cell_type": "markdown",
   "metadata": {
    "cell_style": "split"
   },
   "source": [
    "### Work-flow\n",
    "\n",
    "1. Group leader creates an issue on Git Issues\n",
    "2. The coders will work together to write the module\n",
    "3. The testers will review the final code and test the code. Feedback will be given to the coders within the Git issue\n",
    "4. Once the coding is completed and tested, the project lead will summarise the key work-flow points and close the issue\n",
    "\n",
    "**Details about how the assignment will be marked can be found [here](LINK)**"
   ]
  },
  {
   "cell_type": "markdown",
   "metadata": {},
   "source": [
    "\n",
    "<div class=\"alert alert-block alert-info\">\n",
    "\n",
    "### Team Assignment\n",
    "\n",
    "***Remember, you are working as a team. Make sure you assign tasks in an agile way***\n",
    "\n",
    "#### Coding Workflow\n",
    "1. In `applications/app_v3.py` I have created a `vv_space` namespace and `VariantValidatorClass` resource (Endpoint). Your task is to replace all the sections of the module marked \\_\\_\\_\\_\\_ (5 underscores) with actual code. The namespace requires 3 variables.\n",
    "\n",
    "When you have finished filling in the blanks, the answers can be found in `app_v4.py`\n",
    "\n",
    "<br>\n",
    "\n",
    "***Refer to the existing [VariantValidator REST API](https://rest.variantvalidator.org/webservices/variantvalidator.html#!/variantvalidator/VariantValidator)***\n",
    "\n",
    "2. In `applications/app_v3.py` create a new namespace and Endpoint that incorporates and returns the data from the function you created in SPRINT_1_introduction_a. When you are creating the namespace route, add a field that allows the user to select whether or not the sequences your function returns are displayed.\n",
    "  \n",
    "*Note: for non-coding transcripts some of these fields will need to  return None*\n",
    "\n",
    "</div>"
   ]
  },
  {
   "cell_type": "markdown",
   "metadata": {},
   "source": [
    "[Return to top](#top)\n",
    "\n",
    "-------------\n",
    "\n",
    "### Concluding remarks\n",
    "We will cover methods for reading and writing JSON data to-and-from files in week_6, but a key aspect of learning to program is learning to use the internet to find out how to do things. Google and stack overflow are your friends!"
   ]
  },
  {
   "cell_type": "markdown",
   "metadata": {},
   "source": [
    "#### Notebook details\n",
    "<br>\n",
    "<i>Notebook created by <strong>Dr. Pete Causey-Freeman</strong> with, <strong>Frances Hooley</strong> \n",
    "    \n",
    "\n",
    "Publish date: October 2020<br>\n",
    "Review date: October 2021</i>\n",
    "\n",
    "Please give your feedback using the button below:\n",
    "\n",
    "<a class=\"typeform-share button\" href=\"https://form.typeform.com/to/YMpwLTNy\" data-mode=\"popup\" style=\"display:inline-block;text-decoration:none;background-color:#3A7685;color:white;cursor:pointer;font-family:Helvetica,Arial,sans-serif;font-size:18px;line-height:45px;text-align:center;margin:0;height:45px;padding:0px 30px;border-radius:22px;max-width:100%;white-space:nowrap;overflow:hidden;text-overflow:ellipsis;font-weight:bold;-webkit-font-smoothing:antialiased;-moz-osx-font-smoothing:grayscale;\" target=\"_blank\">Rate this notebook </a> <script> (function() { var qs,js,q,s,d=document, gi=d.getElementById, ce=d.createElement, gt=d.getElementsByTagName, id=\"typef_orm_share\", b=\"https://embed.typeform.com/\"; if(!gi.call(d,id)){ js=ce.call(d,\"script\"); js.id=id; js.src=b+\"embed.js\"; q=gt.call(d,\"script\")[0]; q.parentNode.insertBefore(js,q) } })() </script>"
   ]
  },
  {
   "cell_type": "code",
   "execution_count": null,
   "metadata": {},
   "outputs": [],
   "source": []
  }
 ],
 "metadata": {
  "kernelspec": {
   "display_name": "Python 3",
   "language": "python",
   "name": "python3"
  },
  "language_info": {
   "codemirror_mode": {
    "name": "ipython",
    "version": 3
   },
   "file_extension": ".py",
   "mimetype": "text/x-python",
   "name": "python",
   "nbconvert_exporter": "python",
   "pygments_lexer": "ipython3",
   "version": "3.7.3"
  }
 },
 "nbformat": 4,
 "nbformat_minor": 2
}
