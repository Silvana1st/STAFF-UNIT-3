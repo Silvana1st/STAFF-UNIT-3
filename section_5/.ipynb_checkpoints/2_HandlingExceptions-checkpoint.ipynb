{
 "cells": [
  {
   "cell_type": "markdown",
   "metadata": {},
   "source": [
    "<img src=\"https://github.com/i3hsInnovation/resources/blob/master/images/introbanner.png?raw=true\" />"
   ]
  },
  {
   "cell_type": "markdown",
   "metadata": {},
   "source": [
    "<table style=\"float:right\" width=\"50%\">\n",
    "    <tr>\n",
    "        <td>                      \n",
    "            <div style=\"text-align: left\"><a href=\"\" target=\"_blank\">Dr Peter Causey-Freeman</a></div>\n",
    "            <div style=\"text-align: left\">Lecturer - Healthcare Sciences</div>\n",
    "            <div style=\"text-align: left\">(Clinical Bioinformatics)</div>\n",
    "            <div style=\"text-align: left\">The University of Manchester</div>\n",
    "         </td>\n",
    "         <td>\n",
    "             <img src=\"https://github.com/i3hsInnovation/resources/blob/master/images/pete.001.png?raw=true\" width=\"40%\" />\n",
    "         </td>\n",
    "     </tr>\n",
    "</table>"
   ]
  },
  {
   "cell_type": "markdown",
   "metadata": {},
   "source": [
    "# Handling Exceptions\n",
    "***\n",
    "\n",
    "### About this Notebook\n",
    "In this notebook we will learn to use Exception blocks by looking at a few useful examples. We will also look at some  Exception blocks which I have added to our API to deal with expected likely exceptions that the tool will have to deal with.\n",
    "\n",
    "\n",
    "This notebook is at <code>Beginner</code> level and will take approximately 1 hour to complete."
   ]
  },
  {
   "cell_type": "markdown",
   "metadata": {},
   "source": [
    "<div class=\"alert alert-block alert-warning\"><b>Learning Objective:</b> Developing programming skills (specifically learning how to handle Python Exceptions)</div>"
   ]
  },
  {
   "cell_type": "markdown",
   "metadata": {},
   "source": [
    "<b><h2>Table of Contents</h2></b>  "
   ]
  },
  {
   "cell_type": "markdown",
   "metadata": {},
   "source": [
    "### [Introduction to handling Exceptions](#hex)\n",
    "- [What are Exceptions?](#whatsit)\n",
    "- [The anatomy of an Exception?](#anatomy)\n",
    "- [Logging Exceptions](#elog)\n",
    "- [Adding Exception handlers to our API](#apiex)\n",
    "- [Logging API Exceptions](#apilog)\n",
    "- [Conclusion](#conclusion)"
   ]
  },
  {
   "cell_type": "markdown",
   "metadata": {},
   "source": [
    "<a id=\"hex\"></a>\n",
    "<table width=\"100%\" style=\"float:left\">\n",
    "    <tr>\n",
    "        <td width=\"60%\" style=\"text-align: left\">\n",
    "            <h1>Introduction to handling Exceptions</a></h1>\n",
    "        </td>\n",
    "        <td width=\"40%\">\n",
    "            <img src=\"https://github.com/i3hsInnovation/resources/blob/master/images/python-exception-handling.png?raw=true\" width=\"75%\"/>\n",
    "        </td>\n",
    "    </tr>\n",
    "</table>"
   ]
  },
  {
   "cell_type": "markdown",
   "metadata": {},
   "source": [
    "***\n",
    "<sup>Image by Peter Causey-Freeman</sup>"
   ]
  },
  {
   "cell_type": "markdown",
   "metadata": {},
   "source": [
    "<a id=\"whatsit\"></a>\n",
    "\n",
    "<b><h2>What are Exceptions?</h2></b>  \n",
    "</div>"
   ]
  },
  {
   "cell_type": "code",
   "execution_count": 1,
   "metadata": {
    "hide_input": true,
    "init_cell": true,
    "scrolled": false
   },
   "outputs": [
    {
     "data": {
      "image/jpeg": "[encoded data removed]",
      "text/html": [
       "\n",
       "        <iframe\n",
       "            width=\"560\"\n",
       "            height=\"315\"\n",
       "            src=\"https://www.youtube.com/embed/nlCKrKGHSSk\"\n",
       "            frameborder=\"0\"\n",
       "            allowfullscreen\n",
       "        ></iframe>\n",
       "        "
      ],
      "text/plain": [
       "<IPython.lib.display.YouTubeVideo at 0x223a4c779b0>"
      ]
     },
     "execution_count": 1,
     "metadata": {},
     "output_type": "execute_result"
    }
   ],
   "source": [
    "from IPython.display import YouTubeVideo\n",
    "# Youtube\n",
    "YouTubeVideo('nlCKrKGHSSk', width=560, height=315)"
   ]
  },
  {
   "cell_type": "markdown",
   "metadata": {},
   "source": [
    "<a id=\"anatomy\"></a>\n",
    "\n",
    "<b><h2>The anatomy of an Exception</h2></b>  \n",
    "</div>"
   ]
  },
  {
   "cell_type": "markdown",
   "metadata": {},
   "source": [
    "### Python Exceptions have three features:\n",
    "\n",
    "#### 1. The Exception type/class\n",
    "\n",
    "- The preceding video illustrated several common Exception classes, *e.g.* ZeroDivisionError\n",
    "\n",
    "#### 2. The Value of the Exception\n",
    "\n",
    "- A simple, and frequently terse and pretty-meaningless error message, *e.g.* \"division by zero\"\n",
    "\n",
    "#### 3. A Traceback\n",
    "\n",
    "- Python keeps a log of its progress which is stored in a traceback. Tracebacks can be recalled if we encounter an Exception\n",
    "\n",
    "***Give it a try***"
   ]
  },
  {
   "cell_type": "code",
   "execution_count": null,
   "metadata": {},
   "outputs": [],
   "source": [
    "# Example of a ZeroDivisionError\n",
    "print(1/0)"
   ]
  },
  {
   "cell_type": "markdown",
   "metadata": {},
   "source": [
    "### Custom Exceptions\n",
    "If, for example, we want to re-create the Exception and provide a better Value, we can raise a custom Exception"
   ]
  },
  {
   "cell_type": "code",
   "execution_count": null,
   "metadata": {},
   "outputs": [],
   "source": [
    "# Define your custom error\n",
    "class MyZeroDivisionError(Exception):\n",
    "    pass\n",
    "\n",
    "# Use an exception block to capture a known error\n",
    "try:\n",
    "    print(1/0)\n",
    "except ZeroDivisionError as e:\n",
    "    # Once the Exception in caught, we can raise our custom exception with a better value\n",
    "    error = 'The warning \"%s\" is actually trying to tell you that it is illegal to divide something by Zero!' % str(e)\n",
    "    raise MyZeroDivisionError(error)"
   ]
  },
  {
   "cell_type": "markdown",
   "metadata": {},
   "source": [
    "<a id=\"elog\"></a>\n",
    "\n",
    "<b><h2>Logging Exceptions</h2></b>  \n",
    "</div>"
   ]
  },
  {
   "cell_type": "markdown",
   "metadata": {},
   "source": [
    "### Debugging intermittent or unexpected Exceptions\n",
    "\n",
    "If you are writing complex code or importing someone else's complex code, it is possible that you may encounter periodic and sporadic Exceptions that are difficult to replicate.\n",
    "\n",
    "For example, if you were unaware that one of the modules you are using relies on web-hosted data, and your router resets, you may encounter a troublesome sporadic Exception which is difficult to identify and trouble-shoot\n",
    "\n",
    "***For example, run the following code with your wireless internet connection turned on***"
   ]
  },
  {
   "cell_type": "code",
   "execution_count": null,
   "metadata": {},
   "outputs": [],
   "source": [
    "import requests\n",
    "import IPython.display as Disp\n",
    "url = 'https://github.com/i3hsInnovation/resources/blob/master/images/puss_in_boots.jpg?raw=true'\n",
    "Disp.Image(requests.get(url).content)"
   ]
  },
  {
   "cell_type": "markdown",
   "metadata": {},
   "source": [
    "***Now switch off your internet connection and run the code again***"
   ]
  },
  {
   "cell_type": "markdown",
   "metadata": {},
   "source": [
    "### Logging Exceptions\n",
    "In many instances, it is advisable to run complex code in an Exception block and to log any Exceptions which occur. This is relatively simple.\n",
    "\n",
    "*Note, in these examples, we will display the log in the notebook. If you wish to log to a file or find out more about logging, follow this [Logging Tutorial](https://realpython.com/python-logging/)*"
   ]
  },
  {
   "cell_type": "code",
   "execution_count": null,
   "metadata": {},
   "outputs": [],
   "source": [
    "# Configure the logger\n",
    "import logging\n",
    "logging.basicConfig(level=logging.DEBUG)\n",
    "\n",
    "try:\n",
    "    assert 1 == '1'\n",
    "\n",
    "# Use Exception to catch all Exceptions \n",
    "except Exception as e:\n",
    "    # Add the Exception to the log ensuring that exc_info is True so that a traceback is also logged\n",
    "    logging.exception(\"Exception occurred\", exc_info=True)"
   ]
  },
  {
   "cell_type": "markdown",
   "metadata": {},
   "source": [
    "<a id=\"apiex\"></a>\n",
    "\n",
    "<b><h2>Adding Exception handlers to our API</h2></b>  \n",
    "</div>"
   ]
  },
  {
   "cell_type": "markdown",
   "metadata": {},
   "source": [
    "### Not Found error - 404\n",
    "\n",
    "Take a look at `application/app_v6`. \n",
    "\n",
    "I have added Exception handlers to the API that will deal with the most-common Exceptions I expect the API to encounter.\n",
    "\n",
    "For example, it is likely that users will request Endpoints that do not exist. If this this is the case, Flask-RESTPlus will raise a **NOT FOUND** Exception with the response code **404**. \n",
    "\n",
    "If we leave this Exception un-handled, Flask-RESTPlus will return a terse error message which will always be JSON formatted. However, we have created our API such that it allow our users to request responses in JSON and XML. We also want to provide user-friendly warnings.\n",
    "\n",
    "Flask-RESTPlus Exceptions are handled by decorator functions called `errorhandlers`.  \n",
    "\n",
    "The function we pass to the `errorhandler` should be familliar. It extracts arguments from the `requestparser`, determining whether the user-specified content-type is JSON or XML. It then **creates** the response. The function is passed to the `errorhandler` which compiles and returns the response. \n",
    "\n",
    "```python\n",
    "@application.errorhandler(404)\n",
    "def not_found_error_handler():\n",
    "    # Collect Arguments\n",
    "    args = parser.parse_args()\n",
    "    if args['content-type'] != 'application/xml':\n",
    "        return json({'message': 'Requested Endpoint not found'},\n",
    "                                404,\n",
    "                                None)\n",
    "    else:\n",
    "        return xml({'message': 'Requested Endpoint not found'},\n",
    "                   404,\n",
    "                   None)\n",
    "```\n",
    "\n",
    "*Note: I have used the application.errorhandler (Flask) rather app.errorhandler (Flask-RESTPlus) because Flask-RESTPlus's errorhandler is currently broken. However, I'm unlikely to revert to app.errorhandler because I know the code does what it ought to!* \n",
    "\n",
    "### Custom error - RemoteConnectionError\n",
    "As described earlier, the API gathers data from remote web-hosted resources, *e.g.* VariantValidator. Consequently, if the resource is unavailable, *e.g.* the connection to the internet fails, an Exception will be raised by the `requests` package.\n",
    "\n",
    "I have created a general errorhandler that deals with Internal Server Errors (500), but this is not an error caused by failing code, so I have created a custom errorhandler. \n",
    "\n",
    "First, I import the exceptions module from requests, specifically the `ConnectionError` class. \n",
    "\n",
    "```python\n",
    "from requests.exceptions import ConnectionError\n",
    "```\n",
    "\n",
    "I then register a custom Exception as we saw above, only this time I assign an error code (504)\n",
    "\n",
    "```python\n",
    "class RemoteConnectionError(Exception):\n",
    "    code=504\n",
    "```\n",
    "\n",
    "*Note: code 504 is a [Gateway Timeout](https://developer.mozilla.org/en-US/docs/Web/HTTP/Status/504)\n",
    "\n",
    "Finally, I create the custom errorhandler which is almost identical to the Not Found errorhandler.\n",
    "\n",
    "```python\n",
    "@application.errorhandler(RemoteConnectionError)\n",
    "def remote_connection_error_handler(e):\n",
    "    # Collect Arguments\n",
    "    args = parser.parse_args()\n",
    "    if args['content-type'] != 'application/xml':\n",
    "        return json({'message': str(e)},\n",
    "                                504,\n",
    "                                None)\n",
    "    else:\n",
    "        return xml({'message': str(e)},\n",
    "                   504,\n",
    "                   None)\n",
    "```\n",
    "\n",
    "To trigger this code, I have wrapped the request to the VariantValidator REST API in an Exception block.\n",
    "\n",
    "```python\n",
    "        # Make a request to the curent VariantValidator rest-API\n",
    "        url = '/'.join(['http://rest.variantvalidator.org/variantvalidator', genome_build, variant_description, select_transcripts])\n",
    "\n",
    "        # Likley error source, Test be switching off internet connection!\n",
    "        try:\n",
    "            validation = requests.get(url)\n",
    "        except ConnectionError:\n",
    "            raise RemoteConnectionError('https://rest.variantvalidator.org/variantvalidator currently unavailable')\n",
    "```\n",
    "\n"
   ]
  },
  {
   "cell_type": "markdown",
   "metadata": {},
   "source": [
    "\n",
    "\n",
    "<div class=\"alert alert-block alert-info\"><b>Have a go </b> \n",
    "    \n",
    "Activate the API\n",
    "\n",
    "```bash\n",
    "$ python application/app_v6.py\n",
    "```\n",
    "\n",
    "Use the variantvalidator Endpoint, requesting both JSON and XML, then switch off your internet connection and try the Endpoint again and you will see the error message **'https://rest.variantvalidator.org/variantvalidator currently unavailable'** in the requested format.\n",
    "\n",
    "</div>"
   ]
  },
  {
   "cell_type": "markdown",
   "metadata": {},
   "source": [
    "<a id=\"apilog\"></a>\n",
    "\n",
    "<b><h2>Logging API Exceptions</h2></b>  \n",
    "</div>"
   ]
  },
  {
   "cell_type": "markdown",
   "metadata": {},
   "source": [
    "### Logging Exceptions\n",
    "You may have noticed that I have also added logging functionality to the API in `app_v6`.\n",
    "\n",
    "I have deliberately used a \"light-touch\" approach to logging because:\n",
    "- We do not want to end up filling our hard-drive with endless logging\n",
    "- For the error logs, I only want to capture a snap-shot of anything that causes the API to break, not information for every request made to the API.\n",
    "- Once the API is deployed, the server platform can be set to log information that would usually be sent to the terminal, so general usage information will still be logged.\n",
    "- Clear separation of errors and general usage information makes debugging much easier.\n",
    "\n",
    "\n",
    "### Configure the logger\n",
    "\n",
    "#### I have imported additional modules\n",
    "\n",
    "```python\n",
    "# We will need the request module from flask\n",
    "from flask import Flask, make_response, request\n",
    "\"\"\"\n",
    "Logging\n",
    "\"\"\"\n",
    "import logging\n",
    "import logging.handlers as handlers\n",
    "import time\n",
    "```\n",
    "\n",
    "#### Next I configure two loggers. \n",
    "1. A general logger that will print general usage data to the terminal (log-level INFO)\n",
    "2. An error logger that will log ERRORS to a file (log-level ERROR)\n",
    "\n",
    "There are defined levels for logging from the least-severe messages to the most-severe\n",
    "- DEBUG\n",
    "- INFO\n",
    "- WARNING\n",
    "- ERROR\n",
    "- CRITICAL\n",
    "\n",
    "#### Use a RotatingFileHandler to restrict clutter\n",
    "To ensure my hard-drive is immune to \"log-clog\", I have used a RotatingFileHandler. This allows a log to reach 0.5Mb, it is then archived and a new log is created, once we end up filling the log and 2 archives, they are sequentially replaced. \n",
    "\n",
    "```python\n",
    "\"\"\"\n",
    "Logging\n",
    "\"\"\"\n",
    "logger = logging.getLogger('rest_api')\n",
    "# We are setting 2 types of logging. To screen at the level DEBUG\n",
    "logger.setLevel(logging.INFO)\n",
    "\n",
    "# We will also log to a file\n",
    "# Log with a rotating file-handler. This sets the maximum size of the log to 0.5Mb and allows two additional logs\n",
    "# The logs are then deleted and replaced in rotation\n",
    "logHandler = handlers.RotatingFileHandler('rest_api.log', maxBytes=500000, backupCount=2)\n",
    "# We want to minimise the amount of information we log to capturing bugs\n",
    "logHandler.setLevel(logging.ERROR)\n",
    "logger.addHandler(logHandler)\n",
    "```\n",
    "\n",
    "### Log Errors and tracebacks handled by the errorhandlers\n",
    "\n",
    "#### Create a neat function to compile error-messages\n",
    "The standard information that the logging exceptions example provided above is insufficient for debugging. For example, I know where the code has broken, but what broke it?????\n",
    "\n",
    "We therefore need to know the parameters passed to the API which are captured by the `Flask request` module. We need to capture the request path (*i.e.* the request which triggered the API \n",
    "\n",
    "It would also be nice to know when the Exception occurred so we can record the time with Python's inbuilt `time` module\n",
    "\n",
    "```python\n",
    "# Simple function that creates an error message that we will log\n",
    "def log_exception(exception_type):\n",
    "    # We want to know the arguments passed and the path so we can replicate the error\n",
    "    params = dict(request.args)\n",
    "    params['path'] = request.path\n",
    "    # Create the message and log\n",
    "    message = '%s occurred at %s with params=%s' % (exception_type, time.ctime(), params)\n",
    "    logger.exception(message, exc_info=True)\n",
    "```\n",
    "\n",
    "#### Call the log_exception function from within the errorhandler\n",
    "Finally, we call the log_exception function from within the relevant errorhandlers to log the Exception report.\n",
    "\n",
    "```python\n",
    "@application.errorhandler(exceptions.RemoteConnectionError)\n",
    "def remote_connection_error_handler(e):\n",
    "    # Add the Exception to the log ensuring that exc_info is True so that a traceback is also logged\n",
    "    log_exception('RemoteConnectionError')\n",
    "\n",
    "    # Collect Arguments\n",
    "    args = parser.parse_args()\n",
    "    if args['content-type'] != 'application/xml':\n",
    "        return application_json({'message': str(e)},\n",
    "                                504,\n",
    "                                None)\n",
    "    else:\n",
    "        return xml({'message': str(e)},\n",
    "                   504,\n",
    "                   None)\n",
    "```\n",
    "\n"
   ]
  },
  {
   "cell_type": "markdown",
   "metadata": {},
   "source": [
    "<div class=\"alert alert-block alert-info\"><b>Give it a try</b><br/>\n",
    "    \n",
    "Activate `application/app_v6`\n",
    "\n",
    "```bash\n",
    "$ python application/app_v6\n",
    "```\n",
    "\n",
    "Validate a variant with the VariantValidator function. Then switch off your internet connection and validate again. You will see that that an error message has been printed to rest_api.log\n",
    "</div>"
   ]
  },
  {
   "cell_type": "markdown",
   "metadata": {},
   "source": [
    "<a id=\"conclusion\"></a>\n",
    "\n",
    "<b><h2>Summary</h2></b>  \n",
    "</div>"
   ]
  },
  {
   "cell_type": "markdown",
   "metadata": {},
   "source": [
    "In this tutorial, we have briefly touched on Exceptions and how we handle them in Python. Remember, Exceptions are not necessarily errors. They provide us with the flexibility to capture the Exception and to activate custom code. This allows us to change the behavior of the Exception from killing your application to running code that can be used to improve the user-experience. \n",
    "\n",
    "We have also learned how to capture and utilise Exception information for effective debugging and for logging errors so that we can debug sporadic Exceptions."
   ]
  },
  {
   "cell_type": "markdown",
   "metadata": {},
   "source": [
    "------\n",
    "#### Notebook details\n",
    "<br>\n",
    "<i>Notebook created by <strong>Dr. Pete Causey-Freeman</strong> with, <strong>Frances Hooley</strong> \n",
    "    \n",
    "\n",
    "Publish date: October 2020<br>\n",
    "Review date: October 2021</i>\n",
    "\n",
    "Please give your feedback using the button below:\n",
    "\n",
    "<a class=\"typeform-share button\" href=\"https://form.typeform.com/to/YMpwLTNy\" data-mode=\"popup\" style=\"display:inline-block;text-decoration:none;background-color:#3A7685;color:white;cursor:pointer;font-family:Helvetica,Arial,sans-serif;font-size:18px;line-height:45px;text-align:center;margin:0;height:45px;padding:0px 30px;border-radius:22px;max-width:100%;white-space:nowrap;overflow:hidden;text-overflow:ellipsis;font-weight:bold;-webkit-font-smoothing:antialiased;-moz-osx-font-smoothing:grayscale;\" target=\"_blank\">Rate this notebook </a> <script> (function() { var qs,js,q,s,d=document, gi=d.getElementById, ce=d.createElement, gt=d.getElementsByTagName, id=\"typef_orm_share\", b=\"https://embed.typeform.com/\"; if(!gi.call(d,id)){ js=ce.call(d,\"script\"); js.id=id; js.src=b+\"embed.js\"; q=gt.call(d,\"script\")[0]; q.parentNode.insertBefore(js,q) } })() </script>\n"
   ]
  },
  {
   "cell_type": "code",
   "execution_count": null,
   "metadata": {},
   "outputs": [],
   "source": []
  }
 ],
 "metadata": {
  "celltoolbar": "Initialization Cell",
  "kernelspec": {
   "display_name": "Python 3",
   "language": "python",
   "name": "python3"
  },
  "language_info": {
   "codemirror_mode": {
    "name": "ipython",
    "version": 3
   },
   "file_extension": ".py",
   "mimetype": "text/x-python",
   "name": "python",
   "nbconvert_exporter": "python",
   "pygments_lexer": "ipython3",
   "version": "3.7.3"
  }
 },
 "nbformat": 4,
 "nbformat_minor": 2
}
