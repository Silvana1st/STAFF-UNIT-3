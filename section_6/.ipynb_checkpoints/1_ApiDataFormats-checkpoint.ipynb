{
 "cells": [
  {
   "cell_type": "markdown",
   "metadata": {
    "collapsed": true
   },
   "source": [
    "<img src=\"https://github.com/i3hsInnovation/resources/blob/master/images/introbanner.png?raw=true\" />"
   ]
  },
  {
   "cell_type": "markdown",
   "metadata": {},
   "source": [
    "<table style=\"float:right\" width=\"50%\">\n",
    "    <tr>\n",
    "        <td>                      \n",
    "            <div style=\"text-align: left\"><a href=\"\" target=\"_blank\">Dr Peter Causey-Freeman</a></div>\n",
    "            <div style=\"text-align: left\">Lecturer - Healthcare Sciences</div>\n",
    "            <div style=\"text-align: left\">(Clinical Bioinformatics)</div>\n",
    "            <div style=\"text-align: left\">The University of Manchester</div>\n",
    "         </td>\n",
    "         <td>\n",
    "             <img src=\"https://github.com/i3hsInnovation/resources/blob/master/images/pete.001.png?raw=true\" width=\"40%\" />\n",
    "         </td>\n",
    "     </tr>\n",
    "</table>"
   ]
  },
  {
   "cell_type": "markdown",
   "metadata": {},
   "source": [
    "# Common REST API data formats\n",
    "****\n",
    "\n",
    "### About this Notebook\n",
    "This notebook explores standard response formats returned by most REST APIs, *i.e.* JSON and XML. \n",
    "\n",
    "his notebook is at <code>Beginner</code> level and will take approximately 1 hour to complete.\n",
    "\n",
    "-------"
   ]
  },
  {
   "cell_type": "markdown",
   "metadata": {},
   "source": [
    "<div class=\"alert alert-block alert-warning\"><b>Learning Objective:</b> Using electronic and online resources (specifically understanding common data formats)</div>"
   ]
  },
  {
   "cell_type": "markdown",
   "metadata": {},
   "source": [
    "<b><h2>Table of Contents</h2></b>  "
   ]
  },
  {
   "cell_type": "markdown",
   "metadata": {},
   "source": [
    "#### Section 1: [JSON revisited](#json)\n",
    "- [JSON recap](#jrecap)\n",
    "- [Revisiting our simple API](#json_api)\n",
    "\n",
    "#### Section 2: [Introduction to XML](#xml)\n",
    "- [What is XML](#watsit_2)\n",
    "- [XML Tutorial](#xml_tut)\n",
    "\n",
    "#### Section 3: [Modifying our REST API to return XML](#app_xml)\n",
    "- [Adding XML as a Response content type](#add_xml)\n",
    "- [Returning an XML response from a 'Request URL'](#update_xml)\n",
    " \n",
    "#### [Summary](#sum)"
   ]
  },
  {
   "cell_type": "markdown",
   "metadata": {},
   "source": [
    "<a id=\"json\"></a>\n",
    "<table width=\"100%\" style=\"float:left\">\n",
    "    <tr>\n",
    "        <td width=\"60%\" style=\"text-align: left\">\n",
    "            <h1>Section 1: <a href=\"https://www.json.org/\" target=\"_blank\">JSON</a> revisited</h1>\n",
    "        </td>\n",
    "        <td width=\"40%\">\n",
    "            <img src=\"https://github.com/i3hsInnovation/resources/blob/master/images/json-logo.png?raw=true\" width=\"30%\"/>\n",
    "        </td>\n",
    "    </tr>\n",
    "</table> "
   ]
  },
  {
   "cell_type": "markdown",
   "metadata": {},
   "source": [
    "***\n",
    "<div><sup>Icons made by <a href=\"https://www.flaticon.com/authors/smashicons\" title=\"Smashicons\">Smashicons</a> from <a href=\"https://www.flaticon.com/\"             title=\"Flaticon\">www.flaticon.com</a></sup></div>"
   ]
  },
  {
   "cell_type": "markdown",
   "metadata": {},
   "source": [
    "<a id=\"jrecap\"></a>\n",
    "\n",
    "<b><h2>JSON recap</h2></b>  \n",
    "</div>"
   ]
  },
  {
   "cell_type": "markdown",
   "metadata": {},
   "source": [
    "In week_4 we introduced the JSON format. For a brief recap, visit the [w3schools, what is JSON](https://www.w3schools.com/whatis/whatis_json.asp)\n",
    "\n",
    "To gain a broader understanding of JSON, follow the [w3schools JSON tutorial](https://www.w3schools.com/js/js_json_intro.asp)\n",
    "\n",
    "*Note: only complete the JSON tutorial as far as JSON arrays*"
   ]
  },
  {
   "cell_type": "markdown",
   "metadata": {},
   "source": [
    "<a id=\"json_api\"></a>\n",
    "\n",
    "<b><h2>Revisiting our simple API</h2></b>  \n",
    "</div>"
   ]
  },
  {
   "cell_type": "markdown",
   "metadata": {},
   "source": [
    "### The API response\n",
    "\n",
    "By default, our simple application returns JSON. Refresh your memory by running the simple application. Remember you activate the API running the command\n",
    "\n",
    "```bash\n",
    "$ python application/app_v2.py\n",
    "```\n",
    "\n",
    "Open a browser and \"Try out\" the `hello` API. You will see the content-type: application/json in the response headers\n",
    "\n",
    "<img src=\"https://github.com/i3hsInnovation/resources/blob/master/images/app_v1_ia.png?raw=true\" width=\"75%\"/>\n",
    "\n",
    "<br>\n",
    "\n",
    "However, JSON is not the only response type commonly returned by APIs."
   ]
  },
  {
   "cell_type": "markdown",
   "metadata": {},
   "source": [
    "<a id=\"json\"></a>\n",
    "<table width=\"100%\" style=\"float:left\">\n",
    "    <tr>\n",
    "        <td width=\"60%\" style=\"text-align: left\">\n",
    "            <h1>Section 2: Introduction to XML</h1>\n",
    "        </td>\n",
    "        <td width=\"30%\">\n",
    "            <img src=\"https://github.com/i3hsInnovation/resources/blob/master/images/xml.png?raw=true\" width=\"40%\"/>\n",
    "        </td>\n",
    "    </tr>\n",
    "</table>\n",
    "<div><sup>\n",
    "        Icon by <a href=\"https://www.flaticon.com/authors/smashicons\" title=\"Smashicons\">Smashicons</a> from <a href=\"https://www.flaticon.com/\"                 title=\"Flaticon\">www.flaticon.com</a> is licensed by <a href=\"http://creativecommons.org/licenses/by/3.0/\"                 title=\"Creative Commons BY 3.0\" target=\"_blank\">CC 3.0 BY</a>\n",
    "    </sup></div>"
   ]
  },
  {
   "cell_type": "markdown",
   "metadata": {},
   "source": [
    "<a id=\"watsit_2\"></a>\n",
    "\n",
    "<b><h2>What is XML</h2></b>  \n",
    "</div>"
   ]
  },
  {
   "cell_type": "markdown",
   "metadata": {},
   "source": [
    "### What is [XML](https://www.w3schools.com/whatis/whatis_xml.asp)\n",
    "- XML stands for eXtensible Markup Language\n",
    "- XML was designed to store and transport data\n",
    "- Like JSON, XML was designed to be both Human and machine readable\n",
    "- Like JSON, XML is simply structured text\n",
    "- Like JSON, XML is often used when data is sent from a server to a web page\n",
    "- Like JSON, XML is a syntax for storing and exchanging data\n",
    "\n",
    "### Storing Data\n",
    "Because XML is [serializable](https://en.wikipedia.org/wiki/Serialization) text it is an excellent format for storing structured data.\n",
    "\n",
    "XML stores data in plain text format. This provides a software- and hardware-independent way of storing, transporting, and sharing data.\n",
    "\n",
    "<a id=\"xml_tut\"></a>\n",
    "### XML tutorial\n",
    "Follow the [w3schools XML tutorial](https://www.w3schools.com/xml/default.asp)\n",
    "\n",
    "*Note: only complete the XML tutorial as far as XML Display*"
   ]
  },
  {
   "cell_type": "markdown",
   "metadata": {},
   "source": [
    "<a id=\"app_xml\"></a>\n",
    "<table width=\"100%\" style=\"float:left\">\n",
    "    <tr>\n",
    "        <td width=\"60%\" style=\"text-align: left\">\n",
    "            <h1>Section 3: Modifying our REST API to return XML</h1>\n",
    "        </td>\n",
    "        <td width=\"40%\">\n",
    "            <img src=\"https://github.com/i3hsInnovation/resources/blob/master/images/rest_api.png?raw=true\" width=\"25%\"/>\n",
    "        </td>\n",
    "    </tr>\n",
    "</table>"
   ]
  },
  {
   "cell_type": "markdown",
   "metadata": {},
   "source": [
    "***\n",
    "<sup>Image by Peter Causey-Freeman</sup>"
   ]
  },
  {
   "cell_type": "markdown",
   "metadata": {},
   "source": [
    "<a id=\"add_xml\"></a>\n",
    "\n",
    "<b><h2>Adding XML as a Response content type</h2></b>  \n",
    "</div>"
   ]
  },
  {
   "cell_type": "markdown",
   "metadata": {},
   "source": [
    "### The api.representrion method\n",
    "\n",
    "Adding XML to the \"Response content type\" drop-down menu of our documented API is pretty simple. \n",
    "\n",
    "In a PyCharm terminal run\n",
    "\n",
    "```bash\n",
    "$ pip install dicttoxml\n",
    "$ python application\\app_v4.py\n",
    "```\n",
    "\n",
    "*Note: remember to activate your Python environment*\n",
    "\n",
    "If you open `application\\app_v4.py` in PyCharm, you will find the following code which I have broken-down and described here.\n",
    "\n",
    "```python\n",
    "@api.representation('application/xml')\n",
    "def xml(data, code, headers):\n",
    "```\n",
    "\n",
    "- The api.representation method decorates the function xml\n",
    "- The decorator is activated by the `return` statement of our Endpoints\n",
    "- The data, response code and response headers are provided automatically\n",
    "\n",
    "```python\n",
    "def xml(data, code, headers):\n",
    "    data = dicttoxml(data)\n",
    "    resp = make_response(data, code)\n",
    "    resp.headers['Content-Type'] = 'application/xml'\n",
    "    return resp\n",
    "```\n",
    "\n",
    "- The xml function uses the dicttoxml module to convert the Python dictionary we submit to the return into XML\n",
    "- By default, Flask-RESTPlus converts the dictionary into JSON, but by creating `@api.representation('application/xml')` we can bypass this\n",
    "- We use the Flask make_response module to create a response\n",
    "- Finally we add the response header `['Content-Type'] = 'application/xml'`"
   ]
  },
  {
   "cell_type": "markdown",
   "metadata": {},
   "source": [
    "<div class=\"alert alert-block alert-info\">\n",
    "    \n",
    "### Exercise\n",
    "\n",
    "**Give it a go**\n",
    "\n",
    "- Open your browser at [http://127.0.0.1:5000/](http://127.0.0.1:5000/)\n",
    "- Click an Endpoint\n",
    "- Click `Try it out`\n",
    "- If necessary fill in the required text fields\n",
    "- Click `Execute`\n",
    "- Now change the \"Response content type\" drop-down menu to `application/xml`\n",
    "- Click `Execute` and look at the \"\tResponse body\" which is now formatted in XML\n",
    "</div>"
   ]
  },
  {
   "cell_type": "markdown",
   "metadata": {},
   "source": [
    "<a id=\"update_xml\"></a>\n",
    "\n",
    "<b><h2>Returning an XML response from a 'Request URL'</h2></b>  \n",
    "</div>"
   ]
  },
  {
   "cell_type": "markdown",
   "metadata": {},
   "source": [
    "### Accessing Flask-RESTPlus data via cURL and Request URL\n",
    "\n",
    "Have a go at the exercise above again and pay attention to the fields **\"Curl\"** and **\"Request URL\"**. You should notice that the **Curl** field updates depending on whether you have requested:\n",
    "- JSON \n",
    "```bash \n",
    "$ curl -X GET \"http://127.0.0.1:5000/hello/\" -H \"accept: application/json\"\n",
    "```\n",
    "- XML\n",
    "```bash\n",
    "$curl -X GET \"http://127.0.0.1:5000/hello/\" -H \"accept: application/xml\"\n",
    "```\n",
    "\n",
    "[cURL](https://en.wikipedia.org/wiki/CURL) was designed as a method for sending and collecting data. Although it uses URLs which you will be familiar with (*e.g.* \"[http://127.0.0.1:5000/hello/](http://127.0.0.1:5000/hello/)\"), it has numerous methods that are unavailable to standard web-URLs. Consequently, in it's current form there is no way to specify whether we want data returned as a JSON or XML using a web-URL\n",
    "\n",
    "Give it a try [http://127.0.0.1:5000/hello/](http://127.0.0.1:5000/hello/) and you will notice that the default response from our REST API is currently XML\n",
    "\n",
    "<br> \n",
    "\n",
    "### Making our API human-friendly\n",
    "\n",
    "Most people I know have never even heard of cURL, let alone know how to use it. However, they do know how to use web-URLs. Since I want my new REST API to be human-friendly, I want to add functionality allowing the response-type to be changed using a web-URL.\n",
    "\n",
    "**Open `application/app_v5.py` in PyCharm**\n",
    "\n",
    "- I have added the following code\n",
    "\n",
    "```python\n",
    "from flask_restplus import reqparse\n",
    "parser = reqparse.RequestParser()\n",
    "parser.add_argument('content-type',\n",
    "                    type=str,\n",
    "                    help='e.g. application/json')\n",
    "```\n",
    "\n",
    "- In each API under the `def get(self....` statement, I have added the following code to collect our arguements\n",
    "\n",
    "```python\n",
    "args = parser.parse_args()\n",
    "```\n",
    "\n",
    "\n",
    "Flask's RequestParser provides a method which allows us to make requests to our REST API as if we were using a [HTML Form](https://www.w3schools.com/html/html_forms.asp). Generally if you populate a web form which used the [GET method](https://www.w3schools.com/tags/ref_httpmethods.asp), as our API does, the form data are carried as *key-word arguements* which follow the URL after a question mark *e.g.* we would like to be able to use [http://127.0.0.1:5000/hello/?content-type=application/json](http://127.0.0.1:5000/hello/?content-type=application/json)  \n",
    "\n",
    "\n",
    "Now that we can by-pass the default response-type by specifying our desired response-type, we can specify which response ought to be made depending on the argument we have been passed\n",
    "\n",
    "- The additional code is\n",
    "\n",
    "```python\n",
    "        # Overides the default response route so that the standard HTML URL can return any specified format\n",
    "        if args['content-type'] == 'application/json':\n",
    "            # example: http://127.0.0.1:5000/name/name/bob?content-type=application/json\n",
    "            return json({\n",
    "                \"My name is\" : name\n",
    "            },\n",
    "                200, None)\n",
    "        # example: http://127.0.0.1:5000/name/name/bob?content-type=application/xml\n",
    "        elif args['content-type'] == 'application/xml':\n",
    "            return xml({\n",
    "                \"My name is\": name\n",
    "            },\n",
    "                200, None)\n",
    "        else:\n",
    "            # Return the api default output\n",
    "            return {\n",
    "                \"My name is\" : name\n",
    "            }\n",
    "```\n",
    "\n",
    "The responses are created using functions assigned to `api.representation` decorators which we discussed above. \n",
    "\n",
    "- I have added an additional function to handle JSON responses\n",
    "\n",
    "```python\n",
    "@api.representation('application/xml')\n",
    "def xml(data, code, headers):\n",
    "    data = dicttoxml(data)\n",
    "    resp = make_response(data, code)\n",
    "    resp.headers['Content-Type'] = 'application/xml'\n",
    "    return resp\n",
    "\n",
    "@api.representation('application/json')\n",
    "def json(data, code, headers):\n",
    "    resp = make_response(data, code)\n",
    "    resp.headers['Content-Type'] = 'application/json'\n",
    "    return resp\n",
    "```\n",
    "\n",
    "- Finally, tell the Swagger documentation to expect the RequestParser's key-worded arguements\n",
    "\n",
    "```python\n",
    "    # Add documentation about the parser\n",
    "    @api.doc(parser=parser)\n",
    "    def get(self .....\n",
    "```\n",
    "\n"
   ]
  },
  {
   "cell_type": "markdown",
   "metadata": {},
   "source": [
    "<div class=\"alert alert-block alert-info\">\n",
    "    \n",
    "### Exercise\n",
    "\n",
    "**Give it a go**\n",
    "\n",
    "```bash\n",
    "$ python application/app_v5.py\n",
    "```\n",
    "\n",
    "- Open your browser at [http://127.0.0.1:5000/](http://127.0.0.1:5000/)\n",
    "- Click an Endpoint\n",
    "- Click `Try it out`\n",
    "- If necessary fill in the required text fields, **but do not fill in the \n",
    "- Click `Execute`\n",
    "- Now change the \"Response content type\" drop-down menu to `application/xml`\n",
    "- Click `Execute` and look at the \"\tResponse body\" which is now formatted in XML\n",
    "- Now try changing the response content type by filling in the **content-type** field\n",
    "- Try the following links:\n",
    "    - [http://127.0.0.1:5000/hello/](http://127.0.0.1:5000/hello/)\n",
    "    - [http://127.0.0.1:5000/hello/?content-type=application/json](http://127.0.0.1:5000/hello/?content-type=application/json)\n",
    "    - [http://127.0.0.1:5000/hello/?content-type=application/xml](http://127.0.0.1:5000/hello/?content-type=application/xml)\n",
    "    \n",
    "</div>"
   ]
  },
  {
   "cell_type": "markdown",
   "metadata": {},
   "source": [
    "<a id=\"sum\"></a>\n",
    "\n",
    "<b><h2>Summary</h2></b>  \n",
    "</div>"
   ]
  },
  {
   "cell_type": "markdown",
   "metadata": {},
   "source": [
    "We now know more about XML JSON. We also have a better understanding about how APIs work.\n",
    "\n",
    "In the next notebook, we learn how to effectively parse responses from REST APIs, both in the JSON and XML format "
   ]
  },
  {
   "cell_type": "markdown",
   "metadata": {},
   "source": [
    "---------------------\n",
    "\n",
    "#### Notebook details\n",
    "<br>\n",
    "<i>Notebook created by <strong>Dr. Pete Causey-Freeman</strong> with <strong>Frances Hooley</strong> \n",
    "    \n",
    "\n",
    "Publish date: October 2020<br>\n",
    "Review date: October 2021</i>\n",
    "\n",
    "Please give your feedback using the button below:\n",
    "\n",
    "<a class=\"typeform-share button\" href=\"https://form.typeform.com/to/YMpwLTNy\" data-mode=\"popup\" style=\"display:inline-block;text-decoration:none;background-color:#3A7685;color:white;cursor:pointer;font-family:Helvetica,Arial,sans-serif;font-size:18px;line-height:45px;text-align:center;margin:0;height:45px;padding:0px 30px;border-radius:22px;max-width:100%;white-space:nowrap;overflow:hidden;text-overflow:ellipsis;font-weight:bold;-webkit-font-smoothing:antialiased;-moz-osx-font-smoothing:grayscale;\" target=\"_blank\">Rate this notebook </a> <script> (function() { var qs,js,q,s,d=document, gi=d.getElementById, ce=d.createElement, gt=d.getElementsByTagName, id=\"typef_orm_share\", b=\"https://embed.typeform.com/\"; if(!gi.call(d,id)){ js=ce.call(d,\"script\"); js.id=id; js.src=b+\"embed.js\"; q=gt.call(d,\"script\")[0]; q.parentNode.insertBefore(js,q) } })() </script>"
   ]
  },
  {
   "cell_type": "code",
   "execution_count": null,
   "metadata": {},
   "outputs": [],
   "source": []
  }
 ],
 "metadata": {
  "kernelspec": {
   "display_name": "Python 3",
   "language": "python",
   "name": "python3"
  },
  "language_info": {
   "codemirror_mode": {
    "name": "ipython",
    "version": 3
   },
   "file_extension": ".py",
   "mimetype": "text/x-python",
   "name": "python",
   "nbconvert_exporter": "python",
   "pygments_lexer": "ipython3",
   "version": "3.7.3"
  }
 },
 "nbformat": 4,
 "nbformat_minor": 1
}
