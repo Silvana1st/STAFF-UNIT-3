{
 "cells": [
  {
   "cell_type": "markdown",
   "metadata": {
    "collapsed": true
   },
   "source": [
    "<img src=\"https://github.com/i3hsInnovation/resources/blob/master/images/introbanner.png?raw=true\" />"
   ]
  },
  {
   "cell_type": "markdown",
   "metadata": {},
   "source": [
    "<table style=\"float:right\" width=\"50%\">\n",
    "    <tr>\n",
    "        <td>                      \n",
    "            <div style=\"text-align: left\"><a href=\"\" target=\"_blank\">Dr Peter Causey-Freeman</a></div>\n",
    "            <div style=\"text-align: left\">Lecturer - Healthcare Sciences</div>\n",
    "            <div style=\"text-align: left\">(Clinical Bioinformatics)</div>\n",
    "            <div style=\"text-align: left\">The University of Manchester</div>\n",
    "         </td>\n",
    "         <td>\n",
    "             <img src=\"https://github.com/i3hsInnovation/resources/blob/master/images/pete.001.png?raw=true\" width=\"40%\" />\n",
    "         </td>\n",
    "     </tr>\n",
    "</table>"
   ]
  },
  {
   "cell_type": "markdown",
   "metadata": {},
   "source": [
    "# Parsing JSON and XML \n",
    "****\n",
    "\n",
    "### About this Notebook\n",
    "\n",
    "In the previous notebook, we learned about the most common response-types returned by REST APIs, *i.e.* JSON and XML. In this notebook we will learn how to request data from a REST API in both the JSON and XML format. We will also learn how to effectively parse and work with JSON and XML data.\n",
    "\n",
    "\n",
    "This notebook is at <code>Beginner</code> level and will take approximately 1 hour to complete.\n",
    "\n",
    "-------------------------------------------------------"
   ]
  },
  {
   "cell_type": "markdown",
   "metadata": {},
   "source": [
    "<div class=\"alert alert-block alert-warning\"><b>Learning Objective:</b> Using electronic and online resources (specifically parsing and extracting data from common data formats)</div>"
   ]
  },
  {
   "cell_type": "markdown",
   "metadata": {},
   "source": [
    "<b><h2>Table of Contents</h2></b>  \n"
   ]
  },
  {
   "cell_type": "markdown",
   "metadata": {},
   "source": [
    "#### Section 1: [Section 1: Requesting JSON and XML](#requests)\n",
    "- [Requests module recap](#rrecap)\n",
    "- [Requesting XML](#rxml)\n",
    "- [XML and ElementTree tutorial](#tutxml)\n",
    "\n",
    "#### Section 2: [Section 2: Parsing JSON and XML](#parse)\n",
    "- [JSON tutorial](#tutjs)\n",
    "- [XML and ElementTree tutorial](#tutxml)\n",
    "\n",
    "#### Section 3: [Parse the XML returned by the REST API](#restxml)\n",
    "- [Extract and format the XML](#recxml)\n",
    "- [Parse the XML](#prsxml)\n",
    "\n",
    "#### [Summary](#sum)\n",
    "\n",
    "----------"
   ]
  },
  {
   "cell_type": "markdown",
   "metadata": {},
   "source": [
    "<a id=\"requests\"></a>\n",
    "<table width=\"100%\" style=\"float:left\">\n",
    "    <tr>\n",
    "        <td width=\"60%\" style=\"text-align: left\">\n",
    "            <h1>Section 1: Requesting JSON and XML</h1>\n",
    "        </td>\n",
    "        <td width=\"40%\">\n",
    "            <img src=\"https://github.com/i3hsInnovation/resources/blob/master/images/JSON-vs-XML.png?raw=true\" width=\"60%\"/>\n",
    "        </td>\n",
    "    </tr>\n",
    "</table> "
   ]
  },
  {
   "cell_type": "markdown",
   "metadata": {},
   "source": [
    "***\n",
    "<sup>Image by Peter Causey-Freeman</sup>"
   ]
  },
  {
   "cell_type": "markdown",
   "metadata": {},
   "source": [
    "<a id=\"rrecap\"></a>\n",
    "\n",
    "<b><h2>Requests module recap</h2></b>  \n",
    "</div>"
   ]
  },
  {
   "cell_type": "markdown",
   "metadata": {},
   "source": [
    "### The Python requests module\n",
    "\n",
    "In a previous notebook, we looked at the Python [Requests](https://2.python-requests.org/en/master/) module. Requests is by no means the only Python module that can be used to request data from web resources, but the reason we recommend it is that it is light-touch and user-friendly. \n",
    "\n",
    "> Requests: HTTP for Humans™\n",
    "\n",
    "> Requests is the only HTTP library for Python safe for human consumption\n",
    "\n",
    "\n",
    "#### Method\n",
    "\n",
    "Although we have already used requests, let's step through the method now that we have updated our REST API.\n",
    "\n",
    "***Note: Remember to activate your API***\n",
    "\n",
    "```bash\n",
    "$ python applications/app_v6.py\n",
    "```\n",
    "\n",
    "<br>\n",
    "\n",
    "##### 1. **Import required modules**"
   ]
  },
  {
   "cell_type": "code",
   "execution_count": null,
   "metadata": {},
   "outputs": [],
   "source": [
    "# For now we will import requests and JSON\n",
    "import requests\n",
    "import json"
   ]
  },
  {
   "cell_type": "markdown",
   "metadata": {},
   "source": [
    "##### 2. **Request some data**"
   ]
  },
  {
   "cell_type": "code",
   "execution_count": null,
   "metadata": {},
   "outputs": [],
   "source": [
    "# Note: we are using the content-type=application/json method we created in the previous notebook \n",
    "response = requests.get('http://127.0.0.1:5000/name/Bob?content-type=application/json')"
   ]
  },
  {
   "cell_type": "markdown",
   "metadata": {},
   "source": [
    "##### 3. **Check the [status code](https://www.w3.org/Protocols/HTTP/HTRESP.html) - we want to see 200**"
   ]
  },
  {
   "cell_type": "code",
   "execution_count": null,
   "metadata": {},
   "outputs": [],
   "source": [
    "response.status_code"
   ]
  },
  {
   "cell_type": "markdown",
   "metadata": {},
   "source": [
    "##### 4. **Look at the response headers**"
   ]
  },
  {
   "cell_type": "code",
   "execution_count": null,
   "metadata": {},
   "outputs": [],
   "source": [
    "response.headers"
   ]
  },
  {
   "cell_type": "markdown",
   "metadata": {},
   "source": [
    "The response headers are returned as Python dictionary, however, it is a very specific dictionary type.\n",
    "\n",
    "> **[CaselessDictionary](https://gist.github.com/babakness/3901174)**<br><br>\n",
    "    Dictionary that enables case insensitive searching while preserving case sensitivity \n",
    "    when keys are listed, ie, via keys() or items() methods\n",
    "\n",
    "\n",
    "\n",
    "\n",
    "Here are a couple of little tricks to print dictionaries/JSON in a more human friendly way\n",
    "\n",
    "<br>\n",
    "\n",
    "   - ***a) Use the dictionary.items() method***"
   ]
  },
  {
   "cell_type": "code",
   "execution_count": null,
   "metadata": {},
   "outputs": [],
   "source": [
    "# The dictionary.keys() method prints dictionary keys\n",
    "response.headers.keys()"
   ]
  },
  {
   "cell_type": "code",
   "execution_count": null,
   "metadata": {},
   "outputs": [],
   "source": [
    "# The dictionary.items() method prints dictionary keys and values\n",
    "response.headers.items()"
   ]
  },
  {
   "cell_type": "code",
   "execution_count": null,
   "metadata": {},
   "outputs": [],
   "source": [
    "# We can loop through items, splitting the key and value into separate objects and print as we go along\n",
    "for my_key, my_val in response.headers.items():\n",
    "    print(my_key + ': ' + my_val)"
   ]
  },
  {
   "cell_type": "markdown",
   "metadata": {},
   "source": [
    "<br>\n",
    "\n",
    "  - ***b) Use the Python [json](https://www.w3schools.com/python/python_json.asp) module*** "
   ]
  },
  {
   "cell_type": "code",
   "execution_count": null,
   "metadata": {},
   "outputs": [],
   "source": [
    "# CaseLessDictionary is not JSON serialisable\n",
    "# Convert into a standard Python Dictionary\n",
    "headers_dict = dict(response.headers)"
   ]
  },
  {
   "cell_type": "code",
   "execution_count": null,
   "metadata": {},
   "outputs": [],
   "source": [
    "# Print the dictionary in a human-friendly format using json.dumps()\n",
    "\n",
    "#                a. What we print  b. Sort keys by order  c. Add indent   d. Specify separators that split i) items and ii) key-val pairs   \n",
    "print(json.dumps(headers_dict,     sort_keys=True,        indent=4,       separators=(',', ': ')))"
   ]
  },
  {
   "cell_type": "markdown",
   "metadata": {},
   "source": [
    "##### 5. **Extract and print the response JSON**"
   ]
  },
  {
   "cell_type": "code",
   "execution_count": null,
   "metadata": {},
   "outputs": [],
   "source": [
    "# Assign to a dictionary\n",
    "my_dict = response.json()\n",
    "# print \n",
    "print(json.dumps(my_dict, sort_keys=True, indent=4, separators=(',', ': ')))"
   ]
  },
  {
   "cell_type": "markdown",
   "metadata": {},
   "source": [
    "<a id=\"rxml\"></a>\n",
    "\n",
    "<b><h2>Requesting XML</h2></b>  \n",
    "</div>"
   ]
  },
  {
   "cell_type": "markdown",
   "metadata": {},
   "source": [
    "### Request XML data with the requests module\n",
    "\n",
    "The initial work-flow to recover XML data from a REST API using the requests module is pretty much the same as for JSON "
   ]
  },
  {
   "cell_type": "code",
   "execution_count": null,
   "metadata": {},
   "outputs": [],
   "source": [
    "# Make request - now set to content-type=application/xml\n",
    "response_2 = requests.get('http://127.0.0.1:5000/name/Bob?content-type=application/xml')\n",
    "# Check status code\n",
    "print('Status code: ' + str(response_2.status_code))\n",
    "# Print headers\n",
    "headers_dict_2 = dict(response_2.headers)\n",
    "print('Headers: ' + json.dumps(headers_dict_2, sort_keys=True, indent=4, separators=(',', ': ')))"
   ]
  },
  {
   "cell_type": "markdown",
   "metadata": {},
   "source": [
    "***However, requests does not have a method for converting the response into a Python format that Python can parse***\n",
    "\n",
    "--------------------"
   ]
  },
  {
   "cell_type": "markdown",
   "metadata": {},
   "source": [
    "<a id=\"parse\"></a>\n",
    "<table width=\"100%\" style=\"float:left\">\n",
    "    <tr>\n",
    "        <td width=\"60%\" style=\"text-align: left\">\n",
    "            <h1>Section 2: Parsing JSON and XML</h1>\n",
    "        </td>\n",
    "        <td width=\"40%\">\n",
    "            <img src=\"https://github.com/i3hsInnovation/resources/blob/master/images/JSON-vs-XML.png?raw=true\" width=\"60%\"/>\n",
    "        </td>\n",
    "    </tr>\n",
    "</table> "
   ]
  },
  {
   "cell_type": "markdown",
   "metadata": {},
   "source": [
    "***\n",
    "<sup>Image by Peter Causey-Freeman</sup>"
   ]
  },
  {
   "cell_type": "markdown",
   "metadata": {},
   "source": [
    "<a id=\"tutjs\"></a>\n",
    "\n",
    "<b><h2>JSON tutorial</h2></b>  \n",
    "</div>"
   ]
  },
  {
   "cell_type": "markdown",
   "metadata": {},
   "source": [
    "Although XML is a very powerful data format, it is not the easiest format to work with in Python. Take a look at this stack overflow thread entitled [Is there any python xml parser that was designed with humans in mind?](https://stackoverflow.com/questions/1493899/is-there-any-python-xml-parser-that-was-designed-with-humans-in-mind)\n",
    "\n",
    "JSON works well with Python because it is essentially structured like a Python dictionary. Therefore, as we saw earlier, we can simply parse the dictionary using Pythons inbuilt [dictionary methods](https://www.w3schools.com/python/python_dictionaries.asp) \n",
    "\n",
    "Read through the [datacamp.com](https://www.datacamp.com/) tutorial [JSON Data in Python](https://www.datacamp.com/community/tutorials/json-data-python)\n",
    "\n",
    "I have added the code from the Tutorial in to directory `json_totorial` and the XML file is `blog.json`. I have also provided the commands so that we you follow the tutorial in this notebook.\n",
    "\n",
    "#### 1. Import json"
   ]
  },
  {
   "cell_type": "code",
   "execution_count": null,
   "metadata": {},
   "outputs": [],
   "source": [
    "import json"
   ]
  },
  {
   "cell_type": "markdown",
   "metadata": {},
   "source": [
    "#### 2. Read the JSON file"
   ]
  },
  {
   "cell_type": "code",
   "execution_count": null,
   "metadata": {},
   "outputs": [],
   "source": [
    "# Open file for reading\n",
    "fo = open(\"json_tutorial/blog.json\",\"r\")\n",
    "# Read the json\n",
    "my_json_string = fo.read()\n",
    "# Close the file\n",
    "fo.close()"
   ]
  },
  {
   "cell_type": "markdown",
   "metadata": {},
   "source": [
    "#### 3. Convert to a Python dictionary object"
   ]
  },
  {
   "cell_type": "code",
   "execution_count": null,
   "metadata": {},
   "outputs": [],
   "source": [
    "to_python = json.loads(my_json_string)"
   ]
  },
  {
   "cell_type": "markdown",
   "metadata": {},
   "source": [
    "#### 4. Print the blog"
   ]
  },
  {
   "cell_type": "code",
   "execution_count": null,
   "metadata": {},
   "outputs": [],
   "source": [
    "to_python['blog']"
   ]
  },
  {
   "cell_type": "markdown",
   "metadata": {},
   "source": [
    "<div class=\"alert alert-info\">\n",
    "\n",
    "### Exercise\n",
    "\n",
    "Complete the totorial following the structure we have begun above, *i.e.* add cells to this notebook with your code and some markdown to describe the steps\n",
    "\n",
    "<br>\n",
    "\n",
    "*Note: reading from and writing to the JSON file will require an additional path variable, i.e. `json_tutorial/blog.json`*\n",
    "\n",
    "</div>"
   ]
  },
  {
   "cell_type": "markdown",
   "metadata": {},
   "source": [
    "<a id=\"tutxml\"></a>\n",
    "\n",
    "<b><h2>XML and ElementTree tutorial</h2></b>  \n",
    "</div>"
   ]
  },
  {
   "cell_type": "markdown",
   "metadata": {},
   "source": [
    "Parsing XML is more complicated, but can be extremely powerful when you need to parse structured data returned by web-APIs\n",
    "\n",
    "Before we take at the XML returned by our REST API, read through the [datacamp.com](https://www.datacamp.com/) tutorial [Python XML with ElementTree: Beginner's Guide](https://www.datacamp.com/community/tutorials/python-xml-elementtree)\n",
    "\n",
    "I have added the code from the Tutorial in to directory `xml_totorial` and the XML file is `movies.xml`. I have also provided the commands so that we you follow the tutorial in this notebook.\n",
    "\n",
    "#### 1. Import ElementTree"
   ]
  },
  {
   "cell_type": "code",
   "execution_count": null,
   "metadata": {},
   "outputs": [],
   "source": [
    "import xml.etree.ElementTree as ET"
   ]
  },
  {
   "cell_type": "markdown",
   "metadata": {},
   "source": [
    "#### 2. Read in the file with ElementTree"
   ]
  },
  {
   "cell_type": "code",
   "execution_count": null,
   "metadata": {},
   "outputs": [],
   "source": [
    "tree = ET.parse('xml_tutorial/movies.xml')\n",
    "root = tree.getroot()"
   ]
  },
  {
   "cell_type": "markdown",
   "metadata": {},
   "source": [
    "#### 3. Print the root tag and attribute"
   ]
  },
  {
   "cell_type": "code",
   "execution_count": null,
   "metadata": {
    "scrolled": true
   },
   "outputs": [],
   "source": [
    "print(root.tag)\n",
    "print(root.attrib)"
   ]
  },
  {
   "cell_type": "markdown",
   "metadata": {},
   "source": [
    "<div class=\"alert alert-info\">\n",
    "\n",
    "### Exercise\n",
    "\n",
    "Complete the totorial following the structure we have begun above, *i.e.* add cells to this notebook with your code and some markdown to describe the steps\n",
    "\n",
    "<br>\n",
    "\n",
    "*Note: reading from and writing to the XML file will require an additional path variable, i.e. `xml_tutorial/movies.xml`*\n",
    "\n",
    "</div>"
   ]
  },
  {
   "cell_type": "markdown",
   "metadata": {},
   "source": [
    "<a id=\"restxml\"></a>\n",
    "<table width=\"100%\" style=\"float:left\">\n",
    "    <tr>\n",
    "        <td width=\"60%\" style=\"text-align: left\">\n",
    "            <h1>Section 3: Parse the XML returned by the REST API</h1>\n",
    "        </td>\n",
    "        <td width=\"25%\">\n",
    "            <img src=\"https://github.com/i3hsInnovation/resources/blob/master/images/xml.png?raw=true\" width=\"40%\"/>\n",
    "        </td>\n",
    "    </tr>\n",
    "</table>\n",
    "<div><sup>\n",
    "        Icon by <a href=\"https://www.flaticon.com/authors/smashicons\" title=\"Smashicons\">Smashicons</a> from <a href=\"https://www.flaticon.com/\"                 title=\"Flaticon\">www.flaticon.com</a> is licensed by <a href=\"http://creativecommons.org/licenses/by/3.0/\"                 title=\"Creative Commons BY 3.0\" target=\"_blank\">CC 3.0 BY</a>\n",
    "<sup></div>"
   ]
  },
  {
   "cell_type": "markdown",
   "metadata": {},
   "source": [
    "<a id=\"recxml\"></a>\n",
    "\n",
    "<b><h2>Extract and format the XML</h2></b>  \n",
    "</div>"
   ]
  },
  {
   "cell_type": "markdown",
   "metadata": {},
   "source": [
    "### So where is our XML in the API response?\n",
    "\n",
    "When we use `requests` to retrieve XML data from an API, the XML is stored in `.content`\n",
    "\n",
    "##### 1. Recover the content"
   ]
  },
  {
   "cell_type": "code",
   "execution_count": null,
   "metadata": {},
   "outputs": [],
   "source": [
    "xml = response_2.content\n",
    "xml"
   ]
  },
  {
   "cell_type": "markdown",
   "metadata": {},
   "source": [
    "##### 2. Convert the content from a [bytestring](https://stackoverflow.com/questions/6224052/what-is-the-difference-between-a-string-and-a-byte-string) into a string"
   ]
  },
  {
   "cell_type": "code",
   "execution_count": null,
   "metadata": {},
   "outputs": [],
   "source": [
    "xml = xml.decode(\"utf-8\")\n",
    "xml"
   ]
  },
  {
   "cell_type": "markdown",
   "metadata": {},
   "source": [
    "##### 3. Import ElementTree and parse the XML"
   ]
  },
  {
   "cell_type": "code",
   "execution_count": null,
   "metadata": {},
   "outputs": [],
   "source": [
    "import xml.etree.ElementTree as ET"
   ]
  },
  {
   "cell_type": "code",
   "execution_count": null,
   "metadata": {},
   "outputs": [],
   "source": [
    "# Note: the fromstring method requires a slightly different syntax\n",
    "tree = ET.ElementTree(ET.fromstring(xml))"
   ]
  },
  {
   "cell_type": "markdown",
   "metadata": {},
   "source": [
    "<a id=\"prsxml\"></a>\n",
    "\n",
    "<b><h2>Parse the XML</h2></b>  \n",
    "</div>"
   ]
  },
  {
   "cell_type": "markdown",
   "metadata": {},
   "source": [
    "### Run some of the methods we learned in the XML tutorial above"
   ]
  },
  {
   "cell_type": "code",
   "execution_count": null,
   "metadata": {},
   "outputs": [],
   "source": [
    "root = tree.getroot()"
   ]
  },
  {
   "cell_type": "code",
   "execution_count": null,
   "metadata": {},
   "outputs": [],
   "source": [
    "root.tag"
   ]
  },
  {
   "cell_type": "code",
   "execution_count": null,
   "metadata": {},
   "outputs": [],
   "source": [
    "root.attrib"
   ]
  },
  {
   "cell_type": "code",
   "execution_count": null,
   "metadata": {},
   "outputs": [],
   "source": [
    "for child in root:\n",
    "    print(child.tag, child.attrib)"
   ]
  },
  {
   "cell_type": "code",
   "execution_count": null,
   "metadata": {},
   "outputs": [],
   "source": [
    "print(ET.tostring(root, encoding='utf8').decode('utf8'))"
   ]
  },
  {
   "cell_type": "code",
   "execution_count": null,
   "metadata": {},
   "outputs": [],
   "source": [
    "[elem.tag for elem in root.iter()]"
   ]
  },
  {
   "cell_type": "code",
   "execution_count": null,
   "metadata": {},
   "outputs": [],
   "source": [
    "print(ET.tostring(root, encoding='utf8').decode('utf8'))"
   ]
  },
  {
   "cell_type": "markdown",
   "metadata": {},
   "source": [
    "<a id=\"sum\"></a>\n",
    "\n",
    "<b><h2>Summary</h2></b>  \n",
    "</div>"
   ]
  },
  {
   "cell_type": "markdown",
   "metadata": {},
   "source": [
    "In this notebook, we have learned how to request both JSON and XML data from REST APIs using the `requests` module. We have also explored the differences in the way that the `requests` module handles JSON and XML data, and how to extract the data from the API response.\n",
    "\n",
    "We have learned how to convert JSON and XML data into a format that Python can work with using the `json` and `xmlxml.etree.ElementTree` mosules respectively. We have also learned how to effectively parse the data.\n",
    "\n",
    "In the next notebook, we will use what we have learned in this notebook to explore data returned by the Ensembl REST APIs"
   ]
  },
  {
   "cell_type": "markdown",
   "metadata": {},
   "source": [
    "-----------------------------------------------------------\n",
    "\n",
    "#### Notebook details\n",
    "<br>\n",
    "<i>Notebook created by <strong>Dr. Pete Causey-Freeman</strong> with <strong>Frances Hooley</strong> \n",
    "    \n",
    "\n",
    "Publish date: October 2020<br>\n",
    "Review date: October 2021</i>\n",
    "\n",
    "Please give your feedback using the button below:\n",
    "\n",
    "<a class=\"typeform-share button\" href=\"https://form.typeform.com/to/YMpwLTNy\" data-mode=\"popup\" style=\"display:inline-block;text-decoration:none;background-color:#3A7685;color:white;cursor:pointer;font-family:Helvetica,Arial,sans-serif;font-size:18px;line-height:45px;text-align:center;margin:0;height:45px;padding:0px 30px;border-radius:22px;max-width:100%;white-space:nowrap;overflow:hidden;text-overflow:ellipsis;font-weight:bold;-webkit-font-smoothing:antialiased;-moz-osx-font-smoothing:grayscale;\" target=\"_blank\">Rate this notebook </a> <script> (function() { var qs,js,q,s,d=document, gi=d.getElementById, ce=d.createElement, gt=d.getElementsByTagName, id=\"typef_orm_share\", b=\"https://embed.typeform.com/\"; if(!gi.call(d,id)){ js=ce.call(d,\"script\"); js.id=id; js.src=b+\"embed.js\"; q=gt.call(d,\"script\")[0]; q.parentNode.insertBefore(js,q) } })() </script>\n"
   ]
  },
  {
   "cell_type": "code",
   "execution_count": null,
   "metadata": {},
   "outputs": [],
   "source": []
  }
 ],
 "metadata": {
  "kernelspec": {
   "display_name": "Python 3",
   "language": "python",
   "name": "python3"
  },
  "language_info": {
   "codemirror_mode": {
    "name": "ipython",
    "version": 3
   },
   "file_extension": ".py",
   "mimetype": "text/x-python",
   "name": "python",
   "nbconvert_exporter": "python",
   "pygments_lexer": "ipython3",
   "version": "3.7.3"
  }
 },
 "nbformat": 4,
 "nbformat_minor": 1
}
