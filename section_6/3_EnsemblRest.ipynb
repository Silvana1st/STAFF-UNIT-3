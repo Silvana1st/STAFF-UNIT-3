{
 "cells": [
  {
   "cell_type": "markdown",
   "metadata": {
    "collapsed": true
   },
   "source": [
    "<img src=\"https://github.com/i3hsInnovation/resources/blob/master/images/introbanner.png?raw=true\" />"
   ]
  },
  {
   "cell_type": "markdown",
   "metadata": {},
   "source": [
    "<table style=\"float:right\" width=\"50%\">\n",
    "    <tr>\n",
    "        <td>                      \n",
    "            <div style=\"text-align: left\"><a href=\"\" target=\"_blank\">Dr Peter Causey-Freeman</a></div>\n",
    "            <div style=\"text-align: left\">Lecturer - Healthcare Sciences</div>\n",
    "            <div style=\"text-align: left\">(Clinical Bioinformatics)</div>\n",
    "            <div style=\"text-align: left\">The University of Manchester</div>\n",
    "         </td>\n",
    "         <td>\n",
    "             <img src=\"https://github.com/i3hsInnovation/resources/blob/master/images/pete.001.png?raw=true\" width=\"40%\" />\n",
    "         </td>\n",
    "     </tr>\n",
    "</table>"
   ]
  },
  {
   "cell_type": "markdown",
   "metadata": {},
   "source": [
    "# Exploring Ensembl REST API data returned in the JSON and XML formats \n",
    "****\n",
    "\n",
    "### About this Notebook\n",
    "\n",
    "In this tutorial you will recover and parse reference sequence data from the Ensembl REST API. The aim of the tutorial is to inform you about some of the complexities and potential pit-falls of working with Ensembl data.  \n",
    "\n",
    "This notebook is at <code>Beginner</code> level and will take approximately 2 hours to complete."
   ]
  },
  {
   "cell_type": "markdown",
   "metadata": {},
   "source": [
    "<div class=\"alert alert-block alert-warning\"><b>Learning Objective:</b> Using electronic and online resources (specifically extracting and reformatting data provided by a commonly used bioinformatics REST API)</div>\n",
    "\n",
    "\n",
    "------------------------------------"
   ]
  },
  {
   "cell_type": "markdown",
   "metadata": {},
   "source": [
    "<b><h2>Table of Contents</h2></b>  \n"
   ]
  },
  {
   "cell_type": "markdown",
   "metadata": {},
   "source": [
    "#### [The Ensembl REST API](#ers)\n",
    "\n",
    "1. [Overview](#ovr)\n",
    "\n",
    "2. [Data considerations](#cons)\n",
    "\n",
    "3. [Requesting and formatting the data](#req)\n",
    "\n",
    "4. [Parse the JSON response](#pjson)\n",
    "\n",
    "5. [Parse the XML response](#pxml)\n",
    "\n",
    "6. [Exercises](#exx)\n",
    "\n",
    "7. [Summary](#sum)"
   ]
  },
  {
   "cell_type": "markdown",
   "metadata": {},
   "source": [
    "<a id=\"ers\"></a>\n",
    "<table width=\"100%\" style=\"float:left\">\n",
    "    <tr>\n",
    "        <td width=\"60%\" style=\"text-align: left\">\n",
    "            <h1>The <a href=\"https://rest.ensembl.org\" target=\"_blank\">Ensembl REST</a> API</h1>\n",
    "        </td>\n",
    "        <td width=\"40%\">\n",
    "            <img src=\"https://github.com/i3hsInnovation/resources/blob/master/images/ensemblrest.png?raw=true\" width=\"75%\"/>\n",
    "        </td>\n",
    "    </tr>\n",
    "</table> "
   ]
  },
  {
   "cell_type": "markdown",
   "metadata": {},
   "source": [
    "***\n",
    "\n",
    "<sup>Ensembl rest logo. [Ensembl logo policy](http://Jul2019.archive.ensembl.org/info/about/legal/logo_policy.html)</sup>"
   ]
  },
  {
   "cell_type": "markdown",
   "metadata": {},
   "source": [
    "<a id=\"ovr\"></a>\n",
    "\n",
    "<b><h2>1 Overview</h2></b>  \n",
    "</div>"
   ]
  },
  {
   "cell_type": "markdown",
   "metadata": {},
   "source": [
    "### Ensembl REST\n",
    "\n",
    "This [Introduction to the Ensembl REST API](https://www.ebi.ac.uk/training/online/sites/ebi.ac.uk.training.online/files/u1218/8_REST_API_Emily.pdf) eill provide you with a brief over-view of the Ensembl REST services, and how to use them. Additional information can be found [here](https://academic.oup.com/bioinformatics/article/31/1/143/2366240).\n",
    "\n",
    "### The Ensembl REST [Wiki](https://github.com/Ensembl/ensembl-rest/wiki)\n",
    "\n",
    "The Ensembl REST Wiki is a user-guide describing how to use the Ensembl REST services"
   ]
  },
  {
   "cell_type": "markdown",
   "metadata": {},
   "source": [
    "---\n",
    "<a id=\"cons\"></a>\n",
    "\n",
    "<b><h2>2 Data Considerations</h2></b>  \n",
    "</div>"
   ]
  },
  {
   "cell_type": "markdown",
   "metadata": {},
   "source": [
    "### Sequence databases vs Genome annotation databases\n",
    "\n",
    "In general terms, [Reference sequences databases](http://www.insdc.org/), *e.g.* [RefSeq](https://www.ncbi.nlm.nih.gov/refseq/) and [EMBL-ENA](https://www.ebi.ac.uk/ena), are collections of nucleotide and amino-acid sequences. The reference sequences are annotated with relevant data, *e.g.* a coding transcript record will provide a translation ID. Alignment-data required to map reference transcript sequences to the genome are generally provided in separate annotation documents and the reference sequences are independent of the genome build. Consequently, transcript and encoded protein reference reference sequences may not match the genome, both in terms of sequence-content and/or sequence-length.\n",
    "\n",
    "Genome annotation databases, *e.g.* [Ensembl](https://www.ensembl.org/index.html) and [UCSC genome browser](https://genome.ucsc.edu) also provide reference sequences. However, the reference sequences are inextricably linked to a specific genome build. An advantage is that transcript and protein reference sequences will always match the genome. Also, the alignment data form an integral part of a transcript reference sequence record. The disadvantage is that care must be taken to ensure that the correct transcript record is being used since it is likely to differ in content between the two latest genome builds, GRCh37 and GRCh38.\n",
    "\n",
    "All Ensembl tools have an instance for GRCh37 and GRCh38, however this is not necessarily obvious. For example, the Ensmebl REST API base URL is [https://rest.ensembl.org](https://rest.ensembl.org). This gives us no indication that we are working with a specific genome-build. The base URL for the GRCh37 Ensembl REST API is [http://grch37.rest.ensembl.org/](http://grch37.rest.ensembl.org/). The Ensembl database also follows this convention:\n",
    "- GRCh38 URL [https://www.ensembl.org/index.html](https://www.ensembl.org/index.html)\n",
    "- GRCh37 URL [http://grch37.ensembl.org/index.html](http://grch37.ensembl.org/index.html)\n",
    "\n",
    "### Reference sequence equivalence\n",
    "Most reference sequence providers cross-reference each others data, identifying which reference sequence from the other providers' database is equivalent to the sequence you are currently viewing. This should only ever be used as guidance since the algorithms used to determine similarity are variable. \n",
    "\n",
    "In the most recent build of Ensembl, the criteria for cross referencing RefSeq has changed. They now appear to only display IDs for RefSeq transcripts which \"match 100% across the sequence, Exon structure and UTRs\". This is likely to reflect the efforts of the Matched Annotation by NCBI and EMBL-EBI ([MANE](https://www.slideshare.net/GenomeRef/mane-v2-final)) project. However, be aware:\n",
    " - Currently, the MANE project is aiming to create a MANE \"select\" transcript for each gene. Best clinical practice for sequence variant interpretation requires that the impact of genomic variation must be considered in the context of **all** relevant transcripts. [Standards and guidelines for the interpretation of sequence variants](https://www.nature.com/articles/gim201530)\n",
    "\n",
    "- The only \"safe\" way to map variation between different transcript reference sequences is via a fixed gene/genomic reference sequence (This may be multi-step because not all transcript records are aligned to both GRCh37 and GRCh38)"
   ]
  },
  {
   "cell_type": "markdown",
   "metadata": {},
   "source": [
    "[Return to top](#ers)\n",
    "\n",
    "-----\n",
    "<a id=\"req\"></a>\n",
    "\n",
    "<b><h2>3 Requesting and Formatting the Data</h2></b>  \n",
    "</div>"
   ]
  },
  {
   "cell_type": "markdown",
   "metadata": {},
   "source": [
    "### Selecting transcript records\n",
    "In week_4, we created a reference sequence dictionary for genes using the biopython to recover records from the RefSeq database. We selected BRCA2 as an initial example because it has only a single RefSeq transcript, [NM_000059.3 Homo sapiens BRCA2 DNA repair associated (BRCA2), mRNA](https://www.ncbi.nlm.nih.gov/nuccore/NM_000059.3). This week, we will look at the steps required to create an equivalent dictionary using the Ensembl database. The [Ensembl gene record for BRCA2](https://www.ensembl.org/Homo_sapiens/Gene/Summary?db=core;g=ENSG00000139618;r=13:32315086-32400266) has 11 transcripts.\n",
    "\n",
    "**Hang on, RefSeq only has one transcript for the BRCA2 gene right?**\n",
    "\n",
    "For BRCA2, this is true, but the RefSeq database also contains a comprehensive set of predicted and model transcript records which have different [prefixes](https://www.ncbi.nlm.nih.gov/books/NBK21091/table/ch18.T.refseq_accession_numbers_and_mole/?report=objectonly) so that they can be easily distinguished from the high-quality curated sequences (prefixed NM_ (coding) and NR_ non-coding). When reporting sequence variation in the context of RefSeq data, we do not use model or incomplete transcripts. Ensembl only have a single transcript prefix, ENST, so how do we identify the sequences suitable for variant reporting?\n",
    "\n",
    "The Human Genome Variation Society [Sequence Variant Nomenclature](http://varnomen.hgvs.org/) Working Group have proposed extensive guidelines for the [selection of reference sequences](http://varnomen.hgvs.org/bg-material/consultation/svd-wg008/) that are suitable for reporting sequence variation. Briefly, model and incomplete coding transcripts ***are not*** suitable!\n",
    "\n",
    "### The Lookup [Endpoints](https://rest.ensembl.org/)\n",
    "Identifying the reference sequences assigned to a particular gene uses an Endpoint in the lookup namespace. We will use the [https://rest.ensembl.org/documentation/info/symbol_lookup](https://rest.ensembl.org/documentation/info/symbol_lookup) endpoint with using the following URLs\n",
    "\n",
    "- [https://rest.ensembl.org/lookup/symbol/homo_sapiens/BRCA2?content-type=application/json;expand=1](https://rest.ensembl.org/lookup/symbol/homo_sapiens/BRCA2?content-type=application/json;expand=1)\n",
    "\n",
    "> *Note: we have requested JSON (content-type=application/json) and expanded data (expand=1)* \n",
    "\n",
    "Or\n",
    "\n",
    "- [https://rest.ensembl.org/lookup/symbol/homo_sapiens/BRCA2?content-type=text/xml;expand=1](https://rest.ensembl.org/lookup/symbol/homo_sapiens/BRCA2?content-type=text/xml;expand=1)\n",
    "\n",
    "> *Note: we have requested XML (content-type=text/xml) and expanded data (expand=1).* \n",
    "\n",
    "> *Note: We can also display the data in the [YAML](https://en.wikipedia.org/wiki/YAML) format by specifying content-\n",
    "type=text/yaml. YAML is another content-type that we have not covered, but you may wish to take a look at this [YAML tutorial](https://www.tutorialspoint.com/yaml/index.htm).*\n",
    "\n",
    "> *Note: I have no idea why we need to use application/json and text/xml or text/yml. [What's the difference between text/xml vs application/xml for webservice response](https://stackoverflow.com/questions/4832357/whats-the-difference-between-text-xml-vs-application-xml-for-webservice-respons)*\n",
    "\n",
    "### Make requests\n",
    "We will request data in JSON and XML"
   ]
  },
  {
   "cell_type": "code",
   "execution_count": null,
   "metadata": {},
   "outputs": [],
   "source": [
    "# Import modules\n",
    "import requests\n",
    "import json\n",
    "import xml.etree.ElementTree as ET"
   ]
  },
  {
   "cell_type": "code",
   "execution_count": null,
   "metadata": {},
   "outputs": [],
   "source": [
    "# Request JSON\n",
    "resp1 = requests.get('https://rest.ensembl.org/lookup/symbol/homo_sapiens/BRCA2?content-type=application/json;expand=1')\n",
    "# Request XML\n",
    "resp2 = requests.get('https://rest.ensembl.org/lookup/symbol/homo_sapiens/BRCA2?content-type=text/xml;expand=1')"
   ]
  },
  {
   "cell_type": "code",
   "execution_count": null,
   "metadata": {},
   "outputs": [],
   "source": [
    "# Collect the JSON as a Python dictionary (handled by requests)\n",
    "resp1_dict = resp1.json()"
   ]
  },
  {
   "cell_type": "code",
   "execution_count": null,
   "metadata": {},
   "outputs": [],
   "source": [
    "# Collect and format the XML response and parse with ElementTree\n",
    "# Collect\n",
    "resp2_xml = resp2.content\n",
    "# Format\n",
    "resp2_xml = resp2_xml.decode(\"utf-8\")\n",
    "# Parse\n",
    "resp2_tree = ET.ElementTree(ET.fromstring(resp2_xml))\n",
    "# Get root\n",
    "resp2_root = resp2_tree.getroot()"
   ]
  },
  {
   "cell_type": "markdown",
   "metadata": {},
   "source": [
    "[Return to top](#ers)\n",
    "\n",
    "-----\n",
    "\n",
    "<a id=\"pjson\"></a>\n",
    "\n",
    "<b><h2>4 Parse the JSON response</h2></b>  \n",
    "</div>"
   ]
  },
  {
   "cell_type": "markdown",
   "metadata": {},
   "source": [
    "There are many ways to parse a Python dictionary, but here is how I went about it\n",
    "\n",
    "### Create a working dictionary for each transcript record\n",
    "\n",
    "##### 1. What keys are in my dict? "
   ]
  },
  {
   "cell_type": "code",
   "execution_count": null,
   "metadata": {},
   "outputs": [],
   "source": [
    "for key in resp1_dict.keys():\n",
    "    print(key)"
   ]
  },
  {
   "cell_type": "markdown",
   "metadata": {},
   "source": [
    "##### 2. Ok, the Transcript key looks interesting, what type of object is it?"
   ]
  },
  {
   "cell_type": "code",
   "execution_count": null,
   "metadata": {},
   "outputs": [],
   "source": [
    "type(resp1_dict['Transcript'])"
   ]
  },
  {
   "cell_type": "code",
   "execution_count": null,
   "metadata": {},
   "outputs": [],
   "source": [
    "type(resp1_dict['Transcript'][0])"
   ]
  },
  {
   "cell_type": "markdown",
   "metadata": {},
   "source": [
    "##### 3. We have a list of dictionaries. Let's take a look at the structure of a dictionary?"
   ]
  },
  {
   "cell_type": "code",
   "execution_count": null,
   "metadata": {},
   "outputs": [],
   "source": [
    "# Note, I'm only going to print the data for element 0 to keep the output short\n",
    "for key, val in resp1_dict['Transcript'][0].items():\n",
    "    type(val)\n",
    "    print(str(key) + ' : ' + str(val))"
   ]
  },
  {
   "cell_type": "markdown",
   "metadata": {},
   "source": [
    "##### 4. Too much information, let's remove the Exon data"
   ]
  },
  {
   "cell_type": "code",
   "execution_count": null,
   "metadata": {},
   "outputs": [],
   "source": [
    "for key, val in resp1_dict['Transcript'][0].items():\n",
    "    if key == 'Exon':\n",
    "        continue\n",
    "    print(str(key) + ' : ' + str(val))"
   ]
  },
  {
   "cell_type": "markdown",
   "metadata": {},
   "source": [
    "##### 5. I can now start populating a dictionary of dictionaries for the BRCA2 gene\n",
    "*Note: I do not yet know which transcript(s) are of interest, so keep them all*"
   ]
  },
  {
   "cell_type": "code",
   "execution_count": null,
   "metadata": {},
   "outputs": [],
   "source": [
    "# We will need the re Python module\n",
    "import re\n",
    "dofd1 = {}\n",
    "for tx_record in resp1_dict['Transcript']:\n",
    "    # Create a dictionary key which is the complete ID for the transcript record\n",
    "    record_id = tx_record['id'] + '.' + str(tx_record['version'])\n",
    "    dofd1[record_id] = {}\n",
    "    # Now add the data to the dictionary that are available\n",
    "    dofd1[record_id]['id'] = record_id\n",
    "    dofd1[record_id]['description'] = tx_record['display_name']\n",
    "    dofd1[record_id]['gene'] = {}\n",
    "    # Dicplay names are Gene_symbol-number, so split at the '-' and keep the 0th element\n",
    "    dofd1[record_id]['gene']['gene_symbol'] = tx_record['display_name'].split('-')[0]\n",
    "    # Use re to search for the HGNC ID in the gene-level description\n",
    "    dofd1[record_id]['gene']['hgnc_id'] = re.search('HGNC:\\d+', resp1_dict['description'])[0]\n",
    "    # We are using the Ensemblgene ID as a stable ID not a reference sequence so no version number needed\n",
    "    dofd1[record_id]['gene']['ensemblgene_id'] = tx_record['Parent']\n",
    "    # Is the transcript coding or not? (see data condiserations)\n",
    "    dofd1[record_id]['translation'] = {}\n",
    "    if tx_record['biotype'] == 'protein_coding':\n",
    "        dofd1[record_id]['type'] = 'cds'\n",
    "        # There is insufficient information to generate a the correct id since I have not been given the version number\n",
    "        dofd1[record_id]['translation']['incomplete_id'] = tx_record['Translation']['id']\n",
    "    else:\n",
    "        dofd1[record_id]['type'] = 'noncoding'\n",
    "        dofd1[record_id]['translation'] = None\n",
    "        \n",
    "    # To keep the example short, I'm breaking out, but remove this to complete the loop\n",
    "    break\n",
    "\n",
    "print(json.dumps(dofd1, sort_keys=True, indent=4, separators=(',', ': ')))"
   ]
  },
  {
   "cell_type": "markdown",
   "metadata": {},
   "source": [
    "##### 6. I can now start populating a dictionary of dictionaries for the BRCA2 gene"
   ]
  },
  {
   "cell_type": "markdown",
   "metadata": {},
   "source": [
    "##### Summing up\n",
    "\n",
    "So my record is beginning to take shape, but if you import one of your records from SPRINT_1 Assignment 1, you will see that there are a lot of items outstanding. So, I will need to hit additional end-points to gather the remaining data. "
   ]
  },
  {
   "cell_type": "markdown",
   "metadata": {},
   "source": [
    "[Return to top](#ers)\n",
    "\n",
    "-----\n",
    "\n",
    "<a id=\"pxml\"></a>\n",
    "\n",
    "<b><h2>5 Parse the XML response</h2></b>  \n",
    "</div>"
   ]
  },
  {
   "cell_type": "markdown",
   "metadata": {},
   "source": [
    "There are many ways to parse an XML string using Python, but here is how I went about it\n",
    "\n",
    "##### 1. List all the tags in the XML document "
   ]
  },
  {
   "cell_type": "code",
   "execution_count": null,
   "metadata": {},
   "outputs": [],
   "source": [
    "# Get all tags\n",
    "tags = [elem.tag for elem in resp2_root.iter()]\n",
    "# Remove duplicates\n",
    "tags = list(dict.fromkeys(tags))\n",
    "# Print all the available element keys\n",
    "print(tags)"
   ]
  },
  {
   "cell_type": "markdown",
   "metadata": {},
   "source": [
    "##### 2. I'm interested in the Transcript elements, what's in them?"
   ]
  },
  {
   "cell_type": "code",
   "execution_count": null,
   "metadata": {},
   "outputs": [],
   "source": [
    "for tx in resp2_root.iter('Transcript'):\n",
    "    print(tx.attrib)\n",
    "    # Note, to keep the output short by only printing the first element\n",
    "    break"
   ]
  },
  {
   "cell_type": "markdown",
   "metadata": {},
   "source": [
    "##### 3. The element data have been parsed into a dictionary. Let's pretty print"
   ]
  },
  {
   "cell_type": "code",
   "execution_count": null,
   "metadata": {},
   "outputs": [],
   "source": [
    "for tx in resp2_root.iter('Transcript'):\n",
    "    print(json.dumps(tx.attrib, sort_keys=True, indent=4, separators=(',', ': ')))\n",
    "    # Note, to keep the output short by only printing the first element\n",
    "    break"
   ]
  },
  {
   "cell_type": "markdown",
   "metadata": {},
   "source": [
    "##### 4. I'm interested in the Translation elements, what's in them?"
   ]
  },
  {
   "cell_type": "code",
   "execution_count": null,
   "metadata": {},
   "outputs": [],
   "source": [
    "for prot in resp2_root.iter('Translation'):\n",
    "    print(json.dumps(prot.attrib, sort_keys=True, indent=4, separators=(',', ': ')))\n",
    "    # Note, to keep the output short by only printing the first element\n",
    "    break"
   ]
  },
  {
   "cell_type": "markdown",
   "metadata": {},
   "source": [
    "##### 5. So, we have two lists of dictionaries, can we iterate over them simultaneously?"
   ]
  },
  {
   "cell_type": "code",
   "execution_count": null,
   "metadata": {},
   "outputs": [],
   "source": [
    "# We use the zip function to iterate over the two lists simultaneously\n",
    "for tx, prot in zip(resp2_root.iter('Transcript'), resp2_root.iter('Translation')):\n",
    "    # We are testing whether the Parent of the current Protein elemement is the same as the id of the current transcript element \n",
    "    if tx.attrib['id'] == prot.attrib['Parent']:\n",
    "        print('True')\n",
    "    else:\n",
    "        print(tx.attrib['id'] + ' : ' + prot.attrib['Parent'])"
   ]
  },
  {
   "cell_type": "markdown",
   "metadata": {},
   "source": [
    "##### 6. That will not work, can we find a method that will and figure out why the above method will not?"
   ]
  },
  {
   "cell_type": "code",
   "execution_count": null,
   "metadata": {},
   "outputs": [],
   "source": [
    "# First loop through the Transcript elements\n",
    "for tx in resp2_root.iter('Transcript'):\n",
    "    # Set the ID of the current transcript element and create a blank protein dictionary\n",
    "    parent_id = tx.attrib['id']\n",
    "    tx_dict = tx.attrib\n",
    "    prot_dict = {}\n",
    "    # Internally, loop through the Translation records\n",
    "    for prot in resp2_root.iter('Translation'):\n",
    "        # If the Parent of the current Translation element is equal to the ID of the current Transcript elemment \n",
    "        if prot.attrib['Parent'] == parent_id:\n",
    "            # Assign the prot.attrib dictionary to the \n",
    "            prot_dict = prot.attrib\n",
    "            # Break out of the loop\n",
    "            break\n",
    "        else:\n",
    "            continue\n",
    "    # We want to check whether the correct Translation element has been pulled-out\n",
    "    # I am using a try statement here \n",
    "    try:\n",
    "        # I am using an assertion statement to test whether the IDs match\n",
    "        assert prot_dict['Parent'] == parent_id\n",
    "        print(True)\n",
    "    # If the assertion fails, I collect the exception and print some data\n",
    "    except KeyError:\n",
    "        #                               I suspect there are non-coding transcripts\n",
    "        print(tx.attrib['id'] + ' : ' + tx.attrib['biotype'])"
   ]
  },
  {
   "cell_type": "markdown",
   "metadata": {},
   "source": [
    "##### 7. Now we can iterate over the two lists of dictionaries, but we also need some gene information, i.e. the HGNC:ID"
   ]
  },
  {
   "cell_type": "code",
   "execution_count": null,
   "metadata": {},
   "outputs": [],
   "source": [
    "import re\n",
    "# Gene information in in the 'data' element\n",
    "for tx in resp2_root.iter('data'):\n",
    "    print(tx.attrib)\n",
    "    print('\\nThe HGNC:ID is?')\n",
    "    print(re.search('HGNC:\\d+', tx.attrib['description'])[0])\n",
    "    # Note, to keep the output short by only printing the first element\n",
    "    break"
   ]
  },
  {
   "cell_type": "markdown",
   "metadata": {},
   "source": [
    "[Return to top](#ers)\n",
    "\n",
    "-----\n",
    "\n",
    "<a id=\"exx\"></a>\n",
    "\n",
    "## 6 Exercises\n"
   ]
  },
  {
   "cell_type": "markdown",
   "metadata": {},
   "source": [
    "### Choose to use either JSON or XML returns for the following exercises"
   ]
  },
  {
   "cell_type": "markdown",
   "metadata": {},
   "source": [
    "<div class=\"alert alert-info\">\n",
    "\n",
    "### Exercise 1\n",
    "\n",
    "Now we have a loop that will ensure the transcript and protein data can be accurately iterated over, your task is to re-create the dictionary I created at the end of the Parse the JSON response section.\n",
    "\n",
    "When you have created the dictionary, can you think of a way of ensuring the dictionaries are equivalent?\n",
    "\n",
    "</div>"
   ]
  },
  {
   "cell_type": "code",
   "execution_count": null,
   "metadata": {},
   "outputs": [],
   "source": [
    "# Your code here"
   ]
  },
  {
   "cell_type": "markdown",
   "metadata": {},
   "source": [
    "<div class=\"alert alert-info\">\n",
    "\n",
    "### Exercise 2\n",
    "\n",
    "To complete an Ensembl reference sequence dictionary similar to the RefSeq dictionary you created in week_4, you will need to request sequence information. This information can be recovered from the [Sequence Endpoint](https://rest.ensembl.org/documentation/info/sequence_id)\n",
    "\n",
    "Requesting a translation/protein sequence and the relevant additional information *e.g.* the version number, is relatively straight forward. However, for coding transcript records we will need to also collect the CDS start and end positions.\n",
    "\n",
    "For any given coding transcript, it is possible to request the [complete cDNA](https://rest.ensembl.org/sequence/id/ENST00000380152?content-type=application/json;type=cdna) and also the [cds](https://rest.ensembl.org/sequence/id/ENST00000380152?content-type=application/json;type=cds) (coding sequence).\n",
    "\n",
    "Your task is to create a function which, for a coding transcript of your choice from the gene you were provided in week_4, requests the above information and prints the cDNA sequence, cds sequence, cds_start position and cds_end position to screen.\n",
    "\n",
    "</div>"
   ]
  },
  {
   "cell_type": "code",
   "execution_count": null,
   "metadata": {},
   "outputs": [],
   "source": [
    "# Your code here"
   ]
  },
  {
   "cell_type": "markdown",
   "metadata": {},
   "source": [
    "<div class=\"alert alert-info\">\n",
    "\n",
    "### Exercise 3\n",
    "\n",
    "Referring to the week_4 tutorials, use biopython to create and translate the RNA sequences for your chosen coding transcript, provided by the Ensembl REST API. Ensure the translation is equivalent in sequence to the translation ID (ENSP) for the coding transcript\n",
    "\n",
    "</div>"
   ]
  },
  {
   "cell_type": "code",
   "execution_count": null,
   "metadata": {},
   "outputs": [],
   "source": [
    "# Your code here"
   ]
  },
  {
   "cell_type": "markdown",
   "metadata": {},
   "source": [
    "[Return to top](#ers)\n",
    "\n",
    "-----\n",
    "\n",
    "<a id=\"sum\"></a>\n",
    "\n",
    "## Summary\n"
   ]
  },
  {
   "cell_type": "markdown",
   "metadata": {},
   "source": [
    "In this tutorial, we have learned how to request and make-sense-of data from the Ensembl REST API. We have requested data in both the JSON and XML formats and learned how to parse the returned data. We have also considered potential pitfalls of working with Ensembl data. \n",
    "\n",
    "We have also created the component parts required to create a function (similar to the function we produced in week_4) that displays Ensembl reference sequence data sourced directly from the Ensembl REST API. "
   ]
  },
  {
   "cell_type": "markdown",
   "metadata": {},
   "source": [
    "-----------------------------------------------------------\n",
    "\n",
    "#### Notebook details\n",
    "<br>\n",
    "<i>Notebook created by <strong>Dr. Pete Causey-Freeman</strong> with <strong>Frances Hooley</strong> \n",
    "    \n",
    "\n",
    "Publish date: October 2020<br>\n",
    "Review date: October 2021</i>\n",
    "\n",
    "Please give your feedback using the button below:\n",
    "\n",
    "<a class=\"typeform-share button\" href=\"https://form.typeform.com/to/YMpwLTNy\" data-mode=\"popup\" style=\"display:inline-block;text-decoration:none;background-color:#3A7685;color:white;cursor:pointer;font-family:Helvetica,Arial,sans-serif;font-size:18px;line-height:45px;text-align:center;margin:0;height:45px;padding:0px 30px;border-radius:22px;max-width:100%;white-space:nowrap;overflow:hidden;text-overflow:ellipsis;font-weight:bold;-webkit-font-smoothing:antialiased;-moz-osx-font-smoothing:grayscale;\" target=\"_blank\">Rate this notebook </a> <script> (function() { var qs,js,q,s,d=document, gi=d.getElementById, ce=d.createElement, gt=d.getElementsByTagName, id=\"typef_orm_share\", b=\"https://embed.typeform.com/\"; if(!gi.call(d,id)){ js=ce.call(d,\"script\"); js.id=id; js.src=b+\"embed.js\"; q=gt.call(d,\"script\")[0]; q.parentNode.insertBefore(js,q) } })() </script>"
   ]
  },
  {
   "cell_type": "code",
   "execution_count": null,
   "metadata": {},
   "outputs": [],
   "source": []
  }
 ],
 "metadata": {
  "kernelspec": {
   "display_name": "Python 3",
   "language": "python",
   "name": "python3"
  },
  "language_info": {
   "codemirror_mode": {
    "name": "ipython",
    "version": 3
   },
   "file_extension": ".py",
   "mimetype": "text/x-python",
   "name": "python",
   "nbconvert_exporter": "python",
   "pygments_lexer": "ipython3",
   "version": "3.7.3"
  }
 },
 "nbformat": 4,
 "nbformat_minor": 1
}
