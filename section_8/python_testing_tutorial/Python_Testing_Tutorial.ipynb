{
 "cells": [
  {
   "cell_type": "markdown",
   "metadata": {},
   "source": [
    "![alt text](./images/cover_b.png \"Title\")"
   ]
  },
  {
   "cell_type": "markdown",
   "metadata": {},
   "source": [
    "<br>\n",
    "<br>\n",
    "\n",
    "# Table of Contents\n",
    "- [Course Overview](#Python_Testing_Tutotial)\n",
    "- [Quotes](#quotes)\n",
    "- [Warm-up](#warm_up)\n",
    "- [Unit Testing](#unit_testing)\n",
    "- [Test Fixtures](#fixture_testing)\n",
    "- [Parameterized Testing](#parameterized_testing)\n",
    "- [Testing Command-Line Programs](#command_testing)\n",
    "- [Test Suites](#test_suites)\n",
    "- [Test Coverage](#test_coverage)\n",
    "- [Testing New Features](#new_features)\n",
    "- [Recap Puzzle](#recap)"
   ]
  },
  {
   "cell_type": "markdown",
   "metadata": {},
   "source": [
    "<br>\n",
    "<br>\n",
    "<a id=\"Python_Testing_Tutotial\"></a>\n",
    "\n",
    "# Python Testing Tutorial\n",
    "\n",
    "## Overview\n",
    "\n",
    "**This tutorial helps you learn about automated testing in Python 3 using the ```py.test``` framework**"
   ]
  },
  {
   "cell_type": "markdown",
   "metadata": {},
   "source": [
    "![alt text](images/mobydick.png \"Moby\")"
   ]
  },
  {
   "cell_type": "markdown",
   "metadata": {},
   "source": [
    "### Sources for this tutorial\n",
    "[github.com/krother/python_testing_tutorial](https://github.com/krother/python_testing_tutorial)\n",
    "\n",
    "### License\n",
    "Released under the conditions of a [Creative Commoms Attribution License 4.0](https://creativecommons.org/licenses/by/4.0/)\n",
    "\n",
    "### Contributors\n",
    "**Authors:** Kristian Rother, Magdalena Rother, Daniel Szoska\n",
    "\n",
    "**This notebook:** Peter Causey-Freeman, Lecturer healthcare sciences (clinical bioinformatics), The University of Manchester \n",
    "\n",
    "**(Other content as referenced)**\n",
    "\n",
    "<br>\n",
    "\n",
    "# Counting Words in Moby Dick\n",
    "\n",
    "## Moby Dick: Plot synopsis\n",
    "*Captain Ahab was vicious because Moby Dick, the white whale, had bitten off his leg. So the captain set sail for a hunt. For months he was searching the sea for the white whale. The captain finally attacked the whale with a harpoon. Unimpressed, the whale devoured captain, crew and ship. The whale won.*\n",
    "\n",
    "![alt text](images/counting.png \"MobyTick\")\n",
    "\n",
    "## Video overview"
   ]
  },
  {
   "cell_type": "code",
   "execution_count": 12,
   "metadata": {
    "hide_input": true,
    "init_cell": true,
    "scrolled": true
   },
   "outputs": [
    {
     "data": {
      "text/html": [
       "\n",
       "        <iframe\n",
       "            width=\"560\"\n",
       "            height=\"315\"\n",
       "            src=\"https://www.youtube.com/embed/EFPhnR5CZtc\"\n",
       "            frameborder=\"0\"\n",
       "            allowfullscreen\n",
       "        ></iframe>\n",
       "        "
      ],
      "text/plain": [
       "<IPython.lib.display.YouTubeVideo at 0x109fab898>"
      ]
     },
     "execution_count": 12,
     "metadata": {},
     "output_type": "execute_result"
    }
   ],
   "source": [
    "from IPython.display import YouTubeVideo\n",
    "# Youtube\n",
    "YouTubeVideo('EFPhnR5CZtc', width=560, height=315)"
   ]
  },
  {
   "cell_type": "markdown",
   "metadata": {},
   "source": [
    "## Course Objective\n",
    "Herman Melville's book *“Moby Dick”* describes the epic fight between the captain of a whaling ship and a whale. In the book, the whale wins by eating most of the other characters.\n",
    "\n",
    "**But does he also win by being mentioned more often?**\n",
    "\n",
    "In this course, you have a program that analyzes the text of Melville's book.\n",
    "\n",
    "**You will test whether the program works correctly?**\n",
    "\n",
    "\n",
    "## Why was this example selected?\n",
    "\n",
    "Three main reasons:\n",
    "\n",
    "* The implementation is simple enough for beginners.\n",
    "* Counting words easily yields different results (because of upper/lower case, special characters etc). \n",
    "* Therefore the program needs to be thoroughly tested."
   ]
  },
  {
   "cell_type": "markdown",
   "metadata": {},
   "source": [
    "<br>\n",
    "<br>\n",
    "<a id=\"quotes\"></a>\n",
    "\n",
    "# Quotes\n",
    "**\"Call me Ishmael\"** <br> Herman Melville, Moby Dick 1851\n",
    "\n",
    "----\n",
    "\n",
    "**\"UNTESTED == BROKEN\"** <br> Schlomo Shapiro, EuroPython 2014\n",
    "\n",
    "----\n",
    "\n",
    "**\"Code without tests is broken by design”** <br> Jacob Kaplan-Moss\n",
    "\n",
    "----\n",
    "\n",
    "**\"Everyone knows that debugging is twice as hard as writing a program in the first place. So if you're as clever as you can be when you write it, how will you ever debug it?\"** <br> Brian Kernighan, \"The Elements of Programming Style\", 2nd edition, chapter 2\n",
    "\n",
    "----\n",
    "\n",
    "**\"Pay attention to zeros. If there is a zero, someone will divide by it.\"** <br> Cem Kaner\n",
    "\n",
    "----\n",
    "\n",
    "**\"If you don’t care about quality, you can't meet any other requirement”** <br> Gerald M. Weinberg\n",
    "\n",
    "----\n",
    "\n",
    "**\"Testing shows the presence, not the absence of bugs.\"** <br> Edsger W. Dijkstra\n",
    "\n",
    "----\n",
    "\n",
    "**\"... we have as many testers as we have developers. And testers spend all their time testing, and developers spend half their time testing. We're more of a testing, a quality software organization than we're a software organization.\"** <br> Bill Gates (Information Week, May 2002)"
   ]
  },
  {
   "cell_type": "markdown",
   "metadata": {},
   "source": [
    "<br>\n",
    "<br>\n",
    "<a id=\"warm_up\"></a>\n",
    "\n",
    "# Warm-up\n",
    "## Group discussion?\n",
    "How do you know that your code works? (give answers in the next cell)"
   ]
  },
  {
   "cell_type": "markdown",
   "metadata": {},
   "source": [
    "*Give your answers in this cell\n",
    ".\n",
    ".\n",
    ".\n",
    ".\n",
    "."
   ]
  },
  {
   "cell_type": "markdown",
   "metadata": {
    "solution": "hidden",
    "solution_first": true
   },
   "source": [
    "<div class=\"alert alert-block alert-info\">\n",
    "    \n",
    "## How many words are in the following sentence?\n",
    "\n",
    "    The program works perfectly?\n",
    "\n",
    "You will probably agree, that the sentence contains **four words**, but your task is to count the words in the sentence using python\n",
    "\n",
    "<br>\n",
    "\n",
    "***note: all blue cells are exercises, so once you have had a go, click on the +/- to show/hide a possible solution***\n",
    "</div>"
   ]
  },
  {
   "cell_type": "code",
   "execution_count": 5,
   "metadata": {
    "solution": "hidden"
   },
   "outputs": [
    {
     "data": {
      "text/plain": [
       "4"
      ]
     },
     "execution_count": 5,
     "metadata": {},
     "output_type": "execute_result"
    }
   ],
   "source": [
    "# Create text string\n",
    "text_1 = \"The program works perfectly?\"\n",
    "# Split the string at white space characters\n",
    "list_1 = text_1.split()\n",
    "# Use Python to tell us how many words we have by calling the len function\n",
    "len(list_1)"
   ]
  },
  {
   "cell_type": "code",
   "execution_count": null,
   "metadata": {},
   "outputs": [],
   "source": [
    "# How many words in the following sentence?\n"
   ]
  },
  {
   "cell_type": "markdown",
   "metadata": {
    "solution": "hidden",
    "solution_first": true
   },
   "source": [
    "<div class=\"alert alert-block alert-info\">\n",
    "\n",
    "## How many words are in the next sentence?\n",
    "\n",
    "    That #§&%$* program still doesn't work!\\nI already de-bugged it 3 times, and still numpy.array keeps raising AttributeErrors.\\tWhat should I do?\n",
    "\n",
    "You may find the answer to this question less obvious. It depends on how precisely the special characters are interpreted.\n",
    "\n",
    "<br>\n",
    "\n",
    "Your task is to count the words in this sentence using python\n",
    "</div>"
   ]
  },
  {
   "cell_type": "code",
   "execution_count": 7,
   "metadata": {
    "solution": "hidden"
   },
   "outputs": [
    {
     "name": "stdout",
     "output_type": "stream",
     "text": [
      "output 1: 22\n",
      "output 2: 24\n"
     ]
    }
   ],
   "source": [
    "# Create text string\n",
    "text_2 = \"That #§&%$* program still doesn't work!\\nI already de-bugged it 3 times, and still numpy.array keeps raising AttributeErrors.\\tWhat should I do?\"\n",
    "# Split the string at white space characters\n",
    "list_2 = text_2.split()\n",
    "# Use Python to tell us how many words we have by calling the len function\n",
    "print(\"output 1: \" + str(len(list_2)))\n",
    "\n",
    "# Now use a regular expression to handle special characters\n",
    "import re\n",
    "list_3 = str((re.sub('\\W+',' ', text_2))).split()\n",
    "print(\"output 2: \" + str(len(list_3)))"
   ]
  },
  {
   "cell_type": "code",
   "execution_count": null,
   "metadata": {},
   "outputs": [],
   "source": [
    "# How many words in the second sentence?\n"
   ]
  },
  {
   "cell_type": "markdown",
   "metadata": {},
   "source": [
    "## Why use automated testing?\n",
    "The examples above shows that variations in your code  can produce different answers, so it is essential to ensure that the functions you create return the result(s) you are expecting. You will also want to ensure the function continues to return the correct result during ongoing development. \n",
    "\n",
    "This can be achieved using automated testing.\n",
    "\n",
    "Writing automated tests for your software helps you to:\n",
    "\n",
    "* get clear on what you want the program to do\n",
    "* identify gaps in the requirements\n",
    "* prove the presence of bugs (**not their absence!**)\n",
    "* help you during code refactoring"
   ]
  },
  {
   "cell_type": "markdown",
   "metadata": {},
   "source": [
    "<br>\n",
    "<br>\n",
    "<a id=\"unit_testing\"></a>\n",
    "\n",
    "# Unit Testing\n",
    "## What is Unit Testing?\n",
    "[Software Testing Fundamentals - Unit Testing](http://softwaretestingfundamentals.com/unit-testing/)\n",
    "## What is pytest?\n",
    "[pytest documentation](https://docs.pytest.org/en/latest/)\n",
    "\n",
    "## Testing code with PyCharm\n",
    "If you have been following the **\"Your First Python Application\"** PyCharm tutorials, in addition to following this notebook you may wish to perform the [testing](https://www.jetbrains.com/help/pycharm/testing-your-first-python-application.html) in this tutorial with PyCharm.\n",
    "\n",
    "## Unit Testing exercises"
   ]
  },
  {
   "cell_type": "markdown",
   "metadata": {},
   "source": [
    "<div class=\"alert alert-block alert-info\">\n",
    "\n",
    "### Exercise 1: Test a Python function\n",
    "\n",
    "The function **main()** in the module **word_counter.py** calculates the number of words in a text body. For instance, the following sentence contains **three** words:\n",
    "\n",
    "    Call me Ishmael\n",
    "\n",
    "<br>\n",
    "\n",
    "Your next task is to prove that the **TextCorpus** class calculates the number of words in the sentence correctly with **three**.\n",
    "\n",
    "Run the example test in **test_unit_test.py** with `pytest test_unit_test.py`\n",
    "    \n",
    "<br>\n",
    "\n",
    "*Note, although pytest is a Python module, it is invoked using a standard command line/command prompt terminal.\n",
    "\n",
    "<br>\n",
    "\n",
    "To invoke such commands, precede the command with the ! character, *i.e*\n",
    "\n",
    "`! pytest test_unit_test.py`\n",
    "</div>"
   ]
  },
  {
   "cell_type": "code",
   "execution_count": null,
   "metadata": {},
   "outputs": [],
   "source": [
    "# ! pytest test_unit_test.py\n"
   ]
  },
  {
   "cell_type": "markdown",
   "metadata": {
    "solution": "hidden",
    "solution_first": true
   },
   "source": [
    "<div class=\"alert alert-block alert-info\">\n",
    "\n",
    "**Oh no, that went wrong?**\n",
    "\n",
    "Look at the error produced by pytest and correct your command\n",
    "</div>"
   ]
  },
  {
   "cell_type": "code",
   "execution_count": null,
   "metadata": {
    "solution": "hidden"
   },
   "outputs": [],
   "source": [
    "# We are in the directory above tests. Since we are specifying a specific test file, we need to explicitely tell python where it is i.e. test/<script> or ./test/<script>\n",
    "! pytest test/test_unit_test.py"
   ]
  },
  {
   "cell_type": "code",
   "execution_count": null,
   "metadata": {},
   "outputs": [],
   "source": [
    "# Correct your command\n"
   ]
  },
  {
   "cell_type": "markdown",
   "metadata": {
    "solution": "hidden",
    "solution_first": true
   },
   "source": [
    "<div class=\"alert alert-block alert-info\">\n",
    "\n",
    "**Still not working - let's do some debugging!**\n",
    "\n",
    "<br>\n",
    "\n",
    "The error is telling us **No module named 'mobydick'**. \n",
    "\n",
    "<br>\n",
    "\n",
    "Use PyCharm to look at the project structure in Git and discuss what the problem might be (comment in the cell below marked Add comments here)\n",
    "\n",
    "</div>"
   ]
  },
  {
   "cell_type": "markdown",
   "metadata": {
    "solution": "hidden"
   },
   "source": [
    "The **mobydick** module is on the same level as the test files. Python cannot import these modules without explicit instructions as to where they might be found.\n",
    "\n",
    "There are several solutions, including adding directories to your python PATH. \n",
    "\n",
    "This is not a practical solution for portability though (*i.e. what happens if you want to run this tutorial from a different machine*)\n",
    "\n",
    "A better solution is to add additional code to your test scripts so that they can import the **mobydick** module"
   ]
  },
  {
   "cell_type": "code",
   "execution_count": null,
   "metadata": {},
   "outputs": [],
   "source": [
    "# Hint, run this command\n",
    "! echo $PATH"
   ]
  },
  {
   "cell_type": "markdown",
   "metadata": {},
   "source": [
    "**Add comments here:** \n"
   ]
  },
  {
   "cell_type": "markdown",
   "metadata": {
    "solution": "hidden"
   },
   "source": []
  },
  {
   "cell_type": "markdown",
   "metadata": {
    "solution": "hidden",
    "solution_first": true
   },
   "source": [
    "<div class=\"alert alert-block alert-info\">\n",
    "\n",
    "**Your next task is to add additional code (using PyCharm) to test_unit_test.py and run pytest again**\n",
    "\n",
    "<br>\n",
    "\n",
    "Remember, google and stackoverflow are your friends! *If at first you don't succeed, try, try and pytest again!*\n",
    "\n",
    "<br>\n",
    "\n",
    "***Remember to comment your code so you know what you have done and why!***\n",
    "\n",
    "</div>"
   ]
  },
  {
   "cell_type": "markdown",
   "metadata": {
    "solution": "hidden"
   },
   "source": [
    "**Possible solution**\n",
    "\n",
    "Add code that captures the **absolute file path** for the directory above **test_unit_test.py** and tell python to import the **mobydick** module from this directory\n",
    "\n",
    "For example, add the following before trying to import **mobydick**\n",
    "\n",
    "```python\n",
    "\"\"\"\n",
    "Additional code for Unit Testing Exercise 1\n",
    "    - The code allows python to import modules from the mobydick module\n",
    "\n",
    "Other possible solutions may include \n",
    "\n",
    ">>> from ../mobydick import\n",
    "\n",
    "but I have always had limited success with this approach\n",
    "\"\"\"\n",
    "\n",
    "import os\n",
    "parentdir = os.path.dirname(os.path.dirname(os.path.abspath(__file__)))\n",
    "os.sys.path.insert(0,parentdir)\n",
    "```"
   ]
  },
  {
   "cell_type": "code",
   "execution_count": null,
   "metadata": {},
   "outputs": [],
   "source": [
    "# Keep running this cell until your test is successful\n",
    "! pytest test/test_unit_test.py"
   ]
  },
  {
   "cell_type": "markdown",
   "metadata": {
    "solution": "hidden",
    "solution_first": true
   },
   "source": [
    "<div class=\"alert alert-block alert-info\">\n",
    "\n",
    "### Exercise 2: Test proves if code is broken\n",
    "\n",
    "The test in the module **test_failing_code.py** fails, because there is a bug in the function **word_counter.average_word_length()**. \n",
    "\n",
    "In the sentence\n",
    "\n",
    "    Call me Ishmael\n",
    "\n",
    "The words are **four, two,** and **seven** characters long. This gives an average of:\n",
    "\n",
    "    >>> (4 + 2 + 7) / 3.0\n",
    "    4.333333333333333\n",
    "\n",
    "<br>\n",
    "\n",
    "Fix the code in **test_broken_code.py**, and test it until the test passes.\n",
    "\n",
    "<br>\n",
    "\n",
    "*Note you will need to add code enabling **test_broken_code.py** to import the **mobydick** module*\n",
    "\n",
    "</div>"
   ]
  },
  {
   "cell_type": "markdown",
   "metadata": {
    "solution": "hidden"
   },
   "source": [
    "**Solution**\n",
    "\n",
    "```python\n",
    "\"\"\"\n",
    "The provided function in test_broken_code.py is correct\n",
    "\"\"\"\n",
    "class TestMobyDickBrokenCode:\n",
    "\n",
    "    def test_average_word_length(self):\n",
    "        \"\"\"Calculate average word length in a short sentence\"\"\"\n",
    "        text = TextCorpus(\"Call me Ishmael\")\n",
    "        assert round(text.average_word_length, 3) == 4.333\n",
    "        \n",
    "\"\"\"\n",
    "But there is a bug in mobydick.word_counter.py\n",
    "   - Refer to https://www.w3schools.com/python/ref_func_map.asp\n",
    "   - We need to convert the map object into a list\n",
    "\"\"\"\n",
    "    @property\n",
    "    def average_word_length(self):\n",
    "        \"\"\"Returns the average word length as a float.\"\"\"\n",
    "        lengths = map(len, self.text.split())\n",
    "        lengths = list(lengths)\n",
    "        return sum(lengths) / len(lengths)\n",
    "```"
   ]
  },
  {
   "cell_type": "code",
   "execution_count": null,
   "metadata": {
    "solution": "hidden"
   },
   "outputs": [],
   "source": [
    "# Keep running this cell until your test is successful\n",
    "! pytest test/test_broken_code.py"
   ]
  },
  {
   "cell_type": "markdown",
   "metadata": {
    "solution": "hidden",
    "solution_first": true
   },
   "source": [
    "<div class=\"alert alert-block alert-info\">\n",
    "\n",
    "### Exercise 3: Code proves if tests are broken\n",
    "\n",
    "The test in the module **test_broken_test.py** fails, because there is a bug in the test file.\n",
    "\n",
    "Your task is to fix the test, so that the test passes. \n",
    "\n",
    "</div>"
   ]
  },
  {
   "cell_type": "markdown",
   "metadata": {
    "solution": "hidden"
   },
   "source": [
    "**Solution**\n",
    "\n",
    "```python\n",
    "\"\"\"\n",
    "The words in the provided in the original test in test_broken_test.py do not match the test string\n",
    "\"\"\"\n",
    "\n",
    "class TestMobyDickBrokenTest:\n",
    "\n",
    "    def test_words(self):\n",
    "        \"\"\"The word attribute is a list\"\"\"\n",
    "        # words = ['my', 'name', 'is', 'ishmael']\n",
    "        words = ['Call', 'me', 'Ishmael']\n",
    "        text = TextCorpus('Call me Ishmael')\n",
    "        assert text.words == words\n",
    "```"
   ]
  },
  {
   "cell_type": "code",
   "execution_count": null,
   "metadata": {},
   "outputs": [],
   "source": [
    "# Keep running this cell until your test is successful\n",
    "! pytest test/test_broken_test.py"
   ]
  },
  {
   "cell_type": "markdown",
   "metadata": {
    "solution": "hidden",
    "solution_first": true
   },
   "source": [
    "<div class=\"alert alert-block alert-info\">\n",
    "\n",
    "### Exercise 4: Test border cases\n",
    "\n",
    "High quality tests cover many different situations. The most common situations for the program **word_counter.py** include:\n",
    "\n",
    "| test case | description | example input | expected output\n",
    "|-----------|-------------|---------------|-----------------\n",
    "| empty | input is valid, but empty | \"\" | 0\n",
    "| minimal | smallest reasonable input | \"whale\" | 1\n",
    "| typical | representative input | \"whale eats captain\" | 3\n",
    "| invalid | input is supposed to fail | 777 | *Exception raised*\n",
    "| maximum | largest reasonable input | *Melville's entire book* | *more than 200000*\n",
    "| sanity | program recycles its own output | *TextBody A created from another TextBody B* | *A equals B*\n",
    "| nasty | difficult example | \"That #~&%* program still doesn't work!\" | 6\n",
    "\n",
    "<br>\n",
    "\n",
    "Your task is to make all tests in **test_border_cases.py** pass.\n",
    "\n",
    "</div>"
   ]
  },
  {
   "cell_type": "markdown",
   "metadata": {
    "solution": "hidden"
   },
   "source": [
    "**Solution**\n",
    "\n",
    "```python\n",
    "class TestBorderCases:\n",
    "\n",
    "\"\"\"\n",
    "Code changes in test_border_cases.py are shown below with the failing code commented out\n",
    "\"\"\"\n",
    "\n",
    "   def test_empty(self):\n",
    "        \"\"\"Empty input works\"\"\"\n",
    "        text = TextCorpus('')\n",
    "        #assert text.n_words == _____\n",
    "        assert text.n_words == 0\n",
    "\n",
    "\n",
    "    def test_smallest(self):\n",
    "        \"\"\"Minimal string works.\"\"\"\n",
    "        text = TextCorpus(\"whale\")\n",
    "        #  _____ text.words == ['whale']\n",
    "        assert text.words == ['whale']\n",
    "\n",
    "    def test_typical(self):\n",
    "        \"\"\"Representative small input works.\"\"\"\n",
    "        text = TextCorpus(\"whale eats captain\")\n",
    "        # assert text.words == [_____, 'eats', 'captain']\n",
    "        assert text.words == ['whale', 'eats', 'captain']\n",
    "\n",
    "    def test_wrong_input(self):\n",
    "        \"\"\"Non-string doesn't work\"\"\"\n",
    "        # with pytest.raises(_____) as e_info:\n",
    "        with pytest.raises(TypeError) as e_info:\n",
    "            TextCorpus(777)\n",
    "\n",
    "    def test_biggest(self):\n",
    "        \"\"\"An entire book works.\"\"\"\n",
    "        #text = TextCorpus(open('mobydick_full.txt').read())\n",
    "        text = TextCorpus(open(parentdir+'/test/mobydick_full.txt').read())\n",
    "        #assert text._____ > 200000\n",
    "        assert text.n_words > 200000\n",
    "\n",
    "\n",
    "    def test_sanity(self):\n",
    "        \"\"\"Feed output of a class into itself\"\"\"\n",
    "        # text = TextCorpus(open('mobydick_full.txt').read())\n",
    "        text = TextCorpus(open(parentdir+'/test/mobydick_full.txt').read())\n",
    "        words_before = list(text.words)\n",
    "        copy = ' '.join(text.words)\n",
    "        text_after = TextCorpus(copy)\n",
    "        #assert words_before == _____\n",
    "        assert words_before == list(text_after.words)\n",
    "\n",
    "\n",
    "    def test_nasty(self):\n",
    "        \"\"\"Ugly data example works.\"\"\"\n",
    "        text = TextCorpus(\"\"\"That #~&%* program still doesn't work!\n",
    "    I already de-bugged it 3 times, and still numpy.array keeps throwing AttributeErrors.\n",
    "    What should I do?\"\"\")\n",
    "        # assert text.n_words == _____\n",
    "        assert text.n_words == 22\n",
    "```\n"
   ]
  },
  {
   "cell_type": "code",
   "execution_count": null,
   "metadata": {},
   "outputs": [],
   "source": [
    "# Keep running this cell until your test is successful\n",
    "! pytest test/test_border_cases.py"
   ]
  },
  {
   "cell_type": "markdown",
   "metadata": {},
   "source": [
    "<br>\n",
    "<br>\n",
    "<a id=\"fixture_testing\"></a>\n",
    "\n",
    "# Test fixtures\n",
    "## What are Test Fixtures?\n",
    "[Wikipedia - Test Fixtures](https://en.wikipedia.org/wiki/Test_fixture#Software)\n",
    "\n",
    "[pytest fixtures](https://docs.pytest.org/en/latest/fixture.html)"
   ]
  },
  {
   "cell_type": "markdown",
   "metadata": {
    "solution": "hidden",
    "solution_first": true
   },
   "source": [
    "<div class=\"alert alert-block alert-info\">\n",
    "\n",
    "\n",
    "### Exercise 1: A module for test data\n",
    "\n",
    "Create a new module **conftest.py** with a string variable that contains a sentence with lots of special characters:\n",
    "\n",
    "    sample = \"\"\"That #§&%$* program still doesn't work!\n",
    "    I already de-bugged it 3 times, and still numpy.array keeps raising AttributeErrors. What should I do?\"\"\"\n",
    "\n",
    "Create a function that returns a **mobydick.TextCorpus** object with the sample text above. Use the following as a header:\n",
    "\n",
    "    @pytest.fixture\n",
    "    def sample_corpus():\n",
    "        ...\n",
    "\n",
    "***Remember, you will need to import modules which will be used by your new module***\n",
    "\n",
    "</div>"
   ]
  },
  {
   "cell_type": "markdown",
   "metadata": {
    "solution": "hidden"
   },
   "source": [
    "**Solution**\n",
    "\n",
    "```python\n",
    "\"\"\"\n",
    "Text Fixtures Exercise 1\n",
    "Example of conftest.py\n",
    "\"\"\"\n",
    "\n",
    "\"\"\"\n",
    "Required at the top of every script since we are only setting in local scope\n",
    "\"\"\"\n",
    "import os\n",
    "parentdir = os.path.dirname(os.path.dirname(os.path.abspath(__file__)))\n",
    "os.sys.path.insert(0,parentdir)\n",
    "\n",
    "from mobydick import TextCorpus, count_word\n",
    "\n",
    "\"\"\"\n",
    "Pytest will also need to be imported\n",
    "\"\"\"\n",
    "import pytest\n",
    "\n",
    "sample = \"\"\"That #§&%$* program still doesn't work! I already de-bugged it 3 times, and still numpy.array keeps raising\n",
    " AttributeErrors. What should I do?\"\"\"\n",
    "\n",
    "@pytest.fixture\n",
    "def sample_corpus():\n",
    "    text = TextCorpus(sample)\n",
    "    return text\n",
    "```"
   ]
  },
  {
   "cell_type": "markdown",
   "metadata": {
    "solution": "hidden",
    "solution_first": true
   },
   "source": [
    "<div class=\"alert alert-block alert-info\">\n",
    "\n",
    "\n",
    "### Exercise 2: Using the fixture\n",
    "\n",
    "Now create a module **test_sample.py** with a function that uses the fixture:\n",
    "\n",
    "    def test_sample_text(sample_corpus):\n",
    "        assert sample_corpus.n_words == 22\n",
    "\n",
    "Execute the module with `pytest`. Note that you **do not** need to import **conftest**. Pytest does that automatically.\n",
    "\n",
    "</div>"
   ]
  },
  {
   "cell_type": "markdown",
   "metadata": {
    "solution": "hidden"
   },
   "source": [
    "**Solution**\n",
    "\n",
    "```python\n",
    "\n",
    "\"\"\"\n",
    "Text Fixtures Exercise 2\n",
    "Example of test_sample.py\n",
    "\"\"\"\n",
    "\n",
    "def test_sample_text(sample_corpus):\n",
    "    assert sample_corpus.n_words == 22\n",
    "\n",
    "```"
   ]
  },
  {
   "cell_type": "code",
   "execution_count": null,
   "metadata": {},
   "outputs": [],
   "source": [
    "# Keep running this cell until your test is successful\n",
    "! pytest test/test_sample.py"
   ]
  },
  {
   "cell_type": "markdown",
   "metadata": {
    "solution": "hidden",
    "solution_first": true
   },
   "source": [
    "<div class=\"alert alert-block alert-info\">\n",
    "\n",
    "\n",
    "### Exercise 3: Create more fixtures\n",
    "\n",
    "Create fixtures in your **conftest.py** module for the two text corpora in the files **mobydick_full.txt** and **mobydick_summary.txt** as well.\n",
    "\n",
    "<br>\n",
    "\n",
    "*Note: consider the file paths for these text files*\n",
    "\n",
    "</div>"
   ]
  },
  {
   "cell_type": "markdown",
   "metadata": {
    "solution": "hidden"
   },
   "source": [
    "**Solution**\n",
    "\n",
    "```python\n",
    "\n",
    "\"\"\"\n",
    "To conftest.py add the following 2 functions that replace the sample corpus with the text from mobydick summary and full-text\n",
    "\n",
    "- Note the absolute filepath must be provided within the file open statement\n",
    "\"\"\"\n",
    "\n",
    "@pytest.fixture\n",
    "def full_text_corpus():\n",
    "    text = TextCorpus(open(parentdir + '/test/mobydick_full.txt').read())\n",
    "    return text\n",
    "\n",
    "@pytest.fixture\n",
    "def summary_text_corpus():\n",
    "    text = TextCorpus(open(parentdir + '/test/mobydick_summary.txt').read())\n",
    "    return text\n",
    "\n",
    "```"
   ]
  },
  {
   "cell_type": "markdown",
   "metadata": {
    "solution": "hidden",
    "solution_first": true
   },
   "source": [
    "<div class=\"alert alert-block alert-info\">\n",
    "\n",
    "### Exercise 4: Fixtures from fixtures\n",
    "\n",
    "In the following section we will make use of the word_counter function. Create a fixture in **conftest.py** that uses another fixture in **conftest.py**:\n",
    "\n",
    "```python\n",
    "from mobydick import count_word\n",
    "    \n",
    "    @pytest.fixture\n",
    "    def counter(summary_text_corpus):\n",
    "        return count_word(summary_text_corpus, 'whale')\n",
    "```\n",
    "\n",
    "Write a simple test in your **test_sample.py*** module that makes sure the ***return*** from the fixture `is not None`\n",
    "\n",
    "</br>\n",
    "\n",
    "Execute the module with `pytest`.\n",
    "</div>"
   ]
  },
  {
   "cell_type": "markdown",
   "metadata": {
    "solution": "hidden"
   },
   "source": [
    "**Solution**\n",
    "\n",
    "```python\n",
    "\"\"\"\n",
    "To conftest.py add the code from the notebook\n",
    "\"\"\"\n",
    "@pytest.fixture\n",
    "def counter(summary_text_corpus):\n",
    "    return count_word(summary_text_corpus, 'whale')\n",
    "\n",
    "\"\"\"\n",
    "To test_sample.py add a test to test the fixture created in conftest.py\n",
    "\"\"\"\n",
    "def test_counter(counter):\n",
    "    assert counter is not None\n",
    "    \n",
    "```"
   ]
  },
  {
   "cell_type": "code",
   "execution_count": null,
   "metadata": {},
   "outputs": [],
   "source": [
    "# Keep running this cell until your test is successful\n",
    "! pytest test/test_sample.py"
   ]
  },
  {
   "cell_type": "markdown",
   "metadata": {
    "solution": "shown"
   },
   "source": [
    "<br>\n",
    "<br>\n",
    "<a id=\"parameterized_testing\"></a>\n",
    "\n",
    "# Parameterized Tests\n",
    "## What are Parameterized Tests?\n",
    "[Wikipedia - Unit Testing](https://en.wikipedia.org/wiki/Unit_testing)\n",
    "\n",
    "[pytest parameterizing tests](https://docs.pytest.org/en/latest/example/parametrize.html)"
   ]
  },
  {
   "cell_type": "markdown",
   "metadata": {
    "solution": "hidden",
    "solution_first": true
   },
   "source": [
    "<div class=\"alert alert-block alert-info\">\n",
    "\n",
    "### Exercise 1: Sets of example data\n",
    "\n",
    "You have a list of pairs (word, count) that apply to the text file **mobydick_summary.txt**:\n",
    "\n",
    "    PAIRS = [\n",
    "             ('months', 1),\n",
    "             ('whale', 3),\n",
    "             ('captain', 2),\n",
    "             ('white', 2),\n",
    "             ('harpoon', 0),\n",
    "             ('goldfish', 0)\n",
    "    ]\n",
    "\n",
    "We will create six tests from these samples.\n",
    "\n",
    "Instead of creating six tests manually, we will use the **test parametrization in pytest**. Edit the file **test_parameterized.py** and add the following decorator to the test function:\n",
    "\n",
    "```python\n",
    "@pytest.mark.parametrize('word, number', PAIRS)\n",
    "```\n",
    "\n",
    "<br>\n",
    "\n",
    "Add two arguments `word` and `number` to the function header and remove the assignments of `word` and `number` below.\n",
    "\n",
    "<br>\n",
    "\n",
    "Run the test and make sure all six tests pass. \n",
    "\n",
    "</div>"
   ]
  },
  {
   "cell_type": "markdown",
   "metadata": {
    "solution": "hidden"
   },
   "source": [
    "**Solution**\n",
    "\n",
    "```python\n",
    "\n",
    "\"\"\"\n",
    "Amended code for test_paremeterized.py\n",
    "   - Changes to the original code are hashed out\n",
    "\"\"\"\n",
    "import pytest\n",
    "\n",
    "# MOBYDICK_SUMMARY = open('mobydick_summary.txt').read()\n",
    "MOBYDICK_SUMMARY = open(parentdir+'/test/mobydick_summary.txt').read()\n",
    "\n",
    "PAIRS = [\n",
    "    ('months', 1),\n",
    "    ('whale', 3),\n",
    "    ('captain', 2),\n",
    "    ('white', 2),\n",
    "    ('harpoon', 0),\n",
    "    ('goldfish', 0)\n",
    "    ]\n",
    "\n",
    "@pytest.mark.parametrize('word, number', PAIRS)\n",
    "def test_check_word(word, number):\n",
    "    # word, number = PAIRS[0]\n",
    "    text = TextCorpus(MOBYDICK_SUMMARY)\n",
    "    assert count_word(text, word) == number\n",
    "\n",
    "```"
   ]
  },
  {
   "cell_type": "code",
   "execution_count": null,
   "metadata": {},
   "outputs": [],
   "source": [
    "# Keep running this cell until your test is successful\n",
    "! pytest test/test_parameterized.py"
   ]
  },
  {
   "cell_type": "markdown",
   "metadata": {
    "solution": "hidden",
    "solution_first": true
   },
   "source": [
    "<div class=\"alert alert-block alert-info\">\n",
    "\n",
    "### Exercise 2: Write another parameterized test\n",
    "\n",
    "The function **get_top_words()** calculates the most frequent words in a text corpus. It should produce the following top five results for the book **mobydick_full.txt**:\n",
    "\n",
    "| position | word |\n",
    "|----------|------|\n",
    "| 1. | the   |\n",
    "| 2. | of  |\n",
    "| 3. | and   |\n",
    "| 4. | a  |\n",
    "| 5. | to |\n",
    "\n",
    "\n",
    "<br>\n",
    "\n",
    "Write one parameterized test that checks these five positions.\n",
    "\n",
    "</div>"
   ]
  },
  {
   "cell_type": "markdown",
   "metadata": {
    "solution": "hidden"
   },
   "source": [
    "**Solution**\n",
    "\n",
    "```python\n",
    "\n",
    "\"\"\"\n",
    "To test_parameterized.py add\n",
    "\"\"\"\n",
    "\n",
    "RANKS = [\n",
    "    ('the', 1),\n",
    "    ('of', 2),\n",
    "    ('and', 3),\n",
    "    ('a', 4),\n",
    "    ('to', 5)\n",
    "    ]\n",
    "\n",
    "MOBYDICK_FULL = open(parentdir+'/test/mobydick_full.txt').read()\n",
    "\n",
    "@pytest.mark.parametrize('new_word, new_number', RANKS)\n",
    "def test_check_word(new_word, new_number):\n",
    "    text = TextCorpus(MOBYDICK_FULL)\n",
    "    top_words =  get_top_words(text, 5)\n",
    "    assert top_words[new_number-1][1] == new_word\n",
    "\n",
    "```"
   ]
  },
  {
   "cell_type": "code",
   "execution_count": null,
   "metadata": {},
   "outputs": [],
   "source": [
    "# Keep running this cell until your test is successful\n",
    "! pytest test/test_parameterized.py"
   ]
  },
  {
   "cell_type": "markdown",
   "metadata": {},
   "source": [
    "<br>\n",
    "<br>\n",
    "<a id=\"command_testing\"></a>\n",
    "\n",
    "# Testing Command-Line Programs"
   ]
  },
  {
   "cell_type": "markdown",
   "metadata": {
    "solution": "hidden",
    "solution_first": true
   },
   "source": [
    "<div class=\"alert alert-block alert-info\">\n",
    "\n",
    "### Exercise 1: Test a command-line application\n",
    "The program **word_counter.py** can be used from the command line to calculate the most frequent words, *e.g.* the top five words:\n",
    "\n",
    "```bash\n",
    "! python mobydick/word_counter.py test/mobydick_summary.txt 5```\n",
    "\n",
    "**User Acceptance**\n",
    "\n",
    "The ultimate test for any software is whether your users are able to do what they need to get done.\n",
    "\n",
    "<br>\n",
    "\n",
    "Your task is to *manually* use the program **word_counter.py** to find out whether Melville used *'whale'* or *'captain'* more frequently in the full text of the book *\"Moby Dick\"*.\n",
    "\n",
    "<br>\n",
    "\n",
    "*Hint: use the grep commandline function*\n",
    "\n",
    "<br>\n",
    "\n",
    "*The User Acceptance test cannot be replaced by a machine.*\n",
    "\n",
    "</div>"
   ]
  },
  {
   "cell_type": "code",
   "execution_count": 8,
   "metadata": {
    "solution": "hidden"
   },
   "outputs": [
    {
     "name": "stdout",
     "output_type": "stream",
     "text": [
      "whale 392\r\n"
     ]
    }
   ],
   "source": [
    "# Solution\n",
    "# Check how many times whale is used\n",
    "! python mobydick/word_counter.py test/mobydick_full.txt 100 | grep whale"
   ]
  },
  {
   "cell_type": "code",
   "execution_count": 1,
   "metadata": {
    "solution": "hidden"
   },
   "outputs": [],
   "source": [
    "# Solution\n",
    "# Check how many times whale is used\n",
    "! python mobydick/word_counter.py test/mobydick_full.txt 100 | grep captain"
   ]
  },
  {
   "cell_type": "code",
   "execution_count": null,
   "metadata": {},
   "outputs": [],
   "source": [
    "# Check how many times whale is used\n"
   ]
  },
  {
   "cell_type": "code",
   "execution_count": null,
   "metadata": {},
   "outputs": [],
   "source": [
    "# Check how many times whale is used\n"
   ]
  },
  {
   "cell_type": "markdown",
   "metadata": {},
   "source": [
    "<br>\n",
    "<br>\n",
    "<a id=\"test_suites\"></a>\n",
    "\n",
    "# Test Suites\n",
    "\n",
    "## What are Test Suites?\n",
    "[Wikipedia Test Suite](https://en.wikipedia.org/wiki/Test_suite)"
   ]
  },
  {
   "cell_type": "markdown",
   "metadata": {},
   "source": [
    "<div class=\"alert alert-block alert-info\">\n",
    "\n",
    "### Exercise 1: Test collection\n",
    "\n",
    "Run all tests written so far by simply typing\n",
    "\n",
    "```bash \n",
    "pytest \n",
    "```\n",
    "\n",
    "*Note: We have not yet looked in every one of out test scripts, so expect test failures!*\n",
    "\n",
    "</div>"
   ]
  },
  {
   "cell_type": "code",
   "execution_count": null,
   "metadata": {},
   "outputs": [],
   "source": [
    "# Run pytest\n",
    "! pytest"
   ]
  },
  {
   "cell_type": "markdown",
   "metadata": {},
   "source": [
    "<div class=\"alert alert-block alert-info\">\n",
    "\n",
    "### Exercise 2: Options\n",
    "\n",
    "Try some options of pytest:\n",
    "\n",
    "```bash\n",
    "pytest -v  # verbose output\n",
    "\n",
    "pytest -lf # re-run failed tests\n",
    "\n",
    "pytest -x  # stop on first failing test\n",
    "```\n",
    "\n",
    "</div>"
   ]
  },
  {
   "cell_type": "code",
   "execution_count": null,
   "metadata": {},
   "outputs": [],
   "source": [
    "# pytest -v\n"
   ]
  },
  {
   "cell_type": "code",
   "execution_count": null,
   "metadata": {},
   "outputs": [],
   "source": [
    "# pytest - lf\n"
   ]
  },
  {
   "cell_type": "code",
   "execution_count": null,
   "metadata": {},
   "outputs": [],
   "source": [
    "# pytest -x\n"
   ]
  },
  {
   "cell_type": "markdown",
   "metadata": {
    "solution": "hidden",
    "solution_first": true
   },
   "source": [
    "<div class=\"alert alert-block alert-info\">\n",
    "\n",
    "### Exercise 3: Fixing tests\n",
    "\n",
    "Fix the tests in **test_suite.py**\n",
    "\n",
    "<br>\n",
    "\n",
    "***To break this task down, try skipping to exercise 4 so you can isolate and fix tests individually***\n",
    "\n",
    "</div>"
   ]
  },
  {
   "cell_type": "markdown",
   "metadata": {
    "solution": "hidden"
   },
   "source": [
    "**Solution**\n",
    "\n",
    "```python\n",
    "\n",
    "\"\"\"\n",
    "Amendments to test_suite.py\n",
    "   - Code edits are hashed\n",
    "\"\"\"\n",
    "\n",
    "from mobydick import TextCorpus\n",
    "\n",
    "\n",
    "# MOBYDICK_SUMMARY = open('mobydick_summary.txt').read()\n",
    "MOBYDICK_SUMMARY = open(parentdir+'/test/mobydick_summary.txt').read()\n",
    "\n",
    "#class AverageWordLength:\n",
    "class TestAverageWordLength:\n",
    "\n",
    "    \"\"\"Tests for word_counter module.\"\"\"\n",
    "\n",
    "    def test_word_number(self):\n",
    "        \"\"\"Count words in a short sentence\"\"\"\n",
    "        text = TextCorpus(\"Call me Ishmael\")\n",
    "        assert text.n_words == 3\n",
    "\n",
    "    def test_average_words(self):\n",
    "        \"\"\"Simple average length.\"\"\"\n",
    "        text = TextCorpus(\"white whale\")\n",
    "        # assert text.get_average_word_length() == 5\n",
    "        assert text.average_word_length == 5\n",
    "\n",
    "    def tesl_average_words_complex(self):\n",
    "        \"\"\"Complex average length.\"\"\"\n",
    "        text = TextCorpus(MOBYDICK_SUMMARY)\n",
    "        self.assertAlmostEqual(text.get_average_word_length(), 4.0, 3)\n",
    "\n",
    "    def test_average_empty(self):\n",
    "        \"\"\"Tests behaviour when input is an empty string.\"\"\"\n",
    "        text = TextCorpus(\"\")\n",
    "        # assert text.get_average_word_length() == 0\n",
    "        with pytest.raises(ZeroDivisionError):\n",
    "            assert text.average_word_length == 0\n",
    "\n",
    "```"
   ]
  },
  {
   "cell_type": "code",
   "execution_count": null,
   "metadata": {},
   "outputs": [],
   "source": [
    "# Keep running this cell until your test is successful\n",
    "! pytest test/test_suite.py"
   ]
  },
  {
   "cell_type": "markdown",
   "metadata": {
    "solution": "hidden"
   },
   "source": [
    "<div class=\"alert alert-block alert-info\">\n",
    "\n",
    "### Exercise 4: Test selection\n",
    "\n",
    "Run only one test class\n",
    "\n",
    "    pytest test_suite.py::TestAverageWordLength\n",
    "    \n",
    "</div>"
   ]
  },
  {
   "cell_type": "code",
   "execution_count": null,
   "metadata": {},
   "outputs": [],
   "source": [
    "! pytest test/test_suite.py::TestAverageWordLength"
   ]
  },
  {
   "cell_type": "markdown",
   "metadata": {},
   "source": [
    "<div class=\"alert alert-block alert-info\">\n",
    "\n",
    "or a single test function:\n",
    "\n",
    "    pytest test_suite.py::TestAverageWordLength::test_average_words\n",
    "\n",
    "</div>"
   ]
  },
  {
   "cell_type": "code",
   "execution_count": null,
   "metadata": {},
   "outputs": [],
   "source": [
    "! pytest test/test_suite.py::TestAverageWordLength::test_average_words"
   ]
  },
  {
   "cell_type": "markdown",
   "metadata": {
    "solution": "hidden",
    "solution_first": true
   },
   "source": [
    "<div class=\"alert alert-block alert-info\">\n",
    "    \n",
    "### Exercise 5:\n",
    "\n",
    "Your next task is to run only the function **test_another.test_simple** from the test suite in **tests/** and to fix the test!\n",
    "\n",
    "</div>"
   ]
  },
  {
   "cell_type": "code",
   "execution_count": null,
   "metadata": {
    "solution": "hidden"
   },
   "outputs": [],
   "source": [
    "# Solution\n",
    "! pytest test/test_another.py::test_count_word_simple"
   ]
  },
  {
   "cell_type": "markdown",
   "metadata": {
    "solution": "hidden"
   },
   "source": [
    "**Solution**\n",
    "\n",
    "```python\n",
    "\n",
    "\"\"\"\n",
    "Amendments to test_another.py\n",
    " - Altered code is hashed out\n",
    " - As always, you will need to begin by telling python where to find the mobydick module\n",
    " - You will also need to provide the absolute paths for text files\n",
    "\"\"\"\n",
    "\n",
    "# from mobydick.word_counter import TextBody, WordCounter\n",
    "from mobydick.word_counter import TextCorpus as TextBody, count_word as WordCounter \n",
    "from nose.tools import assert_equal\n",
    "\n",
    "# MOBYDICK_SUMMARY = open('mobydick_summary.txt').read()\n",
    "MOBYDICK_SUMMARY = open(parentdir+'/test/mobydick_summary.txt').read()\n",
    "\n",
    "def test_count_word_simple():\n",
    "    \"\"\"Count word in a short text\"\"\"\n",
    "    text = TextBody(\"the white white whale\")\n",
    "    # counter = WordCounter(text)\n",
    "    counter = WordCounter(text, \"white\")\n",
    "    # assert_equal(counter.count_word(\"white\"), 2)\n",
    "    assert_equal(counter, 2)\n",
    "```"
   ]
  },
  {
   "cell_type": "code",
   "execution_count": null,
   "metadata": {},
   "outputs": [],
   "source": [
    "# Your answer here\n"
   ]
  },
  {
   "cell_type": "markdown",
   "metadata": {},
   "source": [
    "<br>\n",
    "<br>\n",
    "<a id=\"test_coverage\"></a>\n",
    "\n",
    "# Test Coverage\n",
    "\n",
    "For the next exercises, we need to install a small plugin:\n",
    "\n",
    "***Run the cell below***"
   ]
  },
  {
   "cell_type": "code",
   "execution_count": null,
   "metadata": {},
   "outputs": [],
   "source": [
    "! pip install pytest-cov"
   ]
  },
  {
   "cell_type": "markdown",
   "metadata": {},
   "source": [
    "<div class=\"alert alert-block alert-info\">\n",
    "\n",
    "### Exercise 1: Calculate Test Coverage\n",
    "\n",
    "Calculate the percentage of code covered by automatic tests:\n",
    "\n",
    "</div>"
   ]
  },
  {
   "cell_type": "code",
   "execution_count": null,
   "metadata": {},
   "outputs": [],
   "source": [
    "! pytest --cov"
   ]
  },
  {
   "cell_type": "markdown",
   "metadata": {},
   "source": [
    "<div class=\"alert alert-block alert-info\">\n",
    "\n",
    "### Exercise 2: Identify uncovered lines\n",
    "Find out which lines are not covered by tests. Execute\n",
    "\n",
    "</div>"
   ]
  },
  {
   "cell_type": "code",
   "execution_count": 2,
   "metadata": {},
   "outputs": [],
   "source": [
    "! coverage html"
   ]
  },
  {
   "cell_type": "markdown",
   "metadata": {
    "solution": "hidden",
    "solution_first": true
   },
   "source": [
    "<div class=\"alert alert-block alert-info\">\n",
    "\n",
    "And open the resulting **htmlcov/index.html** in a web browser.\n",
    "\n",
    "<br>\n",
    "\n",
    "*Note, the* ***index.html*** *file will be located in the directory* ***htmlcov*** *, and you will need to open your web browser and select `File > Open File` (or similar)*\n",
    "\n",
    "### Exercise 3: Increase test coverage\n",
    "\n",
    "Bring test coverage of **mobydick/word_counter.py** to 100%\n",
    "\n",
    "*Hint, is there a file in htmlcov that may show you the coverage of wordcounter.py?*\n",
    "\n",
    "<br>\n",
    "\n",
    "**Method:** \n",
    "1. Write a new test in **test_another.py** that determines whether the second word of the return is \"python\"\n",
    "2. Test the function using `pytest test/test_another.py::test_sys_count_words`\n",
    "3. Once the test passes, re-run the cells above to re-create the coverage html files\n",
    "\n",
    "*You will need to look at the python subprocess module, recommended useage `subprocess.test_call` and also to determine how to convert a bytes object into a string*\n",
    "\n",
    "</div>"
   ]
  },
  {
   "cell_type": "markdown",
   "metadata": {
    "solution": "hidden"
   },
   "source": [
    "**Solution**\n",
    "\n",
    "```python\n",
    "\n",
    "\"\"\"\n",
    "Additional function added to test_another.py\n",
    " - The code allows python to make a system call to the command line function in word_counter.py\n",
    "\"\"\"\n",
    "\n",
    "def test_sys_count_words():\n",
    "    \"\"\"Attempt to test if name=main statemtn in wordcounter.py\"\"\"\n",
    "    import subprocess\n",
    "    ret = subprocess.check_output([\"python\", \"mobydick/word_counter.py\", \"test/mobydick_full.txt\", \"10\"], cwd = parentdir)\n",
    "    ret2 = ret.decode()\n",
    "    assert ret2.split()[1]==\"python\"\n",
    "\n",
    " ```"
   ]
  },
  {
   "cell_type": "code",
   "execution_count": null,
   "metadata": {},
   "outputs": [],
   "source": [
    "# Keep running this cell until your test is successful then re-run the cells above to achieve 100% code coverage\n",
    "! pytest test/test_another.py::test_sys_count_words"
   ]
  },
  {
   "cell_type": "markdown",
   "metadata": {},
   "source": [
    "<br>\n",
    "<br>\n",
    "<a id=\"new_features\"></a>\n",
    "\n",
    "# Testing New Features"
   ]
  },
  {
   "cell_type": "markdown",
   "metadata": {
    "solution": "hidden",
    "solution_first": true
   },
   "source": [
    "<div class=\"alert alert-block alert-info\">\n",
    "\n",
    "### Exercise 1: Add new feature: special characters\n",
    "Add a new feature to the **word_counter.py** program. The program should remove special characters from the text before counting words.\n",
    "\n",
    "The test string is\n",
    "\n",
    "`\"That #§&%$* program still doesn't work!\\nI already de-bugged it 3 times, and still numpy.array keeps raising AttributeErrors.\\tWhat should I do?\"`\n",
    "\n",
    "<br>\n",
    "\n",
    "Your task is to prove that the new feature is working by adding a new test to `test_another.py` and running the following until the test is successful\n",
    "\n",
    "</div>"
   ]
  },
  {
   "cell_type": "markdown",
   "metadata": {
    "solution": "hidden"
   },
   "source": [
    "**Solution**\n",
    "\n",
    "```python\n",
    "\n",
    "\"\"\"\n",
    "Additional function added to word_coounter.py\n",
    "\"\"\"\n",
    "def special_character_handling(corpus):\n",
    "    import re\n",
    "    corpus.text = re.sub('\\W+',' ', corpus.text)\n",
    "    number = corpus.n_words\n",
    "    return number\n",
    "\n",
    "\n",
    "\"\"\"\n",
    "Additional test added to test_another.py\n",
    " - Remember, a new function has been created in word_counter.py so don't forget to import it!\n",
    "\"\"\"\n",
    "def test_special_character_handling():\n",
    "    \"\"\"Test a method for handling special characters\"\"\"\n",
    "    text = TextBody(\"That #§&%$* program still doesn't work!\\nI already de-bugged it 3 times, and still numpy.array keeps\" \\\n",
    "                  \" raising AttributeErrors.\\tWhat should I do?\")\n",
    "    counter = special_character_handling(text)\n",
    "    assert counter == 24\n",
    "\n",
    "```"
   ]
  },
  {
   "cell_type": "code",
   "execution_count": null,
   "metadata": {},
   "outputs": [],
   "source": [
    "# Keep running this cell until your test is successful\n",
    "! pytest test/test_another.py"
   ]
  },
  {
   "cell_type": "markdown",
   "metadata": {
    "solution": "hidden",
    "solution_first": true
   },
   "source": [
    "<div class=\"alert alert-block alert-info\">\n",
    "\n",
    "### Exercise 2: Add new feature: ignore case\n",
    "Add a new feature to the **word_counter.py** program. The program should ignore the case of words, e.g. *'captain'* and *'Captain'* should be counted as the same word.\n",
    "\n",
    "Your task is to prove that the new feature is working by adding an addition test to **test_another.py** and running the following until the test is successful\n",
    "\n",
    "</div>"
   ]
  },
  {
   "cell_type": "markdown",
   "metadata": {
    "solution": "hidden"
   },
   "source": [
    "**Solution**\n",
    "\n",
    "```python\n",
    "\n",
    "\"\"\"\n",
    "Additional function added to word_coounter.py\n",
    "\"\"\"\n",
    "def case_insensitive_comparison(corpus1, corpus2):\n",
    "    t1 = corpus1.text.lower()\n",
    "    t2 = corpus2.text.lower()\n",
    "    if t1 == t2:\n",
    "        return True\n",
    "    else:\n",
    "        return False\n",
    "\n",
    "\n",
    "\"\"\"\n",
    "Additional test added to test_another.py\n",
    " - Remember, a new function has been created in word_counter.py so don't forget to import it!\n",
    "\"\"\"\n",
    "def test_case_insensitive_comparison():\n",
    "    \"\"\"Test a method for handling special characters\"\"\"\n",
    "    text1 = TextBody(\"Captain\")\n",
    "    text2 = TextBody(\"captain\")\n",
    "    assert case_insensitive_comparison(text1, text2) is True\n",
    "    \n",
    "```"
   ]
  },
  {
   "cell_type": "code",
   "execution_count": null,
   "metadata": {},
   "outputs": [],
   "source": [
    "# Keep running this cell until your test is successful\n",
    "! pytest test/test_another.py"
   ]
  },
  {
   "cell_type": "markdown",
   "metadata": {
    "solution": "hidden",
    "solution_first": true
   },
   "source": [
    "<div class=\"alert alert-block alert-info\">\n",
    "\n",
    "### Exercise 3: Add new feature: word separators\n",
    "The program **word_counter.py** does separate words at spaces, but does it separate words at tabulators?\n",
    "\n",
    "The following sentence should also contain **four** words:\n",
    "\n",
    "    The\\tprogram\\tworks\\tperfectly.\n",
    "\n",
    "<br>\n",
    "\n",
    "Your task is to add a to determine whether the text is being split at tabulators by adding an additional function to **word_counter.py** and a test to **test_another.py** and running the following until the test is successful\n",
    "\n",
    "</div>"
   ]
  },
  {
   "cell_type": "markdown",
   "metadata": {
    "solution": "hidden"
   },
   "source": [
    "**Solution**\n",
    "\n",
    "```python\n",
    "\n",
    "\"\"\"\n",
    "Additional function added to word_coounter.py\n",
    "\"\"\"\n",
    "def word_separators(corpus):\n",
    "    nw1 = corpus.n_words\n",
    "    nw2 = special_character_handling(corpus)\n",
    "    if nw1 == nw2:\n",
    "        return [True, nw1]\n",
    "    else:\n",
    "        return [False, nw1]\n",
    "\n",
    "\n",
    "\"\"\"\n",
    "Additional test added to test_another.py\n",
    " - Remember, a new function has been created in word_counter.py so don't forget to import it!\n",
    "\"\"\"\n",
    "def test_word_separators():\n",
    "    \"\"\"Test a method for handling special characters\"\"\"\n",
    "    text = TextBody(\"The\\tprogram\\tworks\\tperfectly.\")\n",
    "    elements = word_separators(text)\n",
    "    assert elements[0] is True and elements[1] == 4\n",
    "    \n",
    "```"
   ]
  },
  {
   "cell_type": "code",
   "execution_count": null,
   "metadata": {},
   "outputs": [],
   "source": [
    "# Keep running this cell until your test is successful\n",
    "! pytest test/test_another.py"
   ]
  },
  {
   "cell_type": "markdown",
   "metadata": {},
   "source": [
    "<br>\n",
    "<br>\n",
    "<a id=\"recap\"></a>\n",
    "\n",
    "# Recap Puzzle"
   ]
  },
  {
   "cell_type": "markdown",
   "metadata": {
    "solution": "shown",
    "solution_first": true
   },
   "source": [
    "<div class=\"alert alert-block alert-info\">\n",
    "\n",
    "The rows in the table got messed up! \n",
    "Match the test strategies with the correct descriptions.\n",
    "\n",
    "| test strategy | description |\n",
    "|---------------|-------------|\n",
    "| 1. Unit Test | a. files and examples that help with testing |\n",
    "| 2. Acceptance Test  | b. collection of tests for a software package |\n",
    "| 3. Mock | c. relative amount of code tested |\n",
    "| 4. Fixture | d. tests a single module, class or function |\n",
    "| 5. Test suite | e. prepare tests and clean up afterwards |\n",
    "| 6. Test data | f. replaces a complex object to make testing simpler |\n",
    "| 7. Test coverage | g. tests functionality from the users point of view |\n",
    "\n",
    "</div>"
   ]
  },
  {
   "cell_type": "markdown",
   "metadata": {
    "solution": "shown"
   },
   "source": [
    "\n",
    "| test strategy | description |\n",
    "|---------------|-------------|\n",
    "| 1. Unit Test | d. tests a single module, class or function |\n",
    "| 2. Acceptance Test  | g. tests functionality from the users point of view | \n",
    "| 3. Mock | f. replaces a complex object to make testing simpler |\n",
    "| 4. Fixture | e. prepare tests and clean up afterwards |\n",
    "| 5. Test suite | b. collection of tests for a software package | \n",
    "| 6. Test data | a. files and examples that help with testing | \n",
    "| 7. Test coverage | c. relative amount of code tested |"
   ]
  },
  {
   "cell_type": "markdown",
   "metadata": {
    "solution": "shown"
   },
   "source": [
    "**Your answers here**\n",
    "\n",
    "\n"
   ]
  }
 ],
 "metadata": {
  "celltoolbar": "Initialization Cell",
  "kernelspec": {
   "display_name": "Python 3",
   "language": "python",
   "name": "python3"
  },
  "language_info": {
   "codemirror_mode": {
    "name": "ipython",
    "version": 3
   },
   "file_extension": ".py",
   "mimetype": "text/x-python",
   "name": "python",
   "nbconvert_exporter": "python",
   "pygments_lexer": "ipython3",
   "version": "3.7.3"
  }
 },
 "nbformat": 4,
 "nbformat_minor": 2
}
